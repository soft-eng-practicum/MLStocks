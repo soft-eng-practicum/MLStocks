{
 "cells": [
  {
   "cell_type": "markdown",
   "metadata": {},
   "source": [
    "# Introduction #\n",
    "\n",
    "### Who We Are and What We're Doing\n",
    "\n",
    "MLStocks (Jarrod Bailey, Samuel Berende, & Zehra Siddiqui) is a software development group from Dr. Cengiz Gunay's Software Development 2 class. Our semester long project waas to work with a real-world client and, using the requirements given to us by our client, create a product that meets the client's standards. For our specific project, we worked with Finance professor Dr. Atul Saxena to create a brief introductory tutorial on stock market security analysis."
   ]
  },
  {
   "cell_type": "markdown",
   "metadata": {},
   "source": [
    "### What is Stock Analysis?\n",
    "\n",
    " **Stock Analysis** is the examination of different market sectors (or the market as a whole) to try and predict what may happen in the future. "
   ]
  },
  {
   "cell_type": "markdown",
   "metadata": {},
   "source": [
    "### Our goal\n",
    "\n",
    "Our end goal in this project is to perform a stock analysis on different market sectors while also creating a tutorial for students interested in learning about stock analysis. The tutorial will start off from very basic concepts and principles, so even the most inexperienced student will be able to have a somewhat solid grasp on the concepts being taught. "
   ]
  },
  {
   "cell_type": "markdown",
   "metadata": {},
   "source": [
    "### Accessing the Tutorial Using Microsoft Azure\n",
    "\n",
    "In order to edit and run the exercises in this tutorial, you'll need to copy the tutorial over to your own account. \n",
    "Use this link to access the tutorial on Microsoft Azure: https://notebooks.azure.com/MLStocks/libraries/MLStocks\n",
    "Once you open the link, it'll take you this page. \n",
    "    <img src = \"https://i.imgur.com/mEcMmls.jpg\">"
   ]
  },
  {
   "cell_type": "markdown",
   "metadata": {},
   "source": [
    "Click the \"Sign In\" button at the top right and sign in with a Microsoft Account (or create one, if you don't have one already). Then, click the \"Clone\" button to copy over the tutorial into your own account. The following dialogue box show below will pop up. Click the blue \"Clone\" button to complete the process. \n",
    "<img src = \"https://i.imgur.com/Y8bEeqc.png\">\n"
   ]
  },
  {
   "cell_type": "markdown",
   "metadata": {},
   "source": [
    "Once the project has been cloned, click any of the Sections (preferably in order, if you're going through the tutorial) to open the folder. Once inside, it'll look like this:\n",
    "<img src = \"https://i.imgur.com/ezGXQxQ.png\">\n",
    "Click the file ending with a \".ipynb\" extension. This will open up Jupyter Notebook in a new tab. "
   ]
  },
  {
   "cell_type": "markdown",
   "metadata": {},
   "source": [
    "### Using Jupyter Notebook\n",
    "\n",
    "Jupyter Notebook is split into different \"blocks\" called \"cells\", and each cell can either be used to write text or code. The image below shows what a cell looks like, while you edit it. "
   ]
  },
  {
   "cell_type": "markdown",
   "metadata": {},
   "source": [
    "<img src=\"https://i.imgur.com/CmAaHbd.png\" alt = \"Jupyter Notebook cell\">\n",
    "\n",
    "The cell is surrounded by a green rectangle. You must identify each cell block as either \"Markdown\" for text or \"Code\", in order to run it. You can select whether it is a Markdown cell or a Code cell from the dropdown list shown below. \n",
    "\n",
    "<img src =\"https://i.imgur.com/JVBFMAT.png\" >\n",
    "\n",
    "Once you are done with a particular cell, you can click \"Run\" (shown in the image above, to the left of the dropdown list) to run that particular cell. \n",
    "\n",
    "If you're running multiple cells, click \"Cell\" from the options at the top of the page and then click \"Run All\". This is shown in the image below. \n",
    "\n",
    "<img src = \"https://i.imgur.com/Sqj6EW4.png\">\n",
    "\n"
   ]
  },
  {
   "cell_type": "markdown",
   "metadata": {},
   "source": [
    "**Remember to save your work as you go along!** To save a file, you can click the little disk icon in the corner, right under \"File\" shown in the image above. "
   ]
  }
 ],
 "metadata": {
  "kernelspec": {
   "display_name": "Python 3",
   "language": "python",
   "name": "python3"
  },
  "language_info": {
   "codemirror_mode": {
    "name": "ipython",
    "version": 3
   },
   "file_extension": ".py",
   "mimetype": "text/x-python",
   "name": "python",
   "nbconvert_exporter": "python",
   "pygments_lexer": "ipython3",
   "version": "3.6.4"
  }
 },
 "nbformat": 4,
 "nbformat_minor": 2
}
