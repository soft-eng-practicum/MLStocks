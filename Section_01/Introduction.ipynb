{
 "cells": [
  {
   "cell_type": "markdown",
   "metadata": {},
   "source": [
    "<p align=\"center\">\n",
    "  <img src=\"https://raw.githubusercontent.com/soft-eng-practicum/MLStocks/master/Cover_Image.png\" width=\"700\"/>\n",
    "</p>"
   ]
  },
  {
   "cell_type": "markdown",
   "metadata": {},
   "source": [
    "# Introduction \n",
    "\n",
    "## Who We Are and What We're Doing\n",
    "\n",
    "MLStocks (Jarrod Bailey, Samuel Berende, & Zehra Siddiqui) is a software development group from Dr. Cengiz Gunay's Software Development 2 class. Our semester long project was to work with a real-world client and develop a product based on their requirements that met certain criteria. For our specific project, we worked with Finance Professor Dr. Atul Saxena to create a brief introductory tutorial on stock market security analysis."
   ]
  },
  {
   "cell_type": "markdown",
   "metadata": {},
   "source": [
    "## Motivation\n",
    "\n",
    "In an open-ended manner our client wanted us to demonstrate useful financial analysis techniques. To fulfill this request, we created an introduction to stock analysis that covered a variety of data manipulation techniques through the Python programming language."
   ]
  },
  {
   "cell_type": "markdown",
   "metadata": {},
   "source": [
    "## Implementation \n",
    "\n",
    "The tutorial itself is structured and split up into multiple sections which are each represented by Jupyter Notebook document files.\n",
    "\n",
    "- Section 1: Project Introduction\n",
    "- Section 2: Python Basics\n",
    "- Section 3: Prerequisite Financial Information\n",
    "- Section 4: Numpy Library\n",
    "- Section 5: Pandas Library\n",
    "- Section 6: Plotting\n",
    "- Section 7: Financial Analysis on Historical Stock Data\n",
    "- Section 8: Trading Strategies\n",
    "- Section 9: Preprocessing and Feature Engineering\n",
    "- Section 10: Machine Learning\n",
    "\n",
    "Notebook documents are a combination of rich text descriptor elements, executable/interactable code, and the results from computations. All together these sections form a sequential tutorial series that will introduce the user to the basic concepts, principles, and techniques necessary for performing financial analysis."
   ]
  },
  {
   "cell_type": "markdown",
   "metadata": {},
   "source": [
    "## Access\n",
    "\n",
    "In order to interact with the notebook files a user must either install the Anaconda Python distribution on their local machine or access our Azure hosted repository remotely. "
   ]
  },
  {
   "cell_type": "markdown",
   "metadata": {},
   "source": [
    "## Anaconda\n",
    "\n",
    "<p align=\"center\">\n",
    "  <img src=\"https://repo.continuum.io/assets/img/logo.png\" width=\"500\"/>\n",
    "</p>\n",
    "\n",
    "https://www.anaconda.com/download/\n",
    "\n",
    "We recommend installing the Python 3 variant of this distribution as it installs the relevant Python programming language, Jupyter Notebook/JupyterLab, and other required packages. Once installed there should be an application called “Anaconda Navigator” that allows access to Jupyter Notebook and other applications. \n",
    "\n",
    "More Information: https://docs.anaconda.com/anaconda/navigator/ \n",
    "\n",
    "The project files can then be downloaded or cloned from this repository: https://github.com/soft-eng-practicum/MLStocks \n",
    "\n",
    "Additional resources on getting started: \n",
    "- https://www.dataquest.io/blog/jupyter-notebook-tutorial/\n",
    "- https://jupyter-notebook-beginner-guide.readthedocs.io/en/latest/\n",
    "- https://medium.com/codingthesmartway-com-blog/getting-started-with-jupyter-notebook-for-python-4e7082bd5d46\n",
    "- https://www.codecademy.com/articles/how-to-use-jupyter-notebooks\n",
    "- https://www.datacamp.com/community/tutorials/tutorial-jupyter-notebook\n",
    "\n",
    "It is recommended to review the links above in order to become familiar with the interactive computing notebook environment. \n",
    "\n",
    "Troubleshooting Tip: When trying to run a cell that contains import statements you may come across a “ModuleNotFoundError” that results from not having a required library installed. This can be fixed by opening the “Anaconda Prompt” application and running a pip install for the missing module. An alternative is to do a conda install."
   ]
  },
  {
   "cell_type": "markdown",
   "metadata": {},
   "source": [
    "## Microsoft Azure\n",
    "\n",
    "<p align=\"center\">\n",
    "      <img src=\"https://www.nasuni.com/wp-content/uploads/2016/04/azure.png\" width=\"500\"/>\n",
    "</p>\n",
    "\n",
    "In order to edit and run the exercises in this tutorial you'll need to copy the tutorial over to your own account. \n",
    "Use this link to access the tutorial on Microsoft Azure: https://notebooks.azure.com/MLStocks/libraries/MLStocks\n",
    "Once you open the link it'll take you this page. \n",
    "    \n",
    "<p align=\"center\">\n",
    "      <img src=\"https://github.com/soft-eng-practicum/MLStocks/blob/master/Section_01/Imgs/SignIn.jpg?raw=true\" />\n",
    "</p>"
   ]
  },
  {
   "cell_type": "markdown",
   "metadata": {},
   "source": [
    "Click the \"Sign In\" button at the top right and sign in with a Microsoft Account (or create one, if you don't have one already). Then, click the \"Clone\" button to copy over the tutorial into your own account. Afterwards the following dialogue box shown below will pop up. Click the blue \"Clone\" button to complete the process. \n",
    "\n",
    "<p align=\"center\">\n",
    "      <img src=\"https://github.com/soft-eng-practicum/MLStocks/blob/master/Section_01/Imgs/Clone.PNG?raw=true\" />\n",
    "</p>"
   ]
  },
  {
   "cell_type": "markdown",
   "metadata": {},
   "source": [
    "Once the project has been cloned, click any of the Sections (preferably in order, if you're going through the tutorial) to open the folder. Once inside, it'll look like this:\n",
    "\n",
    "<p align=\"center\">\n",
    "      <img src=\"https://github.com/soft-eng-practicum/MLStocks/blob/master/Section_01/Imgs/OpenSection.PNG?raw=true\" />\n",
    "</p>\n",
    "\n",
    "Click the file ending with a \".ipynb\" extension. This will open up a Jupyter Notebook in a new tab. "
   ]
  },
  {
   "cell_type": "markdown",
   "metadata": {},
   "source": [
    "## Using Jupyter Notebook\n",
    "\n",
    "Jupyter Notebooks are split into different \"blocks\" called \"cells,\" and each cell can either be used to write text or code. The image below shows what a cell looks like while you edit it. "
   ]
  },
  {
   "cell_type": "markdown",
   "metadata": {},
   "source": [
    "<p align=\"center\">\n",
    "    <img src=\"https://github.com/soft-eng-practicum/MLStocks/blob/master/Section_01/Imgs/Cell.PNG?raw=true\" alt = \"Jupyter Notebook cell\" />\n",
    "</p>\n",
    "\n",
    "\n",
    "The cell is surrounded by a green rectangle. You must identify each cell block as either \"Markdown\" for text or \"Code\" in order to run it. You can select whether it is a Markdown cell or a Code cell from the dropdown list shown below. \n",
    "\n",
    "<p align=\"center\">\n",
    "    <img src=\"https://github.com/soft-eng-practicum/MLStocks/blob/master/Section_01/Imgs/Heading.PNG?raw=true\" />\n",
    "</p>\n",
    "\n",
    "Once you are done with a particular cell you can click \"Run\" (shown in the image above, to the left of the dropdown list) to run that particular cell. \n",
    "\n",
    "If you want to run all cells click \"Cell\" from the options at the top of the page and then click \"Run All.\" This is shown in the image below. \n",
    "\n",
    "<p align=\"center\">\n",
    "    <img src=\"https://github.com/soft-eng-practicum/MLStocks/blob/master/Section_01/Imgs/Run.PNG?raw=true\" />\n",
    "</p>"
   ]
  },
  {
   "cell_type": "markdown",
   "metadata": {},
   "source": [
    "**Remember to save your work as you go along!** To save a file, you can click the little disk icon in the corner, right under \"File\" shown in the image above. "
   ]
  }
 ],
 "metadata": {
  "kernelspec": {
   "display_name": "Python 3",
   "language": "python",
   "name": "python3"
  },
  "language_info": {
   "codemirror_mode": {
    "name": "ipython",
    "version": 3
   },
   "file_extension": ".py",
   "mimetype": "text/x-python",
   "name": "python",
   "nbconvert_exporter": "python",
   "pygments_lexer": "ipython3",
   "version": "3.6.3"
  }
 },
 "nbformat": 4,
 "nbformat_minor": 2
}
