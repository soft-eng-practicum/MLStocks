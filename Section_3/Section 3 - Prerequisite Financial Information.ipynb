{
 "cells": [
  {
   "cell_type": "markdown",
   "metadata": {},
   "source": [
    "# Prerequisite Financial Information"
   ]
  },
  {
   "cell_type": "markdown",
   "metadata": {},
   "source": [
    "## What are Stocks?\n",
    "\n",
    "Stocks are a type of financial asset that gives those who hold stocks a share of fractional ownership in a company. Stockholders own shares issued by a corporation, and those shares represent a claim on the corporation’s assets and earnings. A company issues stock initially through what is known as an initial public offering. In this issuance a company goes from private owned to publicly traded and makes their stock available to the general public for buying and selling purposes (U.S. Securities and Exchange Commission, n.d.). "
   ]
  },
  {
   "cell_type": "markdown",
   "metadata": {},
   "source": [
    "## Why Companies Issue Stock?\n",
    "\n",
    "Companies issue stock primarily to raise capital. The reasons for needing an increase in funds will vary depending on the company. Some common reasons why companies raise money are that they want to expand operations, develop new products, hire more employees, create new facilities, or to finance other business operations. Even after the IPO if a company issues new stock it is done with the intent to raise additional capital (U.S. Securities and Exchange Commission, n.d.). "
   ]
  },
  {
   "cell_type": "markdown",
   "metadata": {},
   "source": [
    "## Why Purchase Stocks?\n",
    "\n",
    "Investors typically buy stocks that they believe will increase in value over time and thus experience capital appreciation. The opposite could occur, but the purchase is done with the expectation that the shares obtained will rise in value. While that growth may end at some point an investor will often times plans to sell their shares once they reach a certain price above what they originally purchased so that a positive return can be had. Stockholders may also receive income in the form of dividend payments from a company if that firm decides to distribute some of their earnings to investors. Stocks allow for the benefits of capital appreciation, but market fluctuations can influence a stock’s price in either direction so purchases of shares should be well researched prior to making an investment (The Securities Institute of America, Inc., 2015). "
   ]
  },
  {
   "cell_type": "markdown",
   "metadata": {},
   "source": [
    "## Types of Stocks\n",
    "\n",
    "Common stock and preferred stock are two types of stocks that a company can utilize. As the name implies, common stock is the more prevalent of the two types, and it allows the owner to experience appreciations/depreciations in value along with any dividends if applicable. Common stockholders can also vote on various company issues when the time comes. If a company goes bankrupt however, common stock owners will be the last to recover their capital. Preferred stockholders typically do not get to participate in any capital gains/losses or voting events. Their compensation comes in the form of predetermined dividend payments that are generally larger than those offered to common stockholders, and these payments are also more prioritized (Amadeo, 2017)."
   ]
  },
  {
   "cell_type": "markdown",
   "metadata": {},
   "source": [
    "## Stock Trading\n",
    "\n",
    "Stock exchanges are places were buyers and sellers can trade shares, and while they can be physical locations it is more common to see electronic trading platforms hosted by computers. In these markets a bid represents the desired price that a buyer is looking for, and an ask is the offer price a seller is willing to accept for a trade. The spread is the amount of difference between these two prices, and the smaller the spread the more liquidity the stock possess. In other words, how quickly the asset can be converted to cash by being bought or sold in the market. Quality markets are those that possess large sums of orders from both the bid and ask sides, have narrow bid-ask spreads, and high liquidity. The aggregated prices of various stocks can be consolidated into an index. Popular indices such as the Standard & Poor's 500 (S&P 500) are often used as a proxy for the U.S. stock market since it is a compilation of the 500 largest companies in the United States (Hayes, 2018). "
   ]
  },
  {
   "cell_type": "markdown",
   "metadata": {},
   "source": [
    "## Stock Valuation\n",
    "\n",
    "A stock’s price is influenced by the supply and demand fluctuations that occur within the market. If there is greater demand for an asset than there is supply then that will influence the price positively, and a decrease in price would occur if there was more supply than demand. Each individual share of a company is determined by dividing the overall market value of the company, or market capitalization, by the number of shares currently being held by shareholders otherwise known as shares outstanding. However, when it comes to evaluating a business’s intrinsic, or actual, value things become much more complex. Several tangible and intangible factors have to be taken into consideration such as the company’s assets, liabilities, cash flows, earnings, future performance, financial leverage, and capital structure. Depending on the evaluations performed an investor will have a certain excepted value for a company, and that will influence their investment decisions (Hayes, 2018).   "
   ]
  },
  {
   "cell_type": "markdown",
   "metadata": {},
   "source": [
    "More Information on the basics of stocks: https://www.investopedia.com/university/stocks/ "
   ]
  },
  {
   "cell_type": "markdown",
   "metadata": {},
   "source": [
    "Open – The opening price in a period of time.\n",
    "\n",
    "High – The highest price in a period of time.\n",
    "\n",
    "Low – The lowest price in a period of time.\n",
    "\n",
    "Close – The closing price in a period of time. \n",
    "\n",
    "Volume – The amount of shares bought/sold in a period of time. (The more volume the more people agree with the price of the stock)\n",
    "\n",
    "Adjusted Close – The closing price in a period of time that takes into account any corporate actions that took place prior to the next day.\n"
   ]
  },
  {
   "cell_type": "markdown",
   "metadata": {},
   "source": [
    "## References\n",
    "\n",
    "> Amadeo, K. (2017, November 21). What Are Stocks? Retrieved from thebalance.com: https://www.thebalance.com/what-are-stocks-3306181\n",
    "\n",
    "> Hayes, A. (2018). Stocks Basics: Valuing Stocks. Retrieved from investopedia.com: https://www.investopedia.com/university/stocks/stocks7.asp\n",
    "\n",
    "> The Securities Institute of America, Inc. (2015). C. Why Do People Buy Common Stock? By The Securities Institute of America, Inc. Retrieved from investopedia.com: https://www.investopedia.com/study-guide/series-99/chapters-13/chapter-1-what-security/c-why-do-people-buy-common-stock/\n",
    "\n",
    "> U.S. Securities and Exchange Commission. (n.d.). STOCKS. Retrieved from investor.gov: https://www.investor.gov/introduction-investing/basics/investment-products/stocks\n",
    "\n"
   ]
  },
  {
   "cell_type": "markdown",
   "metadata": {},
   "source": [
    "## CAPM\n",
    "\n",
    "Before getting into the details of explaining the Capital Asset Pricing Model (CAPM), it’s worth going over the assumptions that will be made beforehand. CAPM assumes that all investors have the same expectations, same information, same asset hold times, are price takers that can’t influence the market, can borrow and lend at the risk-free rate, that there are no taxes or transaction fees, asset quantities are fixed and given, and that all assets are perfectly divisible. With that said, this model is used specifically to calculate expected return, the amount you expect to lose or gain in an investment, for a financial asset using this equation ra = rf + Ba (rm-rf). \n",
    "\n",
    "As you can see the variable being calculated is ra , and as mentioned before that represents the return you expect to obtain whether it be a profit or a loss. The variable rf represents the risk-free rate which is the rate of return on an investment if it had zero risk. This rate can be thought of as the expected interest rate that one would receive from an investment with virtually no risk over some time period. However, as a rate of return the risk-free rate is more of a theoretical concept since some risk is always present due to inflation, and actual securities are susceptible to various environmental risks. In practice, the risk-free rate is usually denoted by the 10-year U.S. Treasury bond rate. The risk-free rate is also referred to as the minimum expected return as an investor would expect a greater return if they were to take on any additional risk past zero. This is part of the reason why the risk-free rate signifies the added compensation for the time value of money which is the idea that money now is worth more than money in the future. Ba represents the beta coefficient that measures the inherent risk in the market that is referred to as systematic risk. Statistically speaking, beta is used to represent the uncertainty of an assets change in value in comparison to market changes. Otherwise known as volatility.\n",
    "\n",
    "A beta value of one signifies that the asset changes price in the same way the market does. Beta values of more than one indicates increased volatility, above average market risk, and that changes in value are likely to be more pronounced when market fluctuations occur. Values less than one mean the opposite, and negative betas indicate a negative correlation with market changes. rm is simply the expected market return and, as the name implies, it represents the market’s rate of return. This is usually calculated by finding the rate of return for a common index such as the S&P 500. (rm-rf) is also known as the risk premium, and it is an estimate of the additional return an investor can expect to be compensated for when they participate in investing in the market. That is why the capital asset pricing model is used to show the relationship between an asset’s expected return and its systematic risk. Moreover, investors utilize the model in order to determine whether or not a security is worth the risk or not."
   ]
  },
  {
   "cell_type": "markdown",
   "metadata": {},
   "source": [
    "## Characteristics Line\n",
    "\n",
    "The characteristics line is a line of best fit when given stock returns plotted on the y-axis and market portfolio returns plotted on the x-axis. This linear regression’s slope represents the measured security’s volatility in relation to the market and is otherwise known as beta. If the characteristic line were to become stepper then that would represent an increase in the beta value, and thus an increase in its volatility and systematic risk. A beta value of one would mean that the security is in line with market movements, shows no volatility or systematic risk, and has a horizontal slope. The vertical intercept, 1.555 in the above example, is referred to as the share’s alpha. A positive alpha value shows that the security has outperformed the market while a negative alpha shows underperformance. In other words, the alpha indicates by what amount a particular security’s share price differs from market risk. "
   ]
  },
  {
   "cell_type": "markdown",
   "metadata": {},
   "source": [
    "## SML\n",
    "\n",
    "The security market line (SML) can be thought of as the capital asset pricing model in graph form. As such it shows a security’s expected return in relation to market risk, and visually displays if the asset is undervalued or overvalued. The x-axis uses betas for representing systematic risk, and the y-axis showcases expected return in percentage form. Since the y-intercept represents the risk-free rate, and the line itself is the expected market return, the market risk premium can be also be calculated from this graph. Any asset placed above the line, or fair price, is considered to be undervalued as it offers a return that offsets its intrinsic risk. On the other hand, if an asset falls below the line it is considered to be overvalued since its expected return doesn’t make up for its risky nature. An asset on the line would be appropriately priced as it takes into account the risk premium. Much like CAPM the SML chart is used to evaluate an asset’s worth based off of its expected return and risk level.  "
   ]
  },
  {
   "cell_type": "code",
   "execution_count": null,
   "metadata": {
    "collapsed": true
   },
   "outputs": [],
   "source": [
    "\n",
    "\n"
   ]
  }
 ],
 "metadata": {
  "kernelspec": {
   "display_name": "Python 3",
   "language": "python",
   "name": "python3"
  },
  "language_info": {
   "codemirror_mode": {
    "name": "ipython",
    "version": 3
   },
   "file_extension": ".py",
   "mimetype": "text/x-python",
   "name": "python",
   "nbconvert_exporter": "python",
   "pygments_lexer": "ipython3",
   "version": "3.6.3"
  }
 },
 "nbformat": 4,
 "nbformat_minor": 2
}
