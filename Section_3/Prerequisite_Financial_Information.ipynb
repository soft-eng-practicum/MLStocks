{
 "cells": [
  {
   "cell_type": "markdown",
   "metadata": {},
   "source": [
    "# Prerequisite Financial Information"
   ]
  },
  {
   "cell_type": "markdown",
   "metadata": {},
   "source": [
    "## What are Stocks?\n",
    "\n",
    "Stocks are a type of financial asset that gives those who hold stocks a share of fractional ownership in a company. Stockholders own shares issued by a corporation, and those shares represent a claim on the corporation’s assets and earnings. A company issues stock initially through what is known as an initial public offering. In this issuance a company goes from private owned to publicly traded and makes their stock available to the general public for buying and selling purposes (U.S. Securities and Exchange Commission, n.d.). "
   ]
  },
  {
   "cell_type": "markdown",
   "metadata": {},
   "source": [
    "## Why Companies Issue Stock?\n",
    "\n",
    "Companies issue stock primarily to raise capital. The reasons for needing an increase in funds will vary depending on the company. Some common reasons why companies raise money are that they want to expand operations, develop new products, hire more employees, create new facilities, or to finance other business operations. Even after the IPO if a company issues new stock it is done with the intent to raise additional capital (U.S. Securities and Exchange Commission, n.d.). "
   ]
  },
  {
   "cell_type": "markdown",
   "metadata": {},
   "source": [
    "## Why Purchase Stocks?\n",
    "\n",
    "Investors typically buy stocks that they believe will increase in value over time and thus experience capital appreciation. The opposite could occur, but the purchase is done with the expectation that the shares obtained will rise in value. While that growth may end at some point an investor will often times plans to sell their shares once they reach a certain price above what they originally purchased so that a positive return can be had. Stockholders may also receive income in the form of dividend payments from a company if that firm decides to distribute some of their earnings to investors. Stocks allow for the benefits of capital appreciation, but market fluctuations can influence a stock’s price in either direction so purchases of shares should be well researched prior to making an investment (The Securities Institute of America, Inc., 2015). "
   ]
  },
  {
   "cell_type": "markdown",
   "metadata": {},
   "source": [
    "## Types of Stocks\n",
    "\n",
    "Common stock and preferred stock are two types of stocks that a company can utilize. As the name implies, common stock is the more prevalent of the two types, and it allows the owner to experience appreciations/depreciations in value along with any dividends if applicable. Common stockholders can also vote on various company issues when the time comes. If a company goes bankrupt however, common stock owners will be the last to recover their capital. Preferred stockholders typically do not get to participate in any capital gains/losses or voting events. Their compensation comes in the form of predetermined dividend payments that are generally larger than those offered to common stockholders, and these payments are also more prioritized (Amadeo, 2017)."
   ]
  },
  {
   "cell_type": "markdown",
   "metadata": {},
   "source": [
    "## Stock Trading\n",
    "\n",
    "Stock exchanges are places were buyers and sellers can trade shares, and while they can be physical locations it is more common to see electronic trading platforms hosted by computers. In these markets a bid represents the desired price that a buyer is looking for, and an ask is the offer price a seller is willing to accept for a trade. The spread is the amount of difference between these two prices, and the smaller the spread the more liquidity the stock possess. In other words, how quickly the asset can be converted to cash by being bought or sold in the market. Quality markets are those that possess large sums of orders from both the bid and ask sides, have narrow bid-ask spreads, and high liquidity. The aggregated prices of various stocks can be consolidated into an index. Popular indices such as the Standard & Poor's 500 (S&P 500) are often used as a proxy for the U.S. stock market since it is a compilation of the 500 largest companies in the United States (Hayes, 2018). "
   ]
  },
  {
   "cell_type": "markdown",
   "metadata": {},
   "source": [
    "## Stock Valuation\n",
    "\n",
    "A stock’s price is influenced by the supply and demand fluctuations that occur within the market. If there is greater demand for an asset than there is supply then that will influence the price positively, and a decrease in price would occur if there was more supply than demand. Each individual share of a company is determined by dividing the overall market value of the company, or market capitalization, by the number of shares currently being held by shareholders otherwise known as shares outstanding. However, when it comes to evaluating a business’s intrinsic, or actual, value things become much more complex. Several tangible and intangible factors have to be taken into consideration such as the company’s assets, liabilities, cash flows, earnings, future performance, financial leverage, and capital structure. Depending on the evaluations performed an investor will have a certain excepted value for a company, and that will influence their investment decisions (Hayes, 2018).   "
   ]
  },
  {
   "cell_type": "markdown",
   "metadata": {},
   "source": [
    "More Information on the basics of stocks: https://www.investopedia.com/university/stocks/ "
   ]
  },
  {
   "cell_type": "markdown",
   "metadata": {},
   "source": [
    "Open – The opening price in a period of time.\n",
    "\n",
    "High – The highest price in a period of time.\n",
    "\n",
    "Low – The lowest price in a period of time.\n",
    "\n",
    "Close – The closing price in a period of time. \n",
    "\n",
    "Volume – The amount of shares bought/sold in a period of time. (The more volume the more people agree with the price of the stock)\n",
    "\n",
    "Adjusted Close – The closing price in a period of time that takes into account any corporate actions that took place prior to the next day.\n"
   ]
  },
  {
   "cell_type": "markdown",
   "metadata": {},
   "source": [
    "### Beta\n",
    "\n",
    "$\\beta$<sub>a</sub> represents the beta coefficient that measures the inherent risk in the market that is referred to as systematic risk. Statistically speaking, beta is used to represent the uncertainty of an assets change in value in comparison to market changes. Otherwise known as volatility. A beta value of one signifies that the asset changes price in the same way the market does so it is in line with market movements. Beta values of more than one indicates increased volatility, above average market risk, and that changes in value are likely to be more pronounced when market fluctuations occur. Values less than one mean the opposite, and negative betas indicate a negative correlation with market changes. "
   ]
  },
  {
   "cell_type": "markdown",
   "metadata": {},
   "source": [
    "## References\n",
    "\n",
    "> Amadeo, K. (2017, November 21). What Are Stocks? Retrieved from thebalance.com: https://www.thebalance.com/what-are-stocks-3306181\n",
    "\n",
    "> Hayes, A. (2018). Stocks Basics: Valuing Stocks. Retrieved from investopedia.com: https://www.investopedia.com/university/stocks/stocks7.asp\n",
    "\n",
    "> The Securities Institute of America, Inc. (2015). C. Why Do People Buy Common Stock? By The Securities Institute of America, Inc. Retrieved from investopedia.com: https://www.investopedia.com/study-guide/series-99/chapters-13/chapter-1-what-security/c-why-do-people-buy-common-stock/\n",
    "\n",
    "> U.S. Securities and Exchange Commission. (n.d.). STOCKS. Retrieved from investor.gov: https://www.investor.gov/introduction-investing/basics/investment-products/stocks\n",
    "\n"
   ]
  }
 ],
 "metadata": {
  "kernelspec": {
   "display_name": "Python 3",
   "language": "python",
   "name": "python3"
  },
  "language_info": {
   "codemirror_mode": {
    "name": "ipython",
    "version": 3
   },
   "file_extension": ".py",
   "mimetype": "text/x-python",
   "name": "python",
   "nbconvert_exporter": "python",
   "pygments_lexer": "ipython3",
   "version": "3.6.3"
  }
 },
 "nbformat": 4,
 "nbformat_minor": 2
}
