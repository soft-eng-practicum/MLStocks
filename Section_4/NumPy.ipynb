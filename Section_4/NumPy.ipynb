{
 "cells": [
  {
   "cell_type": "markdown",
   "metadata": {},
   "source": [
    "# NumPy Basics"
   ]
  },
  {
   "cell_type": "markdown",
   "metadata": {},
   "source": [
    "NumPy (Numerical Python) is an open source library for the Python programming language that is used to facilitate scientific computing and data analysis. The library allows for improved performance over native Python code due to the fact that a large percentage of NumPy is written in C, and fewer explicit loops are used in operations overall. At the center of this package there lies the NumPy array in addition to the complementary mathematical functions and tools that allows users to work with these objects. A NumPy array, or ndarray, is a uniform and multidimensional collection of elements that can be used to describing blocks of computer memory for future manipulation. Being able to convert information into numerical representations is fundamental to data science, and this data structure allows for the efficient storage and management of numerical arrays.\n",
    "\n",
    "More Information on NumPy: https://docs.scipy.org/doc/numpy-1.14.0/user/whatisnumpy.html"
   ]
  },
  {
   "cell_type": "markdown",
   "metadata": {},
   "source": [
    "## Efficiency of NumPy Arrays"
   ]
  },
  {
   "cell_type": "markdown",
   "metadata": {},
   "source": [
    "Adding Vectors (one-dimensional arrays)\n",
    "- Vector a = Squares of integers from 0 to n\n",
    "- Vector b = Cubes of integers from 0 to n"
   ]
  },
  {
   "cell_type": "code",
   "execution_count": 162,
   "metadata": {},
   "outputs": [
    {
     "name": "stdout",
     "output_type": "stream",
     "text": [
      "Pure Python elapsed time: 109248  microseconds\n",
      "NumPy elapsed time: 46058  microseconds\n"
     ]
    }
   ],
   "source": [
    "from datetime import datetime \n",
    "import numpy as np\n",
    "\n",
    "# Adding vectors using pure Python\n",
    "def sumWithPython(vectorSize):   \n",
    "    a = list(range(vectorSize))  \n",
    "    b = list(range(vectorSize))  \n",
    "    c = []\n",
    "    for i in list(range(len(a))):       \n",
    "        a[i] = i ** 2       \n",
    "        b[i] = i ** 3       \n",
    "        c.append(a[i] + b[i])\n",
    "    return c \n",
    "\n",
    "# Adding vectors using NumPy\n",
    "def sumWithNumpy(vectorSize):   \n",
    "    a = np.arange(vectorSize) ** 2   \n",
    "    b = np.arange(vectorSize) ** 3   \n",
    "    c = a + b\n",
    "    return c\n",
    "\n",
    "size = 1000000\n",
    "\n",
    "startTime = datetime.now()\n",
    "c = sumWithPython(size) \n",
    "pythonDelta = datetime.now() - startTime \n",
    "print(\"Pure Python elapsed time:\", str(pythonDelta.microseconds), \" microseconds\")\n",
    "\n",
    "startTime = datetime.now() \n",
    "c = sumWithNumpy(size) \n",
    "numpyDelta = datetime.now() - startTime \n",
    "print(\"NumPy elapsed time:\", str(numpyDelta.microseconds), \" microseconds\")"
   ]
  },
  {
   "cell_type": "markdown",
   "metadata": {},
   "source": [
    "## Array creation, data types, and other attributes of ndarray\n",
    "\n",
    "**Documentation: https://docs.scipy.org/doc/numpy-1.14.0/reference/index.html**"
   ]
  },
  {
   "cell_type": "code",
   "execution_count": 163,
   "metadata": {},
   "outputs": [
    {
     "data": {
      "text/plain": [
       "dtype('int32')"
      ]
     },
     "execution_count": 163,
     "metadata": {},
     "output_type": "execute_result"
    }
   ],
   "source": [
    "# Import NumPy\n",
    "import numpy as np\n",
    "\n",
    "# Display NumPy's built-in documentation.\n",
    "# np?\n",
    "\n",
    "# Create an array.\n",
    "array = np.arange(10)\n",
    "\n",
    "# Display its data type.\n",
    "array.dtype"
   ]
  },
  {
   "cell_type": "code",
   "execution_count": 164,
   "metadata": {},
   "outputs": [
    {
     "data": {
      "text/plain": [
       "array([0, 1, 2, 3, 4, 5, 6, 7, 8, 9])"
      ]
     },
     "execution_count": 164,
     "metadata": {},
     "output_type": "execute_result"
    }
   ],
   "source": [
    "# Display array.\n",
    "array"
   ]
  },
  {
   "cell_type": "code",
   "execution_count": 165,
   "metadata": {},
   "outputs": [
    {
     "data": {
      "text/plain": [
       "(10,)"
      ]
     },
     "execution_count": 165,
     "metadata": {},
     "output_type": "execute_result"
    }
   ],
   "source": [
    "# Display shape of array (one-dimensional).\n",
    "array.shape"
   ]
  },
  {
   "cell_type": "code",
   "execution_count": 166,
   "metadata": {},
   "outputs": [
    {
     "data": {
      "text/plain": [
       "array([[0, 1, 2, 3, 4],\n",
       "       [5, 6, 7, 8, 9]])"
      ]
     },
     "execution_count": 166,
     "metadata": {},
     "output_type": "execute_result"
    }
   ],
   "source": [
    "# Create a two by five two-dimensional array.\n",
    "twoDimArray = np.arange(10).reshape((2, 5))\n",
    "twoDimArray"
   ]
  },
  {
   "cell_type": "code",
   "execution_count": 167,
   "metadata": {},
   "outputs": [
    {
     "data": {
      "text/plain": [
       "(2, 5)"
      ]
     },
     "execution_count": 167,
     "metadata": {},
     "output_type": "execute_result"
    }
   ],
   "source": [
    "# 2x5 shape\n",
    "twoDimArray.shape"
   ]
  },
  {
   "cell_type": "code",
   "execution_count": 168,
   "metadata": {},
   "outputs": [
    {
     "name": "stdout",
     "output_type": "stream",
     "text": [
      "[[0 1 2 3 4]\n",
      " [0 1 2 3 4]]\n"
     ]
    },
    {
     "data": {
      "text/plain": [
       "(2, 5)"
      ]
     },
     "execution_count": 168,
     "metadata": {},
     "output_type": "execute_result"
    }
   ],
   "source": [
    "# Another way to create a multi-dimensional array.\n",
    "tda = np.array([np.arange(5), np.arange(5)]) \n",
    "print(tda)\n",
    "\n",
    "# Display the shape of the array.\n",
    "tda.shape"
   ]
  },
  {
   "cell_type": "markdown",
   "metadata": {},
   "source": [
    "**The array() function will create an array from the inputs so long as they are array-like objects.**"
   ]
  },
  {
   "cell_type": "code",
   "execution_count": 169,
   "metadata": {},
   "outputs": [],
   "source": [
    "# View array() function documentation\n",
    "# array?"
   ]
  },
  {
   "cell_type": "code",
   "execution_count": 170,
   "metadata": {},
   "outputs": [
    {
     "data": {
      "text/plain": [
       "array([1, 2, 3, 4, 5])"
      ]
     },
     "execution_count": 170,
     "metadata": {},
     "output_type": "execute_result"
    }
   ],
   "source": [
    "# Create array from Python list.\n",
    "np.array([1, 2, 3, 4, 5])"
   ]
  },
  {
   "cell_type": "code",
   "execution_count": 171,
   "metadata": {},
   "outputs": [
    {
     "name": "stdout",
     "output_type": "stream",
     "text": [
      "[1. 2. 3. 4. 5.]\n"
     ]
    },
    {
     "data": {
      "text/plain": [
       "dtype('float32')"
      ]
     },
     "execution_count": 171,
     "metadata": {},
     "output_type": "execute_result"
    }
   ],
   "source": [
    "# Specify data type upon creation.\n",
    "x = np.array([1, 2, 3, 4, 5], dtype='float32')\n",
    "print(x)\n",
    "x.dtype"
   ]
  },
  {
   "cell_type": "code",
   "execution_count": 172,
   "metadata": {},
   "outputs": [
    {
     "data": {
      "text/plain": [
       "array([ 0, 10, 20, 30, 40, 50, 60, 70, 80, 90])"
      ]
     },
     "execution_count": 172,
     "metadata": {},
     "output_type": "execute_result"
    }
   ],
   "source": [
    "# Creates an array that starts at 0 and ends at 100 going by 10.\n",
    "np.arange(0, 100, 10)"
   ]
  },
  {
   "cell_type": "code",
   "execution_count": 173,
   "metadata": {},
   "outputs": [
    {
     "data": {
      "text/plain": [
       "array([0.        , 0.11111111, 0.22222222, 0.33333333, 0.44444444,\n",
       "       0.55555556, 0.66666667, 0.77777778, 0.88888889, 1.        ])"
      ]
     },
     "execution_count": 173,
     "metadata": {},
     "output_type": "execute_result"
    }
   ],
   "source": [
    "# Creates an array of ten values evenly spaced between 0 and 1.\n",
    "np.linspace(0, 1, 10)"
   ]
  },
  {
   "cell_type": "code",
   "execution_count": 174,
   "metadata": {},
   "outputs": [
    {
     "data": {
      "text/plain": [
       "array([[1, 2, 2, 4, 0],\n",
       "       [1, 4, 4, 3, 1],\n",
       "       [2, 2, 4, 0, 4],\n",
       "       [3, 2, 2, 1, 1],\n",
       "       [2, 1, 3, 3, 0]])"
      ]
     },
     "execution_count": 174,
     "metadata": {},
     "output_type": "execute_result"
    }
   ],
   "source": [
    "# Create a 5x5 array of random integers from 0 to 5.\n",
    "np.random.randint(0, 5, (5, 5))"
   ]
  },
  {
   "cell_type": "code",
   "execution_count": 175,
   "metadata": {},
   "outputs": [
    {
     "data": {
      "text/plain": [
       "array([[-1.5263535 ,  0.95769227, -0.64439337, -0.33884374, -0.50790793],\n",
       "       [ 1.29051123,  2.09399953,  1.17231208,  1.2146431 , -0.48548899],\n",
       "       [ 0.00986596, -0.48109211, -0.39999843, -0.45388237,  0.30274371],\n",
       "       [ 0.15593379,  1.09698043, -1.13820226, -0.27714674, -0.90512326],\n",
       "       [-2.10062543, -1.94215049, -0.93516655,  0.65370888, -0.56461481],\n",
       "       [-1.23414128,  0.43355438,  0.16492617, -1.18735162,  0.42943835],\n",
       "       [ 0.67909232,  0.39775604, -0.26164618, -0.42964638,  2.00648395],\n",
       "       [-0.41362618,  0.14898142, -0.29176936, -0.60358076,  2.40216644],\n",
       "       [ 0.38028284,  0.44897653, -0.97568817, -0.13850516,  1.44084981],\n",
       "       [ 1.28434622,  0.5106246 , -0.43228005, -0.21144603, -1.01512728]])"
      ]
     },
     "execution_count": 175,
     "metadata": {},
     "output_type": "execute_result"
    }
   ],
   "source": [
    "# Create a 10x5 array of normally distributed random values with a mean of 0 and standard deviation of 1.\n",
    "np.random.normal(0, 1, (10, 5))"
   ]
  },
  {
   "cell_type": "code",
   "execution_count": 176,
   "metadata": {},
   "outputs": [
    {
     "data": {
      "text/plain": [
       "array([[[4, 8, 7, 1, 7],\n",
       "        [7, 4, 1, 6, 0],\n",
       "        [3, 0, 0, 6, 2],\n",
       "        [0, 8, 0, 1, 5],\n",
       "        [2, 6, 0, 1, 8]],\n",
       "\n",
       "       [[8, 3, 6, 4, 0],\n",
       "        [3, 7, 3, 5, 2],\n",
       "        [0, 2, 0, 6, 2],\n",
       "        [4, 4, 0, 1, 8],\n",
       "        [5, 1, 1, 0, 9]]])"
      ]
     },
     "execution_count": 176,
     "metadata": {},
     "output_type": "execute_result"
    }
   ],
   "source": [
    "# Creating a three-dimensional array of two 5x5 arrays with random integer values from 0 through 9.\n",
    "threeDimArray = np.random.randint(10, size=(2, 5, 5)) \n",
    "threeDimArray"
   ]
  },
  {
   "cell_type": "code",
   "execution_count": 177,
   "metadata": {},
   "outputs": [
    {
     "name": "stdout",
     "output_type": "stream",
     "text": [
      "Array Attributes\n",
      "\n",
      "Number of dimensions: 3\n",
      "Size of each dimension: (2, 5, 5)\n",
      "Total size of array: 50\n",
      "Size of each array element: 4 bytes\n",
      "Total size (in bytes) of the array: 200 bytes\n"
     ]
    }
   ],
   "source": [
    "print(\"Array Attributes\\n\")\n",
    "print(\"Number of dimensions:\", threeDimArray.ndim)\n",
    "print(\"Size of each dimension:\", threeDimArray.shape)\n",
    "print(\"Total size of array:\", threeDimArray.size)\n",
    "print(\"Size of each array element:\", threeDimArray.itemsize, \"bytes\")\n",
    "print(\"Total size (in bytes) of the array:\", threeDimArray.nbytes, \"bytes\")"
   ]
  },
  {
   "cell_type": "code",
   "execution_count": 178,
   "metadata": {},
   "outputs": [
    {
     "name": "stdout",
     "output_type": "stream",
     "text": [
      "[[4 8 7 1 7 7 4 1 6 0]\n",
      " [3 0 0 6 2 0 8 0 1 5]\n",
      " [2 6 0 1 8 8 3 6 4 0]\n",
      " [3 7 3 5 2 0 2 0 6 2]\n",
      " [4 4 0 1 8 5 1 1 0 9]]\n"
     ]
    }
   ],
   "source": [
    "# Reshaping array.\n",
    "print(threeDimArray.reshape(5, 10))"
   ]
  },
  {
   "cell_type": "markdown",
   "metadata": {
    "collapsed": true
   },
   "source": [
    "**More Information on array creation: https://docs.scipy.org/doc/numpy-1.14.0/user/basics.creation.html**"
   ]
  },
  {
   "cell_type": "markdown",
   "metadata": {
    "collapsed": true
   },
   "source": [
    "## Standard NumPy Data Types"
   ]
  },
  {
   "cell_type": "markdown",
   "metadata": {
    "collapsed": true
   },
   "source": [
    "| Type\t        | Description |\n",
    "|---------------|-------------|\n",
    "| ``bool_``     | Boolean (True or False) stored as a byte |\n",
    "| ``int_``      | Default integer type (same as C ``long``; normally either ``int64`` or ``int32``)| \n",
    "| ``intc``      | Identical to C ``int`` (normally ``int32`` or ``int64``)| \n",
    "| ``intp``      | Integer used for indexing (same as C ``ssize_t``; normally either ``int32`` or ``int64``)| \n",
    "| ``int8``      | Byte (-128 to 127)| \n",
    "| ``int16``     | Integer (-32768 to 32767)|\n",
    "| ``int32``     | Integer (-2147483648 to 2147483647)|\n",
    "| ``int64``     | Integer (-9223372036854775808 to 9223372036854775807)| \n",
    "| ``uint8``     | Unsigned integer (0 to 255)| \n",
    "| ``uint16``    | Unsigned integer (0 to 65535)| \n",
    "| ``uint32``    | Unsigned integer (0 to 4294967295)| \n",
    "| ``uint64``    | Unsigned integer (0 to 18446744073709551615)| \n",
    "| ``float_``    | Shorthand for ``float64``.| \n",
    "| ``float16``   | Half precision float: sign bit, 5 bits exponent, 10 bits mantissa| \n",
    "| ``float32``   | Single precision float: sign bit, 8 bits exponent, 23 bits mantissa| \n",
    "| ``float64``   | Double precision float: sign bit, 11 bits exponent, 52 bits mantissa| \n",
    "| ``complex_``  | Shorthand for ``complex128``.| \n",
    "| ``complex64`` | Complex number, represented by two 32-bit floats| \n",
    "| ``complex128``| Complex number, represented by two 64-bit floats| \n",
    "\n",
    "**Reference: https://github.com/jakevdp/PythonDataScienceHandbook/blob/master/notebooks/02.01-Understanding-Data-Types.ipynb**"
   ]
  },
  {
   "cell_type": "markdown",
   "metadata": {
    "collapsed": true
   },
   "source": [
    "## Selecting Elements\n",
    "\n",
    "**Documentation: https://docs.scipy.org/doc/numpy-1.14.0/reference/arrays.indexing.html**"
   ]
  },
  {
   "cell_type": "code",
   "execution_count": 179,
   "metadata": {},
   "outputs": [
    {
     "name": "stdout",
     "output_type": "stream",
     "text": [
      "2\n"
     ]
    }
   ],
   "source": [
    "# 1D Array\n",
    "x = np.array([1, 2, 3, 4])\n",
    "\n",
    "# Display index one.\n",
    "print(x[1])"
   ]
  },
  {
   "cell_type": "code",
   "execution_count": 180,
   "metadata": {},
   "outputs": [
    {
     "name": "stdout",
     "output_type": "stream",
     "text": [
      "1\n",
      "2\n",
      "3\n",
      "4\n"
     ]
    }
   ],
   "source": [
    "# 2D Array\n",
    "x = np.array([[1, 2], \n",
    "              [3, 4]])\n",
    "\n",
    "# Display element at certain indices.\n",
    "print(x[0, 0])\n",
    "print(x[0, 1])\n",
    "print(x[1, 0])\n",
    "print(x[1, 1])"
   ]
  },
  {
   "cell_type": "code",
   "execution_count": 181,
   "metadata": {},
   "outputs": [
    {
     "name": "stdout",
     "output_type": "stream",
     "text": [
      "[[[2 8]\n",
      "  [8 3]]\n",
      "\n",
      " [[9 9]\n",
      "  [8 7]]\n",
      "\n",
      " [[5 9]\n",
      "  [8 9]]] \n",
      "\n",
      "8\n",
      "9\n"
     ]
    }
   ],
   "source": [
    "# 3D Array\n",
    "x = np.random.randint(10, size=(3, 2, 2)) \n",
    "\n",
    "print(x, \"\\n\")\n",
    "\n",
    "# Display the first index of the second element in the 3rd array.\n",
    "print(x[2][1][0])\n",
    "\n",
    "print(x\n",
    "      [1] # 2nd array\n",
    "      [0] # First element\n",
    "      [1]) # Second index"
   ]
  },
  {
   "cell_type": "markdown",
   "metadata": {
    "collapsed": true
   },
   "source": [
    "## Subarrays"
   ]
  },
  {
   "cell_type": "code",
   "execution_count": 182,
   "metadata": {},
   "outputs": [
    {
     "name": "stdout",
     "output_type": "stream",
     "text": [
      "[0 1 2 3 4 5 6 7 8 9] \n",
      "\n",
      "First two elements:\n",
      " [0 1] \n",
      "\n",
      "Elements after index 4 including index 4:\n",
      " [4 5 6 7 8 9] \n",
      "\n",
      "Elements between indices 2 and 4 but not including 4:\n",
      " [2 3] \n",
      "\n",
      "Elements from index 2 to 7 by twos:\n",
      " [2 4 6] \n",
      "\n",
      "Reverse array:\n",
      " [9 8 7 6 5 4 3 2 1 0] \n",
      "\n"
     ]
    }
   ],
   "source": [
    "# 1D Array\n",
    "x = np.arange(10)\n",
    "print(x, \"\\n\")\n",
    "\n",
    "print(\"First two elements:\\n\", x[:2], \"\\n\")\n",
    "\n",
    "print(\"Elements after index 4 including index 4:\\n\", x[4:], \"\\n\")\n",
    "\n",
    "print(\"Elements between indices 2 and 4 but not including 4:\\n\", x[2:4], \"\\n\")\n",
    "\n",
    "print(\"Elements from index 2 to 7 by twos:\\n\", x[2:7:2], \"\\n\")\n",
    "\n",
    "print(\"Reverse array:\\n\", x[::-1], \"\\n\")"
   ]
  },
  {
   "cell_type": "code",
   "execution_count": 183,
   "metadata": {},
   "outputs": [
    {
     "name": "stdout",
     "output_type": "stream",
     "text": [
      "[[4 3 3 4 4 8]\n",
      " [5 7 3 7 9 4]\n",
      " [0 8 9 1 5 9]\n",
      " [9 2 6 4 6 0]] \n",
      "\n",
      "Two rows, four columns:\n",
      " [[4 3 3 4]\n",
      " [5 7 3 7]] \n",
      "\n",
      "First row:\n",
      " [4 3 3 4 4 8] \n",
      "\n",
      "Third column:\n",
      " [3 3 9 6] \n",
      "\n",
      "Reverse array:\n",
      " [[0 6 4 6 2 9]\n",
      " [9 5 1 9 8 0]\n",
      " [4 9 7 3 7 5]\n",
      " [8 4 4 3 3 4]] \n",
      "\n"
     ]
    }
   ],
   "source": [
    "# 2D Array\n",
    "x = np.random.randint(10, size=(4, 6))\n",
    "print(x, \"\\n\")\n",
    "\n",
    "print(\"Two rows, four columns:\\n\", x[:2, :4], \"\\n\")\n",
    "\n",
    "print(\"First row:\\n\", x[0, :], \"\\n\")\n",
    "\n",
    "print(\"Third column:\\n\", x[:, 2], \"\\n\")\n",
    "\n",
    "print(\"Reverse array:\\n\", x[::-1, ::-1], \"\\n\")"
   ]
  },
  {
   "cell_type": "markdown",
   "metadata": {
    "collapsed": true
   },
   "source": [
    "**Changing a value in a subarray will influence the parent array.**"
   ]
  },
  {
   "cell_type": "code",
   "execution_count": 184,
   "metadata": {},
   "outputs": [
    {
     "name": "stdout",
     "output_type": "stream",
     "text": [
      "Two rows, two columns sub array from x:\n",
      " [[4 3]\n",
      " [5 7]] \n",
      "\n",
      "[[ 4 11  3  4  4  8]\n",
      " [ 5  7  3  7  9  4]\n",
      " [ 0  8  9  1  5  9]\n",
      " [ 9  2  6  4  6  0]]\n"
     ]
    }
   ],
   "source": [
    "print(\"Two rows, two columns sub array from x:\\n\", x[:2, :2], \"\\n\")\n",
    "xSub = x[:2, :2]\n",
    "\n",
    "# Change element\n",
    "xSub[0, 1] = 11\n",
    "print(x)"
   ]
  },
  {
   "cell_type": "code",
   "execution_count": 185,
   "metadata": {},
   "outputs": [
    {
     "name": "stdout",
     "output_type": "stream",
     "text": [
      "[[[ 0  1  2  3  4]\n",
      "  [ 5  6  7  8  9]\n",
      "  [10 11 12 13 14]]\n",
      "\n",
      " [[15 16 17 18 19]\n",
      "  [20 21 22 23 24]\n",
      "  [25 26 27 28 29]]] \n",
      "\n",
      "Select every second elment from subarray x[0][0]:\n",
      " [0 2 4] \n",
      "\n",
      "Third column values from all 2D arrays (matrices):\n",
      " [[ 2  7 12]\n",
      " [17 22 27]] \n",
      "\n",
      "Second row values from all 2D arrays (matrices):\n",
      " [[ 5  6  7  8  9]\n",
      " [20 21 22 23 24]] \n",
      "\n",
      "First matrix, last column:\n",
      " [ 4  9 14] \n",
      "\n",
      "Last matrix, first column reversed:\n",
      " [25 20 15] \n",
      "\n"
     ]
    }
   ],
   "source": [
    "# 3D Array\n",
    "x = np.arange(30).reshape(2, 3, 5) \n",
    "print(x, \"\\n\")\n",
    "\n",
    "print(\"Select every second elment from subarray x[0][0]:\\n\", x[0, 0, ::2], \"\\n\")\n",
    "\n",
    "print(\"Third column values from all 2D arrays (matrices):\\n\", x[..., 2], \"\\n\")\n",
    "\n",
    "print(\"Second row values from all 2D arrays (matrices):\\n\", x[:, 1], \"\\n\")\n",
    "\n",
    "print(\"First matrix, last column:\\n\", x[0, : ,-1], \"\\n\")\n",
    "\n",
    "print(\"Last matrix, first column reversed:\\n\", x[-1, :: -1, 0], \"\\n\")"
   ]
  },
  {
   "cell_type": "markdown",
   "metadata": {
    "collapsed": true
   },
   "source": [
    "**Copying an array.**"
   ]
  },
  {
   "cell_type": "code",
   "execution_count": 186,
   "metadata": {},
   "outputs": [
    {
     "name": "stdout",
     "output_type": "stream",
     "text": [
      "[[[ 0  1  2]\n",
      "  [ 5  6  7]]\n",
      "\n",
      " [[15 16 17]\n",
      "  [20 21 22]]] \n",
      "\n",
      "[[[11  1  2]\n",
      "  [ 5  6  7]]\n",
      "\n",
      " [[15 16 17]\n",
      "  [20 21 22]]] \n",
      "\n",
      "[[[ 0  1  2  3  4]\n",
      "  [ 5  6  7  8  9]\n",
      "  [10 11 12 13 14]]\n",
      "\n",
      " [[15 16 17 18 19]\n",
      "  [20 21 22 23 24]\n",
      "  [25 26 27 28 29]]] \n",
      "\n"
     ]
    }
   ],
   "source": [
    "xSubCopy = x[:2, :2, :3].copy()\n",
    "print(xSubCopy, \"\\n\")\n",
    "\n",
    "# Change element\n",
    "xSubCopy[0][0][0] = 11\n",
    "print(xSubCopy, \"\\n\")\n",
    "\n",
    "# No influence on original\n",
    "print(x, \"\\n\")"
   ]
  },
  {
   "cell_type": "markdown",
   "metadata": {
    "collapsed": true
   },
   "source": [
    "## Array Reshaping\n",
    "\n",
    "**Documentation: https://docs.scipy.org/doc/numpy/reference/generated/numpy.reshape.html**"
   ]
  },
  {
   "cell_type": "code",
   "execution_count": 187,
   "metadata": {},
   "outputs": [
    {
     "name": "stdout",
     "output_type": "stream",
     "text": [
      "[[[9 5 4 1]\n",
      "  [4 6 5 9]\n",
      "  [7 8 4 7]\n",
      "  [7 7 8 5]]\n",
      "\n",
      " [[8 3 4 0]\n",
      "  [9 1 7 9]\n",
      "  [4 5 0 0]\n",
      "  [4 8 0 4]]\n",
      "\n",
      " [[0 4 7 6]\n",
      "  [7 7 6 9]\n",
      "  [2 8 6 2]\n",
      "  [2 7 5 2]]\n",
      "\n",
      " [[4 3 0 6]\n",
      "  [7 0 0 1]\n",
      "  [1 8 0 8]\n",
      "  [8 3 9 5]]] \n",
      "\n",
      "[[9 5 4 1 4 6 5 9]\n",
      " [7 8 4 7 7 7 8 5]\n",
      " [8 3 4 0 9 1 7 9]\n",
      " [4 5 0 0 4 8 0 4]\n",
      " [0 4 7 6 7 7 6 9]\n",
      " [2 8 6 2 2 7 5 2]\n",
      " [4 3 0 6 7 0 0 1]\n",
      " [1 8 0 8 8 3 9 5]] \n",
      "\n"
     ]
    }
   ],
   "source": [
    "threeDimArray = np.random.randint(10, size=(4, 4, 4)) \n",
    "print(threeDimArray, \"\\n\")\n",
    "\n",
    "# Reshaping array.\n",
    "print(threeDimArray.reshape(8, 8), \"\\n\")"
   ]
  },
  {
   "cell_type": "code",
   "execution_count": 188,
   "metadata": {},
   "outputs": [
    {
     "name": "stdout",
     "output_type": "stream",
     "text": [
      "[[[7 5 3 6]\n",
      "  [4 4 6 8]\n",
      "  [7 3 7 2]\n",
      "  [1 2 2 1]]\n",
      "\n",
      " [[1 5 2 4]\n",
      "  [4 6 6 2]\n",
      "  [8 2 3 9]\n",
      "  [6 8 8 9]]] \n",
      "\n",
      "Shape:\n",
      " [[7 5 3 6 4 4 6 8]\n",
      " [7 3 7 2 1 2 2 1]\n",
      " [1 5 2 4 4 6 6 2]\n",
      " [8 2 3 9 6 8 8 9]] \n",
      "\n",
      "[[[2 8]\n",
      "  [4 0]\n",
      "  [3 8]]\n",
      "\n",
      " [[4 9]\n",
      "  [3 0]\n",
      "  [7 8]]] \n",
      "\n",
      "Resize:\n",
      " [[2 8 4 0 3 8]\n",
      " [4 9 3 0 7 8]]\n"
     ]
    }
   ],
   "source": [
    "# Other ways to reshape:\n",
    "# These modifiy the array they operate on.\n",
    "x = np.random.randint(10, size=(2, 4, 4)) \n",
    "print(x, \"\\n\")\n",
    "\n",
    "x.shape = (4, 8)\n",
    "print(\"Shape:\\n\", x, \"\\n\")\n",
    "\n",
    "y = np.random.randint(10, size=(2, 3, 2)) \n",
    "print(y, \"\\n\")\n",
    "\n",
    "y.resize((2, 6))\n",
    "print(\"Resize:\\n\", y)"
   ]
  },
  {
   "cell_type": "markdown",
   "metadata": {
    "collapsed": true
   },
   "source": [
    "**Flattening a multidimensional NumPy arrays results in a one-dimensional array.**"
   ]
  },
  {
   "cell_type": "code",
   "execution_count": 189,
   "metadata": {},
   "outputs": [
    {
     "name": "stdout",
     "output_type": "stream",
     "text": [
      "[[[4 3 6]\n",
      "  [2 7 5]\n",
      "  [5 0 7]]\n",
      "\n",
      " [[6 7 4]\n",
      "  [6 7 3]\n",
      "  [7 5 2]]\n",
      "\n",
      " [[8 8 2]\n",
      "  [5 1 2]\n",
      "  [4 7 3]]]\n"
     ]
    }
   ],
   "source": [
    "x = np.random.randint(10, size=(3, 3, 3)) \n",
    "print(x)"
   ]
  },
  {
   "cell_type": "code",
   "execution_count": 190,
   "metadata": {},
   "outputs": [
    {
     "name": "stdout",
     "output_type": "stream",
     "text": [
      "[4 3 6 2 7 5 5 0 7 6 7 4 6 7 3 7 5 2 8 8 2 5 1 2 4 7 3]\n"
     ]
    }
   ],
   "source": [
    "print(np.ravel(x))"
   ]
  },
  {
   "cell_type": "markdown",
   "metadata": {
    "collapsed": true
   },
   "source": [
    "**The flatten function does the same as ravel, but it always creates a new copy in memory in order to avoid modifying the original array.**"
   ]
  },
  {
   "cell_type": "code",
   "execution_count": 191,
   "metadata": {},
   "outputs": [
    {
     "name": "stdout",
     "output_type": "stream",
     "text": [
      "[9 6 8 3 0 6 3 4]\n"
     ]
    }
   ],
   "source": [
    "x = np.random.randint(10, size=(2, 2, 2)) \n",
    "print(x.flatten())"
   ]
  },
  {
   "cell_type": "markdown",
   "metadata": {
    "collapsed": true
   },
   "source": [
    "## Stacking\n",
    "\n",
    "**Documentation: https://docs.scipy.org/doc/numpy/reference/generated/numpy.concatenate.html**"
   ]
  },
  {
   "cell_type": "markdown",
   "metadata": {
    "collapsed": true
   },
   "source": [
    "**Horizontal stacking of arrays.**"
   ]
  },
  {
   "cell_type": "code",
   "execution_count": 192,
   "metadata": {},
   "outputs": [
    {
     "name": "stdout",
     "output_type": "stream",
     "text": [
      "[[5 8 8]\n",
      " [1 1 6]\n",
      " [8 7 0]] \n",
      "\n",
      "[[ 4  7  7]\n",
      " [ 0  0  5]\n",
      " [ 7  6 -1]] \n",
      "\n",
      "[[ 5  8  8  4  7  7]\n",
      " [ 1  1  6  0  0  5]\n",
      " [ 8  7  0  7  6 -1]]\n"
     ]
    }
   ],
   "source": [
    "x = np.random.randint(10, size=(3, 3)) \n",
    "y = x - 1\n",
    "\n",
    "# Stacks arrays horizontally. \n",
    "z = np.hstack((x, y))\n",
    "print(x, \"\\n\")\n",
    "print(y, \"\\n\")\n",
    "print(z)\n",
    "\n",
    "# concatenate((x, y), axis=1) does the same thing"
   ]
  },
  {
   "cell_type": "markdown",
   "metadata": {
    "collapsed": true
   },
   "source": [
    "**Vertical stacking of arrays.**"
   ]
  },
  {
   "cell_type": "code",
   "execution_count": 193,
   "metadata": {},
   "outputs": [
    {
     "name": "stdout",
     "output_type": "stream",
     "text": [
      "[[9 2 6]\n",
      " [4 9 8]\n",
      " [8 5 2]] \n",
      "\n",
      "[[8 1 5]\n",
      " [3 8 7]\n",
      " [7 4 1]] \n",
      "\n",
      "[[9 2 6]\n",
      " [4 9 8]\n",
      " [8 5 2]\n",
      " [8 1 5]\n",
      " [3 8 7]\n",
      " [7 4 1]]\n"
     ]
    }
   ],
   "source": [
    "x = np.random.randint(10, size=(3, 3)) \n",
    "y = x - 1\n",
    "\n",
    "# Stacks arrays vertically. \n",
    "z = np.vstack((x, y))\n",
    "print(x, \"\\n\")\n",
    "print(y, \"\\n\")\n",
    "print(z)\n",
    "\n",
    "# concatenate((x, y), axis=0) does the same thing"
   ]
  },
  {
   "cell_type": "markdown",
   "metadata": {
    "collapsed": true
   },
   "source": [
    "**Depth stacking of arrays.**"
   ]
  },
  {
   "cell_type": "code",
   "execution_count": 194,
   "metadata": {},
   "outputs": [
    {
     "name": "stdout",
     "output_type": "stream",
     "text": [
      "[[4 9 4]\n",
      " [6 1 2]\n",
      " [1 9 4]] \n",
      "\n",
      "[[3 8 3]\n",
      " [5 0 1]\n",
      " [0 8 3]] \n",
      "\n",
      "[[[4 3]\n",
      "  [9 8]\n",
      "  [4 3]]\n",
      "\n",
      " [[6 5]\n",
      "  [1 0]\n",
      "  [2 1]]\n",
      "\n",
      " [[1 0]\n",
      "  [9 8]\n",
      "  [4 3]]]\n"
     ]
    }
   ],
   "source": [
    "x = np.random.randint(10, size=(3, 3)) \n",
    "y = x - 1\n",
    "\n",
    "# Stacks arrays depth-wise along the third axis.\n",
    "z = np.dstack((x, y))\n",
    "print(x, \"\\n\")\n",
    "print(y, \"\\n\")\n",
    "print(z)"
   ]
  },
  {
   "cell_type": "markdown",
   "metadata": {
    "collapsed": true
   },
   "source": [
    "**Column stacking of arrays.**"
   ]
  },
  {
   "cell_type": "code",
   "execution_count": 195,
   "metadata": {},
   "outputs": [
    {
     "name": "stdout",
     "output_type": "stream",
     "text": [
      "[5 5 0 3 2 3 1 9 8 9] \n",
      "\n",
      "[ 6  6  1  4  3  4  2 10  9 10] \n",
      "\n",
      "[[ 5  6]\n",
      " [ 5  6]\n",
      " [ 0  1]\n",
      " [ 3  4]\n",
      " [ 2  3]\n",
      " [ 3  4]\n",
      " [ 1  2]\n",
      " [ 9 10]\n",
      " [ 8  9]\n",
      " [ 9 10]]\n"
     ]
    }
   ],
   "source": [
    "x = np.random.randint(10, size=(10)) \n",
    "y = x + 1\n",
    "\n",
    "# Stacks one-dimensional arrays as columns to create a two-dimensional array.\n",
    "z = np.column_stack((x, y))\n",
    "print(x, \"\\n\")\n",
    "print(y, \"\\n\")\n",
    "print(z)\n",
    "\n",
    "# Two-dimensional arrays are stacked in the same way that hstack stacks them."
   ]
  },
  {
   "cell_type": "code",
   "execution_count": 196,
   "metadata": {},
   "outputs": [
    {
     "name": "stdout",
     "output_type": "stream",
     "text": [
      "[2 7 1 1 6 2 4 1 3 5] \n",
      "\n",
      "[3 8 2 2 7 3 5 2 4 6] \n",
      "\n",
      "[[2 7 1 1 6 2 4 1 3 5]\n",
      " [3 8 2 2 7 3 5 2 4 6]]\n"
     ]
    }
   ],
   "source": [
    "x = np.random.randint(10, size=(10)) \n",
    "y = x + 1\n",
    "\n",
    "# Stacks one-dimensional arrays as rows to create a two-dimensional array .\n",
    "z = np.row_stack((x, y))\n",
    "print(x, \"\\n\")\n",
    "print(y, \"\\n\")\n",
    "print(z)\n",
    "\n",
    "# Two-dimensional arrays are stacked in the same way that vstack stacks them."
   ]
  },
  {
   "cell_type": "markdown",
   "metadata": {
    "collapsed": true
   },
   "source": [
    "## Splitting\n",
    "\n",
    "**Documentation: https://docs.scipy.org/doc/numpy-1.14.0/reference/generated/numpy.split.html**"
   ]
  },
  {
   "cell_type": "markdown",
   "metadata": {
    "collapsed": true
   },
   "source": [
    "**Horizontal splitting**"
   ]
  },
  {
   "cell_type": "code",
   "execution_count": 197,
   "metadata": {},
   "outputs": [
    {
     "name": "stdout",
     "output_type": "stream",
     "text": [
      "[[8 2 2 8]\n",
      " [1 4 4 9]\n",
      " [5 5 3 0]] \n",
      "\n",
      "[array([[8, 2],\n",
      "       [1, 4],\n",
      "       [5, 5]]), array([[2, 8],\n",
      "       [4, 9],\n",
      "       [3, 0]])]\n"
     ]
    }
   ],
   "source": [
    "x = np.random.randint(10, size=(3, 4)) \n",
    "print(x, \"\\n\")\n",
    "\n",
    "# Splits the array along its horizontal axis into n pieces of the same size and shape.\n",
    "print(np.hsplit(x, 2))"
   ]
  },
  {
   "cell_type": "markdown",
   "metadata": {
    "collapsed": true
   },
   "source": [
    "**Vertical splitting**"
   ]
  },
  {
   "cell_type": "code",
   "execution_count": 198,
   "metadata": {},
   "outputs": [
    {
     "name": "stdout",
     "output_type": "stream",
     "text": [
      "[[1 7 6 9 7 9]\n",
      " [7 2 0 9 8 3]\n",
      " [9 4 0 3 9 6]] \n",
      "\n",
      "[array([[1, 7, 6, 9, 7, 9]]), array([[7, 2, 0, 9, 8, 3]]), array([[9, 4, 0, 3, 9, 6]])]\n"
     ]
    }
   ],
   "source": [
    "x = np.random.randint(10, size=(3, 6)) \n",
    "print(x, \"\\n\")\n",
    "\n",
    "# Splits the array along its vertical axis into n pieces of the same size and shape.\n",
    "print(np.vsplit(x, 3))"
   ]
  },
  {
   "cell_type": "markdown",
   "metadata": {
    "collapsed": true
   },
   "source": [
    "**Depth-wise splitting**"
   ]
  },
  {
   "cell_type": "code",
   "execution_count": 199,
   "metadata": {},
   "outputs": [
    {
     "name": "stdout",
     "output_type": "stream",
     "text": [
      "[[[6 2 6 4]\n",
      "  [1 4 1 5]\n",
      "  [2 3 5 2]]\n",
      "\n",
      " [[1 2 5 2]\n",
      "  [7 0 9 2]\n",
      "  [9 6 2 9]]] \n",
      "\n",
      "[array([[[6],\n",
      "        [1],\n",
      "        [2]],\n",
      "\n",
      "       [[1],\n",
      "        [7],\n",
      "        [9]]]), array([[[2],\n",
      "        [4],\n",
      "        [3]],\n",
      "\n",
      "       [[2],\n",
      "        [0],\n",
      "        [6]]]), array([[[6],\n",
      "        [1],\n",
      "        [5]],\n",
      "\n",
      "       [[5],\n",
      "        [9],\n",
      "        [2]]]), array([[[4],\n",
      "        [5],\n",
      "        [2]],\n",
      "\n",
      "       [[2],\n",
      "        [2],\n",
      "        [9]]])]\n"
     ]
    }
   ],
   "source": [
    "x = np.random.randint(10, size=(2, 3, 4)) \n",
    "print(x, \"\\n\")\n",
    "\n",
    "# Splits the array depth-wise along the third axis into n pieces of the same size and shape.\n",
    "print(np.dsplit(x, 4))"
   ]
  },
  {
   "cell_type": "markdown",
   "metadata": {
    "collapsed": true
   },
   "source": [
    "## Converting Arrays"
   ]
  },
  {
   "cell_type": "code",
   "execution_count": 200,
   "metadata": {},
   "outputs": [
    {
     "name": "stdout",
     "output_type": "stream",
     "text": [
      "[7 3 9 6 6]\n",
      "[7. 3. 9. 6. 6.]\n",
      "['7' '3' '9' '6' '6']\n",
      "[7.+0.j 3.+0.j 9.+0.j 6.+0.j 6.+0.j]\n"
     ]
    }
   ],
   "source": [
    "x = np.random.randint(10, size=(5)) \n",
    "print(x)\n",
    "\n",
    "# Convert to single precision float.\n",
    "f = x.astype(np.float32)\n",
    "print(f)\n",
    "\n",
    "# Convert to string.\n",
    "s = x.astype(np.str)\n",
    "print(s)\n",
    "\n",
    "# Convert to complex number.\n",
    "c = x.astype(np.complex)\n",
    "print(c)"
   ]
  },
  {
   "cell_type": "markdown",
   "metadata": {},
   "source": [
    "## Statistical Functions\n",
    "\n",
    "**Documentation: https://docs.scipy.org/doc/numpy-1.14.0/reference/routines.statistics.html**\n",
    "\n",
    "**Documentation: https://docs.scipy.org/doc/numpy-1.14.0/reference/generated/numpy.loadtxt.html**"
   ]
  },
  {
   "cell_type": "code",
   "execution_count": 201,
   "metadata": {},
   "outputs": [
    {
     "name": "stdout",
     "output_type": "stream",
     "text": [
      "Median: 188.64\n",
      "Mean: 153.3023215230037\n",
      "Average: 153.3023215230037\n",
      "Variance: 11737.12610169673\n",
      "Minimum: 15.8\n",
      "Maximum: 385.0\n"
     ]
    }
   ],
   "source": [
    "import numpy as np\n",
    "\n",
    "# Loads the data from sample_data.csv into an array.\n",
    "# Skips the first row and uses the closing price column.\n",
    "data = np.loadtxt('tesla_sample_data.csv', delimiter=',', skiprows=1, usecols=4, unpack=True)\n",
    "\n",
    "# Computes the median\n",
    "print(\"Median:\", np.median(data))\n",
    "\n",
    "# Computes the mean\n",
    "print(\"Mean:\", np.mean(data))\n",
    "\n",
    "# Computes the average\n",
    "print(\"Average:\", np.average(data))\n",
    "\n",
    "# Computes the variance\n",
    "print(\"Variance:\", np.var(data))\n",
    "\n",
    "# Returns the minimum value\n",
    "print(\"Minimum:\", np.amin(data))\n",
    "\n",
    "# Returns the maximum value\n",
    "print(\"Maximum:\", np.amax(data))"
   ]
  },
  {
   "cell_type": "markdown",
   "metadata": {},
   "source": [
    "### Stock Returns\n",
    "\n",
    "**Simple stock returns can be obtained by finding the rate of change from one value to the next. The rate of change for logarithmic returns can be found with:**\n",
    "\n",
    "$$log(p_{i})-log(p_{j})=log\\left({p_{i}\\over p_{j}}\\right)$$\n",
    "\n",
    "**More Information: https://quantivity.wordpress.com/2011/02/21/why-log-returns/**"
   ]
  },
  {
   "cell_type": "code",
   "execution_count": 202,
   "metadata": {},
   "outputs": [
    {
     "name": "stdout",
     "output_type": "stream",
     "text": [
      "Standard deviation: 0.03199734404234775 \n",
      "\n",
      "Indices with positive returns: (array([   5,    8,    9,   10,   11,   12,   15,   16,   19,   22,   23,\n",
      "         27,   31,   32,   33,   35,   36,   37,   39,   42,   44,   45,\n",
      "         48,   51,   52,   53,   56,   60,   61,   62,   63,   65,   66,\n",
      "         67,   73,   74,   78,   79,   81,   82,   84,   85,   88,   89,\n",
      "         91,   93,   95,   96,   99,  100,  101,  102,  103,  106,  111,\n",
      "        112,  117,  118,  119,  120,  121,  122,  125,  126,  128,  130,\n",
      "        131,  132,  133,  134,  142,  143,  144,  145,  146,  148,  150,\n",
      "        154,  156,  157,  160,  165,  166,  167,  168,  169,  170,  171,\n",
      "        174,  176,  181,  184,  185,  186,  187,  188,  190,  193,  195,\n",
      "        199,  200,  201,  203,  204,  205,  207,  208,  209,  215,  216,\n",
      "        217,  219,  223,  224,  228,  229,  230,  231,  233,  234,  238,\n",
      "        239,  240,  241,  246,  248,  251,  252,  253,  255,  257,  261,\n",
      "        265,  266,  267,  268,  272,  274,  276,  280,  282,  283,  290,\n",
      "        291,  293,  294,  296,  300,  304,  305,  306,  307,  309,  312,\n",
      "        314,  317,  320,  321,  322,  323,  325,  326,  327,  329,  332,\n",
      "        333,  336,  337,  341,  344,  346,  347,  349,  350,  354,  356,\n",
      "        357,  359,  361,  362,  363,  366,  370,  373,  375,  376,  377,\n",
      "        379,  385,  386,  387,  388,  390,  391,  394,  395,  396,  397,\n",
      "        398,  399,  401,  402,  403,  404,  406,  407,  409,  410,  411,\n",
      "        412,  413,  416,  419,  421,  425,  427,  428,  429,  432,  435,\n",
      "        438,  439,  444,  449,  450,  451,  454,  455,  459,  460,  463,\n",
      "        464,  467,  470,  477,  478,  479,  482,  487,  488,  490,  492,\n",
      "        493,  495,  496,  497,  498,  500,  503,  507,  508,  510,  512,\n",
      "        513,  514,  515,  518,  524,  526,  529,  530,  531,  533,  534,\n",
      "        535,  538,  542,  543,  546,  549,  552,  553,  555,  556,  557,\n",
      "        558,  559,  564,  567,  568,  570,  572,  574,  576,  580,  581,\n",
      "        584,  585,  587,  589,  590,  592,  594,  597,  598,  601,  602,\n",
      "        603,  606,  608,  609,  610,  611,  614,  615,  616,  617,  620,\n",
      "        621,  622,  623,  626,  628,  630,  631,  639,  640,  641,  642,\n",
      "        643,  644,  645,  646,  648,  652,  654,  655,  656,  660,  663,\n",
      "        666,  668,  669,  672,  673,  674,  675,  676,  677,  678,  684,\n",
      "        685,  686,  687,  688,  689,  691,  692,  694,  696,  698,  699,\n",
      "        700,  702,  704,  705,  706,  707,  709,  711,  714,  715,  716,\n",
      "        718,  719,  720,  721,  723,  724,  729,  730,  731,  733,  736,\n",
      "        737,  738,  739,  742,  743,  744,  745,  746,  747,  750,  751,\n",
      "        752,  753,  755,  756,  758,  759,  760,  762,  763,  766,  768,\n",
      "        769,  770,  772,  773,  774,  776,  777,  778,  779,  782,  787,\n",
      "        788,  789,  790,  792,  793,  794,  795,  798,  800,  804,  806,\n",
      "        807,  808,  811,  812,  814,  815,  816,  817,  818,  822,  823,\n",
      "        826,  827,  828,  829,  832,  836,  839,  841,  842,  843,  844,\n",
      "        848,  850,  854,  856,  860,  861,  863,  865,  867,  868,  870,\n",
      "        871,  872,  873,  876,  877,  878,  879,  881,  886,  887,  891,\n",
      "        892,  893,  895,  896,  897,  900,  902,  905,  907,  908,  909,\n",
      "        910,  912,  914,  916,  918,  919,  920,  923,  924,  926,  930,\n",
      "        933,  934,  939,  942,  944,  945,  949,  950,  955,  957,  958,\n",
      "        963,  964,  966,  967,  971,  972,  973,  974,  976,  977,  979,\n",
      "        980,  981,  982,  987,  989,  990,  993,  995,  996,  997,  999,\n",
      "       1000, 1001, 1003, 1005, 1006, 1012, 1015, 1019, 1020, 1022, 1023,\n",
      "       1024, 1025, 1026, 1027, 1029, 1030, 1032, 1033, 1035, 1036, 1037,\n",
      "       1038, 1039, 1044, 1045, 1047, 1048, 1049, 1050, 1052, 1054, 1056,\n",
      "       1060, 1061, 1062, 1065, 1066, 1072, 1073, 1074, 1080, 1081, 1083,\n",
      "       1084, 1085, 1087, 1090, 1092, 1093, 1094, 1097, 1099, 1100, 1102,\n",
      "       1103, 1105, 1107, 1109, 1110, 1111, 1119, 1125, 1126, 1127, 1128,\n",
      "       1130, 1131, 1134, 1137, 1142, 1145, 1147, 1148, 1150, 1153, 1155,\n",
      "       1156, 1157, 1158, 1160, 1164, 1165, 1166, 1167, 1168, 1172, 1175,\n",
      "       1176, 1181, 1184, 1186, 1188, 1189, 1190, 1194, 1197, 1198, 1199,\n",
      "       1200, 1201, 1202, 1205, 1207, 1209, 1210, 1213, 1215, 1218, 1219,\n",
      "       1221, 1223, 1224, 1226, 1227, 1231, 1232, 1235, 1239, 1241, 1242,\n",
      "       1245, 1248, 1249, 1250, 1251, 1253, 1255, 1258, 1259, 1260, 1264,\n",
      "       1265, 1266, 1267, 1269, 1270, 1271, 1273, 1277, 1279, 1282, 1283,\n",
      "       1288, 1289, 1290, 1291, 1292, 1297, 1298, 1299, 1300, 1301, 1303,\n",
      "       1306, 1307, 1309, 1310, 1311, 1312, 1315, 1317, 1318, 1322, 1324,\n",
      "       1331, 1333, 1334, 1335, 1338, 1340, 1342, 1345, 1347, 1348, 1349,\n",
      "       1352, 1355, 1357, 1358, 1361, 1362, 1363, 1365, 1367, 1369, 1372,\n",
      "       1374, 1375, 1376, 1379, 1382, 1384, 1385, 1386, 1388, 1393, 1395,\n",
      "       1399, 1400, 1404, 1405, 1406, 1409, 1412, 1414, 1415, 1416, 1417,\n",
      "       1420, 1422, 1423, 1424, 1425, 1427, 1428, 1429, 1430, 1432, 1434,\n",
      "       1435, 1436, 1437, 1438, 1439, 1440, 1443, 1444, 1447, 1448, 1449,\n",
      "       1450, 1451, 1456, 1458, 1461, 1463, 1465, 1469, 1473, 1476, 1478,\n",
      "       1479, 1481, 1482, 1483, 1485, 1486, 1487, 1489, 1492, 1493, 1494,\n",
      "       1495, 1500, 1501, 1503, 1508, 1509, 1510, 1511, 1512, 1514, 1515,\n",
      "       1516, 1517, 1522, 1524, 1526, 1527, 1530, 1531, 1535, 1538, 1541,\n",
      "       1545, 1546, 1548, 1554, 1557, 1561, 1563, 1564, 1565, 1566, 1568,\n",
      "       1569, 1570, 1571, 1573, 1575, 1576, 1581, 1583, 1587, 1588, 1590,\n",
      "       1591, 1594, 1600, 1601, 1602, 1605, 1607, 1608, 1609, 1612, 1613,\n",
      "       1614, 1620, 1622, 1625, 1626, 1627, 1629, 1630, 1631, 1633, 1634,\n",
      "       1635, 1636, 1639, 1640, 1642, 1643, 1647, 1649, 1650, 1651, 1652,\n",
      "       1653, 1656, 1658, 1660, 1662, 1664, 1665, 1666, 1667, 1668, 1671,\n",
      "       1672, 1675, 1677, 1678, 1679, 1680, 1686, 1687, 1689, 1691, 1693,\n",
      "       1695, 1696, 1697, 1699, 1700, 1701, 1702, 1704, 1705, 1706, 1709,\n",
      "       1712, 1714, 1715, 1716, 1719, 1720, 1724, 1726, 1727, 1729, 1731,\n",
      "       1733, 1737, 1738, 1739, 1740, 1741, 1744, 1745, 1746, 1747, 1749,\n",
      "       1750, 1751, 1755, 1756, 1757, 1758, 1761, 1763, 1767, 1768, 1769,\n",
      "       1770, 1772, 1774, 1776, 1778, 1780, 1782, 1785, 1786, 1787, 1789,\n",
      "       1792, 1793, 1795, 1799, 1800, 1801, 1804, 1805, 1806, 1810, 1812,\n",
      "       1814, 1815, 1816, 1817, 1823, 1826, 1827, 1828, 1829, 1830, 1831,\n",
      "       1833, 1835, 1838, 1839, 1843, 1845, 1848, 1851, 1853, 1857, 1859,\n",
      "       1860, 1861, 1863, 1865, 1866, 1867, 1869, 1873, 1875, 1876, 1877,\n",
      "       1880, 1884, 1888], dtype=int64),) \n",
      "\n",
      "Annual Volatility: 371.7345851185199 \n",
      "\n",
      "Monthly Volatility: 107.31053139263564 \n",
      "\n"
     ]
    }
   ],
   "source": [
    "data = np.loadtxt('tesla_sample_data.csv', delimiter=',', skiprows=1, usecols=4, unpack=True)\n",
    "\n",
    "# Calculate returns by obtaining the difference between two successive array elements\n",
    "# and dividing by the previous value.\n",
    "returns = np.diff(data) / data[ : -1] # Resulting diff() array is one element short of the close prices array\n",
    "print(\"Standard deviation:\", np.std(returns), '\\n')\n",
    "\n",
    "# Returns a tuple that contains the indices that indicate a positive return.\n",
    "positiveIndices = np.where(returns > 0)\n",
    "print(\"Indices with positive returns:\", positiveIndices, '\\n')\n",
    "\n",
    "# Calculates the natural logarithm of the close prices then the differences.\n",
    "logarithmicReturns = np.diff(np.log(data))\n",
    "\n",
    "# Volatility measures the price variation of a financial security.\n",
    "# Historical price data (logarithmic returns) can be used to calculate historical volatility.\n",
    "annualVolatility = np.std(logarithmicReturns) / np.mean(logarithmicReturns)\n",
    "annualVolatility = annualVolatility / np.sqrt(1. / 252.) # There are around 252 trading days in a year\n",
    "\n",
    "print(\"Annual Volatility:\", annualVolatility, '\\n')\n",
    "\n",
    "print(\"Monthly Volatility:\", annualVolatility * np.sqrt(1. / 12.), '\\n')"
   ]
  },
  {
   "cell_type": "markdown",
   "metadata": {},
   "source": [
    "## References\n",
    "> Idris, I. (2015). NumPy Beginner's Guide (3rd ed.). Birmingham, United Kingdom: Packt Publishing.\n",
    "\n",
    "> Quantivity. (2011, February 21). Why Log Returns. Retrieved from quantivity.wordpress.com: https://quantivity.wordpress.com/2011/02/21/why-log-returns/\n",
    "\n",
    "> SciPy Community. (2018, January 8). Array creation, 1.14. Retrieved from docs.scipy.org: https://docs.scipy.org/doc/numpy-1.14.0/user/basics.creation.html\n",
    "\n",
    "> SciPy Community. (2018, January 8). Indexing, 1.14. Retrieved from docs.scipy.org: https://docs.scipy.org/doc/numpy-1.14.0/reference/arrays.indexing.html\n",
    "\n",
    "> SciPy Community. (2018, January 8). NumPy Reference, 1.14. Retrieved from docs.scipy.org: https://docs.scipy.org/doc/numpy-1.14.0/reference/index.html\n",
    "\n",
    "> SciPy Community. (2018, January 8). numpy.concatenate, 1.14. Retrieved from docs.scipy.org: https://docs.scipy.org/doc/numpy/reference/generated/numpy.concatenate.html\n",
    "\n",
    "> SciPy Community. (2018, January 8). numpy.loadtxt, 1.14. Retrieved from docs.scipy.org: https://docs.scipy.org/doc/numpy-1.14.0/reference/generated/numpy.loadtxt.html\n",
    "\n",
    "> SciPy Community. (2018, January 8). numpy.reshape, 1.14. Retrieved from docs.scipy.org: https://docs.scipy.org/doc/numpy/reference/generated/numpy.reshape.html\n",
    "\n",
    "> SciPy Community. (2018, January 8). numpy.split, 1.14. Retrieved from docs.scipy.org: https://docs.scipy.org/doc/numpy-1.14.0/reference/generated/numpy.split.html\n",
    "\n",
    "> SciPy Community. (2018, January 8). Statistics, 1.14. Retrieved from docs.scipy.org: https://docs.scipy.org/doc/numpy-1.14.0/reference/routines.statistics.html\n",
    "\n",
    "> SciPy Community. (2018, January 8). What is NumPy?, 1.14. Retrieved from docs.scipy.org: https://docs.scipy.org/doc/numpy-1.14.0/user/whatisnumpy.html\n",
    "\n",
    "> VanderPlas, J. (2016). Python Data Science Handbook (1st ed.). Sebastopol, California, United States of America: O’Reilly Media.\n",
    "\n",
    "> VanderPlas, J. (2017, Junuary 5). Understanding Data Types in Python. Retrieved from github.com: https://github.com/jakevdp/PythonDataScienceHandbook/blob/master/notebooks/02.01-Understanding-Data-Types.ipynb"
   ]
  },
  {
   "cell_type": "code",
   "execution_count": null,
   "metadata": {},
   "outputs": [],
   "source": []
  }
 ],
 "metadata": {
  "kernelspec": {
   "display_name": "Python 3",
   "language": "python",
   "name": "python3"
  },
  "language_info": {
   "codemirror_mode": {
    "name": "ipython",
    "version": 3
   },
   "file_extension": ".py",
   "mimetype": "text/x-python",
   "name": "python",
   "nbconvert_exporter": "python",
   "pygments_lexer": "ipython3",
   "version": "3.6.4"
  }
 },
 "nbformat": 4,
 "nbformat_minor": 2
}
