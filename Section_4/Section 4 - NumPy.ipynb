{
 "cells": [
  {
   "cell_type": "markdown",
   "metadata": {},
   "source": [
    "# NumPy Basics"
   ]
  },
  {
   "cell_type": "markdown",
   "metadata": {},
   "source": [
    "NumPy (Numerical Python) is an open source library for the Python programming language that is used to facilitate scientific computing and data analysis. The library allows for improved performance over native Python code due to the fact that a large percentage of NumPy is written in C, and fewer explicit loops are used in operations overall. At the center of this package there lies the NumPy array in addition to the complementary mathematical functions and tools that allows users to work with these objects. A NumPy array, or ndarray, is a uniform and multidimensional collection of elements that can be used to describing blocks of computer memory for future manipulation. Being able to convert information into numerical representations is fundamental to data science, and this data structure allows for the efficient storage and management of numerical arrays.\n",
    "\n",
    "More Information on NumPy: https://docs.scipy.org/doc/numpy-1.13.0/user/whatisnumpy.html\n"
   ]
  },
  {
   "cell_type": "markdown",
   "metadata": {},
   "source": [
    "## Efficiency of NumPy Arrays"
   ]
  },
  {
   "cell_type": "markdown",
   "metadata": {},
   "source": [
    "Adding Vectors (one-dimensional arrays)\n",
    "- Vector a = Squares of integers from 0 to n\n",
    "- Vector b = Cubes of integers from 0 to n"
   ]
  },
  {
   "cell_type": "code",
   "execution_count": 380,
   "metadata": {},
   "outputs": [
    {
     "name": "stdout",
     "output_type": "stream",
     "text": [
      "Pure Python elapsed time: 126693  microseconds\n",
      "NumPy elapsed time: 29035  microseconds\n"
     ]
    }
   ],
   "source": [
    "from __future__ import print_function \n",
    "import sys \n",
    "from datetime import datetime \n",
    "import numpy as np\n",
    "\n",
    "# Adding vectors using pure Python\n",
    "def sumWithPython(vectorSize):   \n",
    "    a = list(range(vectorSize))  \n",
    "    b = list(range(vectorSize))  \n",
    "    c = []\n",
    "    for i in list(range(len(a))):       \n",
    "        a[i] = i ** 2       \n",
    "        b[i] = i ** 3       \n",
    "        c.append(a[i] + b[i])\n",
    "    return c \n",
    "\n",
    "# Adding vectors using NumPy\n",
    "def sumWithNumpy(vectorSize):   \n",
    "    a = np.arange(vectorSize) ** 2   \n",
    "    b = np.arange(vectorSize) ** 3   \n",
    "    c = a + b\n",
    "    return c\n",
    "\n",
    "size = 1000000\n",
    "\n",
    "startTime = datetime.now()\n",
    "c = sumWithPython(size) \n",
    "pythonDelta = datetime.now() - startTime \n",
    "print(\"Pure Python elapsed time:\", str(pythonDelta.microseconds), \" microseconds\")\n",
    "\n",
    "startTime = datetime.now() \n",
    "c = sumWithNumpy(size) \n",
    "numpyDelta = datetime.now() - startTime \n",
    "print(\"NumPy elapsed time:\", str(numpyDelta.microseconds), \" microseconds\")"
   ]
  },
  {
   "cell_type": "markdown",
   "metadata": {},
   "source": [
    "## Array creation, data types, and other attributes of ndarray"
   ]
  },
  {
   "cell_type": "code",
   "execution_count": 381,
   "metadata": {},
   "outputs": [
    {
     "data": {
      "text/plain": [
       "dtype('int32')"
      ]
     },
     "execution_count": 381,
     "metadata": {},
     "output_type": "execute_result"
    }
   ],
   "source": [
    "# Import NumPy\n",
    "import numpy as np\n",
    "\n",
    "# Display NumPy's built-in documentation\n",
    "# np?\n",
    "\n",
    "# Create array\n",
    "array = np.arange(10)\n",
    "\n",
    "# Display its data type\n",
    "array.dtype"
   ]
  },
  {
   "cell_type": "code",
   "execution_count": 382,
   "metadata": {},
   "outputs": [
    {
     "data": {
      "text/plain": [
       "array([0, 1, 2, 3, 4, 5, 6, 7, 8, 9])"
      ]
     },
     "execution_count": 382,
     "metadata": {},
     "output_type": "execute_result"
    }
   ],
   "source": [
    "# Display array\n",
    "array"
   ]
  },
  {
   "cell_type": "code",
   "execution_count": 383,
   "metadata": {},
   "outputs": [
    {
     "data": {
      "text/plain": [
       "(10,)"
      ]
     },
     "execution_count": 383,
     "metadata": {},
     "output_type": "execute_result"
    }
   ],
   "source": [
    "# Display shape of array (one-dimensional)\n",
    "array.shape"
   ]
  },
  {
   "cell_type": "code",
   "execution_count": 384,
   "metadata": {},
   "outputs": [
    {
     "data": {
      "text/plain": [
       "array([[0, 1, 2, 3, 4],\n",
       "       [5, 6, 7, 8, 9]])"
      ]
     },
     "execution_count": 384,
     "metadata": {},
     "output_type": "execute_result"
    }
   ],
   "source": [
    "# Create a two by five two-dimensional array\n",
    "twoDimArray = np.arange(10).reshape((2, 5))\n",
    "twoDimArray"
   ]
  },
  {
   "cell_type": "code",
   "execution_count": 385,
   "metadata": {},
   "outputs": [
    {
     "data": {
      "text/plain": [
       "(2, 5)"
      ]
     },
     "execution_count": 385,
     "metadata": {},
     "output_type": "execute_result"
    }
   ],
   "source": [
    "# 2x5 shape\n",
    "twoDimArray.shape"
   ]
  },
  {
   "cell_type": "code",
   "execution_count": 386,
   "metadata": {},
   "outputs": [
    {
     "name": "stdout",
     "output_type": "stream",
     "text": [
      "[[0 1 2 3 4]\n",
      " [0 1 2 3 4]]\n"
     ]
    },
    {
     "data": {
      "text/plain": [
       "(2, 5)"
      ]
     },
     "execution_count": 386,
     "metadata": {},
     "output_type": "execute_result"
    }
   ],
   "source": [
    "# Another way to create a multi-dimensional array\n",
    "tda = np.array([np.arange(5), np.arange(5)]) \n",
    "print(tda)\n",
    "\n",
    "# Display the shape of the array\n",
    "tda.shape"
   ]
  },
  {
   "cell_type": "markdown",
   "metadata": {},
   "source": [
    "The array() function will create an array from the inputs so long as they are array-like objects."
   ]
  },
  {
   "cell_type": "code",
   "execution_count": 387,
   "metadata": {
    "collapsed": true
   },
   "outputs": [],
   "source": [
    "# View array() function documentation\n",
    "# array?"
   ]
  },
  {
   "cell_type": "code",
   "execution_count": 388,
   "metadata": {},
   "outputs": [
    {
     "data": {
      "text/plain": [
       "array([1, 2, 3, 4, 5])"
      ]
     },
     "execution_count": 388,
     "metadata": {},
     "output_type": "execute_result"
    }
   ],
   "source": [
    "# Create array from Python list\n",
    "np.array([1, 2, 3, 4, 5])"
   ]
  },
  {
   "cell_type": "code",
   "execution_count": 389,
   "metadata": {},
   "outputs": [
    {
     "name": "stdout",
     "output_type": "stream",
     "text": [
      "[ 1.  2.  3.  4.  5.]\n"
     ]
    },
    {
     "data": {
      "text/plain": [
       "dtype('float32')"
      ]
     },
     "execution_count": 389,
     "metadata": {},
     "output_type": "execute_result"
    }
   ],
   "source": [
    "# Specify data type upon creation\n",
    "x = np.array([1, 2, 3, 4, 5], dtype='float32')\n",
    "print(x)\n",
    "x.dtype"
   ]
  },
  {
   "cell_type": "code",
   "execution_count": 390,
   "metadata": {},
   "outputs": [
    {
     "data": {
      "text/plain": [
       "array([ 0, 10, 20, 30, 40, 50, 60, 70, 80, 90])"
      ]
     },
     "execution_count": 390,
     "metadata": {},
     "output_type": "execute_result"
    }
   ],
   "source": [
    "# Creates an array that starts at 0 and ends at 100 going by 10\n",
    "np.arange(0, 100, 10)"
   ]
  },
  {
   "cell_type": "code",
   "execution_count": 391,
   "metadata": {},
   "outputs": [
    {
     "data": {
      "text/plain": [
       "array([ 0.        ,  0.11111111,  0.22222222,  0.33333333,  0.44444444,\n",
       "        0.55555556,  0.66666667,  0.77777778,  0.88888889,  1.        ])"
      ]
     },
     "execution_count": 391,
     "metadata": {},
     "output_type": "execute_result"
    }
   ],
   "source": [
    "# Creates an array of ten values evenly spaced between 0 and 1\n",
    "np.linspace(0, 1, 10)"
   ]
  },
  {
   "cell_type": "code",
   "execution_count": 392,
   "metadata": {},
   "outputs": [
    {
     "data": {
      "text/plain": [
       "array([[2, 0, 0, 0, 3],\n",
       "       [0, 0, 4, 1, 4],\n",
       "       [0, 3, 1, 1, 0],\n",
       "       [2, 3, 3, 3, 3],\n",
       "       [2, 3, 3, 2, 4]])"
      ]
     },
     "execution_count": 392,
     "metadata": {},
     "output_type": "execute_result"
    }
   ],
   "source": [
    "# Create a 5x5 array of random integers from 0 to 5\n",
    "np.random.randint(0, 5, (5, 5))"
   ]
  },
  {
   "cell_type": "code",
   "execution_count": 393,
   "metadata": {},
   "outputs": [
    {
     "data": {
      "text/plain": [
       "array([[-0.24223262, -0.31397153,  0.14018923,  1.45420716,  1.6100088 ],\n",
       "       [-2.22612152,  0.84831692,  1.2127477 ,  1.5084316 , -0.04974136],\n",
       "       [-2.3314682 , -0.4729337 ,  0.10465026,  0.82188065, -0.01629058],\n",
       "       [ 0.28062347, -1.08507035, -0.06518354, -1.44698734, -0.06743733],\n",
       "       [ 0.31697924, -3.42661041,  0.38523789,  0.32498188,  2.07778511],\n",
       "       [-1.58386318,  0.38659417, -0.6280606 ,  0.2529269 ,  1.73970342],\n",
       "       [ 0.49348275,  0.04949257,  0.23911953, -0.95140148,  1.1820982 ],\n",
       "       [-0.01310707,  0.64446461, -1.74262902, -0.0414586 , -0.60577051],\n",
       "       [ 0.34964548,  0.6377795 ,  0.6558535 ,  0.47145196, -0.76435363],\n",
       "       [-0.60822116,  1.31943058, -1.63112898,  1.94236583, -1.28377368]])"
      ]
     },
     "execution_count": 393,
     "metadata": {},
     "output_type": "execute_result"
    }
   ],
   "source": [
    "# Create a 10x5 array of normally distributed random values with a mean of 0 and standard deviation of 1\n",
    "np.random.normal(0, 1, (10, 5))"
   ]
  },
  {
   "cell_type": "code",
   "execution_count": 394,
   "metadata": {},
   "outputs": [
    {
     "data": {
      "text/plain": [
       "array([[[3, 1, 6, 0, 5],\n",
       "        [8, 5, 6, 4, 6],\n",
       "        [4, 6, 4, 2, 5],\n",
       "        [7, 6, 4, 6, 0],\n",
       "        [4, 9, 2, 1, 6]],\n",
       "\n",
       "       [[8, 5, 5, 2, 5],\n",
       "        [7, 4, 9, 9, 7],\n",
       "        [8, 3, 2, 2, 2],\n",
       "        [9, 2, 2, 6, 6],\n",
       "        [6, 3, 5, 7, 0]]])"
      ]
     },
     "execution_count": 394,
     "metadata": {},
     "output_type": "execute_result"
    }
   ],
   "source": [
    "# Creating a three-dimensional array of two 5x5 arrays with random integer values from 0 through 9\n",
    "threeDimArray = np.random.randint(10, size=(2, 5, 5)) \n",
    "threeDimArray"
   ]
  },
  {
   "cell_type": "code",
   "execution_count": 395,
   "metadata": {},
   "outputs": [
    {
     "name": "stdout",
     "output_type": "stream",
     "text": [
      "Array Attributes\n",
      "\n",
      "Number of dimensions: 3\n",
      "Size of each dimension: (2, 5, 5)\n",
      "Total size of array: 50\n",
      "Size of each array element: 4 bytes\n",
      "Total size (in bytes) of the array: 200 bytes\n"
     ]
    }
   ],
   "source": [
    "print(\"Array Attributes\\n\")\n",
    "print(\"Number of dimensions:\", threeDimArray.ndim)\n",
    "print(\"Size of each dimension:\", threeDimArray.shape)\n",
    "print(\"Total size of array:\", threeDimArray.size)\n",
    "print(\"Size of each array element:\", threeDimArray.itemsize, \"bytes\")\n",
    "print(\"Total size (in bytes) of the array:\", threeDimArray.nbytes, \"bytes\")"
   ]
  },
  {
   "cell_type": "code",
   "execution_count": 396,
   "metadata": {},
   "outputs": [
    {
     "name": "stdout",
     "output_type": "stream",
     "text": [
      "[[3 1 6 0 5 8 5 6 4 6]\n",
      " [4 6 4 2 5 7 6 4 6 0]\n",
      " [4 9 2 1 6 8 5 5 2 5]\n",
      " [7 4 9 9 7 8 3 2 2 2]\n",
      " [9 2 2 6 6 6 3 5 7 0]]\n"
     ]
    }
   ],
   "source": [
    "# Reshaping array\n",
    "print(threeDimArray.reshape(5, 10))"
   ]
  },
  {
   "cell_type": "markdown",
   "metadata": {
    "collapsed": true
   },
   "source": [
    "More Information on array creation: https://docs.scipy.org/doc/numpy-1.13.0/user/basics.creation.html"
   ]
  },
  {
   "cell_type": "markdown",
   "metadata": {
    "collapsed": true
   },
   "source": [
    "## Standard NumPy Data Types"
   ]
  },
  {
   "cell_type": "markdown",
   "metadata": {
    "collapsed": true
   },
   "source": [
    "| Type\t        | Description |\n",
    "|---------------|-------------|\n",
    "| ``bool_``     | Boolean (True or False) stored as a byte |\n",
    "| ``int_``      | Default integer type (same as C ``long``; normally either ``int64`` or ``int32``)| \n",
    "| ``intc``      | Identical to C ``int`` (normally ``int32`` or ``int64``)| \n",
    "| ``intp``      | Integer used for indexing (same as C ``ssize_t``; normally either ``int32`` or ``int64``)| \n",
    "| ``int8``      | Byte (-128 to 127)| \n",
    "| ``int16``     | Integer (-32768 to 32767)|\n",
    "| ``int32``     | Integer (-2147483648 to 2147483647)|\n",
    "| ``int64``     | Integer (-9223372036854775808 to 9223372036854775807)| \n",
    "| ``uint8``     | Unsigned integer (0 to 255)| \n",
    "| ``uint16``    | Unsigned integer (0 to 65535)| \n",
    "| ``uint32``    | Unsigned integer (0 to 4294967295)| \n",
    "| ``uint64``    | Unsigned integer (0 to 18446744073709551615)| \n",
    "| ``float_``    | Shorthand for ``float64``.| \n",
    "| ``float16``   | Half precision float: sign bit, 5 bits exponent, 10 bits mantissa| \n",
    "| ``float32``   | Single precision float: sign bit, 8 bits exponent, 23 bits mantissa| \n",
    "| ``float64``   | Double precision float: sign bit, 11 bits exponent, 52 bits mantissa| \n",
    "| ``complex_``  | Shorthand for ``complex128``.| \n",
    "| ``complex64`` | Complex number, represented by two 32-bit floats| \n",
    "| ``complex128``| Complex number, represented by two 64-bit floats| \n",
    "\n",
    "Reference: https://github.com/jakevdp/PythonDataScienceHandbook/blob/master/notebooks/02.01-Understanding-Data-Types.ipynb"
   ]
  },
  {
   "cell_type": "markdown",
   "metadata": {
    "collapsed": true
   },
   "source": [
    "## Selecting Elements"
   ]
  },
  {
   "cell_type": "code",
   "execution_count": 397,
   "metadata": {},
   "outputs": [
    {
     "name": "stdout",
     "output_type": "stream",
     "text": [
      "2\n"
     ]
    }
   ],
   "source": [
    "# 1D Array\n",
    "x = np.array([1, 2, 3, 4])\n",
    "\n",
    "# Display index one\n",
    "print(x[1])"
   ]
  },
  {
   "cell_type": "code",
   "execution_count": 398,
   "metadata": {},
   "outputs": [
    {
     "name": "stdout",
     "output_type": "stream",
     "text": [
      "1\n",
      "2\n",
      "3\n",
      "4\n"
     ]
    }
   ],
   "source": [
    "# 2D Array\n",
    "x = np.array([[1, 2], \n",
    "              [3, 4]])\n",
    "\n",
    "# Display element at certain indices\n",
    "print(x[0, 0])\n",
    "print(x[0, 1])\n",
    "print(x[1, 0])\n",
    "print(x[1, 1])"
   ]
  },
  {
   "cell_type": "code",
   "execution_count": 399,
   "metadata": {},
   "outputs": [
    {
     "name": "stdout",
     "output_type": "stream",
     "text": [
      "[[[0 6]\n",
      "  [3 7]]\n",
      "\n",
      " [[5 3]\n",
      "  [2 0]]\n",
      "\n",
      " [[7 9]\n",
      "  [6 7]]] \n",
      "\n",
      "6\n",
      "3\n"
     ]
    }
   ],
   "source": [
    "# 3D Array\n",
    "x = np.random.randint(10, size=(3, 2, 2)) \n",
    "\n",
    "print(x, \"\\n\")\n",
    "\n",
    "# Display the first index of the second element in the 3rd array\n",
    "print(x[2][1][0])\n",
    "\n",
    "print(x\n",
    "      [1] # 2nd array\n",
    "      [0] # First element\n",
    "      [1]) # Second index"
   ]
  },
  {
   "cell_type": "markdown",
   "metadata": {
    "collapsed": true
   },
   "source": [
    "## Subarrays"
   ]
  },
  {
   "cell_type": "code",
   "execution_count": 400,
   "metadata": {},
   "outputs": [
    {
     "name": "stdout",
     "output_type": "stream",
     "text": [
      "[0 1 2 3 4 5 6 7 8 9] \n",
      "\n",
      "First two elements:\n",
      " [0 1] \n",
      "\n",
      "Elements after index 4 including index 4:\n",
      " [4 5 6 7 8 9] \n",
      "\n",
      "Elements between indices 2 and 4 but not including 4:\n",
      " [2 3] \n",
      "\n",
      "Elements from index 2 to 7 by twos:\n",
      " [2 4 6] \n",
      "\n",
      "Reverse array:\n",
      " [9 8 7 6 5 4 3 2 1 0] \n",
      "\n"
     ]
    }
   ],
   "source": [
    "# 1D Array\n",
    "x = np.arange(10)\n",
    "print(x, \"\\n\")\n",
    "\n",
    "print(\"First two elements:\\n\", x[:2], \"\\n\")\n",
    "\n",
    "print(\"Elements after index 4 including index 4:\\n\", x[4:], \"\\n\")\n",
    "\n",
    "print(\"Elements between indices 2 and 4 but not including 4:\\n\", x[2:4], \"\\n\")\n",
    "\n",
    "print(\"Elements from index 2 to 7 by twos:\\n\", x[2:7:2], \"\\n\")\n",
    "\n",
    "print(\"Reverse array:\\n\", x[::-1], \"\\n\")"
   ]
  },
  {
   "cell_type": "code",
   "execution_count": 401,
   "metadata": {},
   "outputs": [
    {
     "name": "stdout",
     "output_type": "stream",
     "text": [
      "[[0 4 2 3 2 1]\n",
      " [5 8 0 1 4 6]\n",
      " [2 7 9 4 2 6]\n",
      " [6 4 8 7 1 6]] \n",
      "\n",
      "Two rows, four columns:\n",
      " [[7 9 4 2]\n",
      " [0 3 4 4]] \n",
      "\n",
      "First row:\n",
      " [0 4 2 3 2 1] \n",
      "\n",
      "Third column:\n",
      " [2 0 9 8] \n",
      "\n",
      "Reverse array:\n",
      " [[6 1 7 8 4 6]\n",
      " [6 2 4 9 7 2]\n",
      " [6 4 1 0 8 5]\n",
      " [1 2 3 2 4 0]] \n",
      "\n"
     ]
    }
   ],
   "source": [
    "# 2D Array\n",
    "x = np.random.randint(10, size=(4, 6))\n",
    "print(x, \"\\n\")\n",
    "\n",
    "print(\"Two rows, four columns:\\n\", x2[:2, :4], \"\\n\")\n",
    "\n",
    "print(\"First row:\\n\", x[0, :], \"\\n\")\n",
    "\n",
    "print(\"Third column:\\n\", x[:, 2], \"\\n\")\n",
    "\n",
    "print(\"Reverse array:\\n\", x[::-1, ::-1], \"\\n\")"
   ]
  },
  {
   "cell_type": "markdown",
   "metadata": {
    "collapsed": true
   },
   "source": [
    "Changing a value in a subarray will influence the parent array."
   ]
  },
  {
   "cell_type": "code",
   "execution_count": 402,
   "metadata": {},
   "outputs": [
    {
     "name": "stdout",
     "output_type": "stream",
     "text": [
      "Two rows, two columns sub array from x:\n",
      " [[0 4]\n",
      " [5 8]] \n",
      "\n",
      "[[ 0 11  2  3  2  1]\n",
      " [ 5  8  0  1  4  6]\n",
      " [ 2  7  9  4  2  6]\n",
      " [ 6  4  8  7  1  6]]\n"
     ]
    }
   ],
   "source": [
    "print(\"Two rows, two columns sub array from x:\\n\", x[:2, :2], \"\\n\")\n",
    "xSub = x[:2, :2]\n",
    "\n",
    "# Chnage element\n",
    "xSub[0, 1] = 11\n",
    "print(x)"
   ]
  },
  {
   "cell_type": "code",
   "execution_count": 403,
   "metadata": {},
   "outputs": [
    {
     "name": "stdout",
     "output_type": "stream",
     "text": [
      "[[[ 0  1  2  3  4]\n",
      "  [ 5  6  7  8  9]\n",
      "  [10 11 12 13 14]]\n",
      "\n",
      " [[15 16 17 18 19]\n",
      "  [20 21 22 23 24]\n",
      "  [25 26 27 28 29]]] \n",
      "\n",
      "Select every second elment from subarray x[0][0]:\n",
      " [0 2 4] \n",
      "\n",
      "Third column values from all 2D arrays (matrices):\n",
      " [[ 2  7 12]\n",
      " [17 22 27]] \n",
      "\n",
      "Second row values from all 2D arrays (matrices):\n",
      " [[ 5  6  7  8  9]\n",
      " [20 21 22 23 24]] \n",
      "\n",
      "First matrix, last column:\n",
      " [ 4  9 14] \n",
      "\n",
      "Last matrix, first column reversed:\n",
      " [25 20 15] \n",
      "\n"
     ]
    }
   ],
   "source": [
    "# 3D Array\n",
    "x = np.arange(30).reshape(2, 3, 5) \n",
    "print(x, \"\\n\")\n",
    "\n",
    "print(\"Select every second elment from subarray x[0][0]:\\n\", x[0, 0, ::2], \"\\n\")\n",
    "\n",
    "print(\"Third column values from all 2D arrays (matrices):\\n\", x[..., 2], \"\\n\")\n",
    "\n",
    "print(\"Second row values from all 2D arrays (matrices):\\n\", x[:, 1], \"\\n\")\n",
    "\n",
    "print(\"First matrix, last column:\\n\", x[0, : ,-1], \"\\n\")\n",
    "\n",
    "print(\"Last matrix, first column reversed:\\n\", x[-1, :: -1, 0], \"\\n\")"
   ]
  },
  {
   "cell_type": "markdown",
   "metadata": {
    "collapsed": true
   },
   "source": [
    "Copying an array"
   ]
  },
  {
   "cell_type": "code",
   "execution_count": 404,
   "metadata": {},
   "outputs": [
    {
     "name": "stdout",
     "output_type": "stream",
     "text": [
      "[[[ 0  1  2]\n",
      "  [ 5  6  7]]\n",
      "\n",
      " [[15 16 17]\n",
      "  [20 21 22]]] \n",
      "\n",
      "[[[11  1  2]\n",
      "  [ 5  6  7]]\n",
      "\n",
      " [[15 16 17]\n",
      "  [20 21 22]]] \n",
      "\n",
      "[[[ 0  1  2  3  4]\n",
      "  [ 5  6  7  8  9]\n",
      "  [10 11 12 13 14]]\n",
      "\n",
      " [[15 16 17 18 19]\n",
      "  [20 21 22 23 24]\n",
      "  [25 26 27 28 29]]] \n",
      "\n"
     ]
    }
   ],
   "source": [
    "xSubCopy = x[:2, :2, :3].copy()\n",
    "print(xSubCopy, \"\\n\")\n",
    "\n",
    "# Change element\n",
    "xSubCopy[0][0][0] = 11\n",
    "print(xSubCopy, \"\\n\")\n",
    "\n",
    "# No influence on original\n",
    "print(x, \"\\n\")"
   ]
  },
  {
   "cell_type": "markdown",
   "metadata": {
    "collapsed": true
   },
   "source": [
    "## Array Reshaping"
   ]
  },
  {
   "cell_type": "code",
   "execution_count": 405,
   "metadata": {},
   "outputs": [
    {
     "name": "stdout",
     "output_type": "stream",
     "text": [
      "[[[9 6 6 0]\n",
      "  [3 6 3 0]\n",
      "  [1 6 4 9]\n",
      "  [7 9 9 6]]\n",
      "\n",
      " [[5 1 3 6]\n",
      "  [5 8 0 8]\n",
      "  [5 8 2 3]\n",
      "  [3 6 0 1]]\n",
      "\n",
      " [[2 5 0 5]\n",
      "  [2 9 5 8]\n",
      "  [9 8 9 4]\n",
      "  [2 1 8 5]]\n",
      "\n",
      " [[5 2 7 8]\n",
      "  [0 6 1 2]\n",
      "  [8 3 8 8]\n",
      "  [0 0 1 0]]] \n",
      "\n",
      "[[9 6 6 0 3 6 3 0]\n",
      " [1 6 4 9 7 9 9 6]\n",
      " [5 1 3 6 5 8 0 8]\n",
      " [5 8 2 3 3 6 0 1]\n",
      " [2 5 0 5 2 9 5 8]\n",
      " [9 8 9 4 2 1 8 5]\n",
      " [5 2 7 8 0 6 1 2]\n",
      " [8 3 8 8 0 0 1 0]] \n",
      "\n"
     ]
    }
   ],
   "source": [
    "threeDimArray = np.random.randint(10, size=(4, 4, 4)) \n",
    "print(threeDimArray, \"\\n\")\n",
    "\n",
    "# Reshaping array\n",
    "print(threeDimArray.reshape(8, 8), \"\\n\")"
   ]
  },
  {
   "cell_type": "code",
   "execution_count": 406,
   "metadata": {},
   "outputs": [
    {
     "name": "stdout",
     "output_type": "stream",
     "text": [
      "[[[7 5 8 7]\n",
      "  [4 3 5 4]\n",
      "  [5 9 4 9]\n",
      "  [6 8 5 5]]\n",
      "\n",
      " [[1 0 2 6]\n",
      "  [4 1 0 0]\n",
      "  [1 2 9 4]\n",
      "  [2 6 7 0]]] \n",
      "\n",
      "Shape:\n",
      " [[7 5 8 7 4 3 5 4]\n",
      " [5 9 4 9 6 8 5 5]\n",
      " [1 0 2 6 4 1 0 0]\n",
      " [1 2 9 4 2 6 7 0]] \n",
      "\n",
      "[[[9 0]\n",
      "  [4 0]\n",
      "  [1 6]]\n",
      "\n",
      " [[3 2]\n",
      "  [2 6]\n",
      "  [0 3]]] \n",
      "\n",
      "Resize:\n",
      " [[9 0 4 0 1 6]\n",
      " [3 2 2 6 0 3]]\n"
     ]
    }
   ],
   "source": [
    "# Other ways to reshape\n",
    "# These modifiy the array they operate on\n",
    "x = np.random.randint(10, size=(2, 4, 4)) \n",
    "print(x, \"\\n\")\n",
    "\n",
    "x.shape = (4, 8)\n",
    "print(\"Shape:\\n\", x, \"\\n\")\n",
    "\n",
    "y = np.random.randint(10, size=(2, 3, 2)) \n",
    "print(y, \"\\n\")\n",
    "\n",
    "y.resize((2, 6))\n",
    "print(\"Resize:\\n\", y)"
   ]
  },
  {
   "cell_type": "markdown",
   "metadata": {
    "collapsed": true
   },
   "source": [
    "Flattening a multidimensional NumPy arrays results in a one-dimensional array."
   ]
  },
  {
   "cell_type": "code",
   "execution_count": 407,
   "metadata": {},
   "outputs": [
    {
     "name": "stdout",
     "output_type": "stream",
     "text": [
      "[[[3 9 1]\n",
      "  [6 2 9]\n",
      "  [9 5 8]]\n",
      "\n",
      " [[5 5 2]\n",
      "  [4 1 6]\n",
      "  [3 4 6]]\n",
      "\n",
      " [[9 0 7]\n",
      "  [6 3 8]\n",
      "  [4 0 3]]]\n"
     ]
    }
   ],
   "source": [
    "x = np.random.randint(10, size=(3, 3, 3)) \n",
    "print(x)"
   ]
  },
  {
   "cell_type": "code",
   "execution_count": 408,
   "metadata": {},
   "outputs": [
    {
     "name": "stdout",
     "output_type": "stream",
     "text": [
      "[3 9 1 6 2 9 9 5 8 5 5 2 4 1 6 3 4 6 9 0 7 6 3 8 4 0 3]\n"
     ]
    }
   ],
   "source": [
    "print(np.ravel(x))"
   ]
  },
  {
   "cell_type": "markdown",
   "metadata": {
    "collapsed": true
   },
   "source": [
    "The flatten function does the same as ravel, but it always creates a new copy in memory in order to avoid modifying the original array."
   ]
  },
  {
   "cell_type": "code",
   "execution_count": 409,
   "metadata": {},
   "outputs": [
    {
     "name": "stdout",
     "output_type": "stream",
     "text": [
      "[9 4 8 0 4 6 4 4]\n"
     ]
    }
   ],
   "source": [
    "x = np.random.randint(10, size=(2, 2, 2)) \n",
    "print(x.flatten())"
   ]
  },
  {
   "cell_type": "markdown",
   "metadata": {
    "collapsed": true
   },
   "source": [
    "## Stacking"
   ]
  },
  {
   "cell_type": "markdown",
   "metadata": {
    "collapsed": true
   },
   "source": [
    "Horizontal stacking of arrays"
   ]
  },
  {
   "cell_type": "code",
   "execution_count": 410,
   "metadata": {},
   "outputs": [
    {
     "name": "stdout",
     "output_type": "stream",
     "text": [
      "[[1 1 9]\n",
      " [0 9 5]\n",
      " [7 1 0]] \n",
      "\n",
      "[[ 0  0  8]\n",
      " [-1  8  4]\n",
      " [ 6  0 -1]] \n",
      "\n",
      "[[ 1  1  9  0  0  8]\n",
      " [ 0  9  5 -1  8  4]\n",
      " [ 7  1  0  6  0 -1]]\n"
     ]
    }
   ],
   "source": [
    "x = np.random.randint(10, size=(3, 3)) \n",
    "y = x - 1\n",
    "\n",
    "# Stacks arrays horizontally \n",
    "z = np.hstack((x, y))\n",
    "print(x, \"\\n\")\n",
    "print(y, \"\\n\")\n",
    "print(z)\n",
    "\n",
    "# concatenate((x, y), axis=1) does the same thing"
   ]
  },
  {
   "cell_type": "markdown",
   "metadata": {
    "collapsed": true
   },
   "source": [
    "Vertical stacking of arrays"
   ]
  },
  {
   "cell_type": "code",
   "execution_count": 411,
   "metadata": {},
   "outputs": [
    {
     "name": "stdout",
     "output_type": "stream",
     "text": [
      "[[8 0 8]\n",
      " [5 9 3]\n",
      " [8 8 5]] \n",
      "\n",
      "[[ 7 -1  7]\n",
      " [ 4  8  2]\n",
      " [ 7  7  4]] \n",
      "\n",
      "[[ 8  0  8]\n",
      " [ 5  9  3]\n",
      " [ 8  8  5]\n",
      " [ 7 -1  7]\n",
      " [ 4  8  2]\n",
      " [ 7  7  4]]\n"
     ]
    }
   ],
   "source": [
    "x = np.random.randint(10, size=(3, 3)) \n",
    "y = x - 1\n",
    "\n",
    "# Stacks arrays vertically \n",
    "z = np.vstack((x, y))\n",
    "print(x, \"\\n\")\n",
    "print(y, \"\\n\")\n",
    "print(z)\n",
    "\n",
    "# concatenate((x, y), axis=0) does the same thing"
   ]
  },
  {
   "cell_type": "markdown",
   "metadata": {
    "collapsed": true
   },
   "source": [
    "Depth stacking of arrays"
   ]
  },
  {
   "cell_type": "code",
   "execution_count": 412,
   "metadata": {},
   "outputs": [
    {
     "name": "stdout",
     "output_type": "stream",
     "text": [
      "[[7 4 5]\n",
      " [1 0 0]\n",
      " [1 8 7]] \n",
      "\n",
      "[[ 6  3  4]\n",
      " [ 0 -1 -1]\n",
      " [ 0  7  6]] \n",
      "\n",
      "[[[ 7  6]\n",
      "  [ 4  3]\n",
      "  [ 5  4]]\n",
      "\n",
      " [[ 1  0]\n",
      "  [ 0 -1]\n",
      "  [ 0 -1]]\n",
      "\n",
      " [[ 1  0]\n",
      "  [ 8  7]\n",
      "  [ 7  6]]]\n"
     ]
    }
   ],
   "source": [
    "x = np.random.randint(10, size=(3, 3)) \n",
    "y = x - 1\n",
    "\n",
    "# Stacks arrays depth-wise along the third axis \n",
    "z = np.dstack((x, y))\n",
    "print(x, \"\\n\")\n",
    "print(y, \"\\n\")\n",
    "print(z)"
   ]
  },
  {
   "cell_type": "markdown",
   "metadata": {
    "collapsed": true
   },
   "source": [
    "Column stacking of arrays"
   ]
  },
  {
   "cell_type": "code",
   "execution_count": 413,
   "metadata": {},
   "outputs": [
    {
     "name": "stdout",
     "output_type": "stream",
     "text": [
      "[8 2 9 1 6 7 8 3 0 1] \n",
      "\n",
      "[ 9  3 10  2  7  8  9  4  1  2] \n",
      "\n",
      "[[ 8  9]\n",
      " [ 2  3]\n",
      " [ 9 10]\n",
      " [ 1  2]\n",
      " [ 6  7]\n",
      " [ 7  8]\n",
      " [ 8  9]\n",
      " [ 3  4]\n",
      " [ 0  1]\n",
      " [ 1  2]]\n"
     ]
    }
   ],
   "source": [
    "x = np.random.randint(10, size=(10)) \n",
    "y = x + 1\n",
    "\n",
    "# Stacks one-dimensional arrays as columns to create a two-dimensional array \n",
    "z = np.column_stack((x, y))\n",
    "print(x, \"\\n\")\n",
    "print(y, \"\\n\")\n",
    "print(z)\n",
    "\n",
    "# Two-dimensional arrays are stacked in the same way that hstack stacks them"
   ]
  },
  {
   "cell_type": "code",
   "execution_count": 414,
   "metadata": {},
   "outputs": [
    {
     "name": "stdout",
     "output_type": "stream",
     "text": [
      "[9 9 8 5 2 6 1 7 2 0] \n",
      "\n",
      "[10 10  9  6  3  7  2  8  3  1] \n",
      "\n",
      "[[ 9  9  8  5  2  6  1  7  2  0]\n",
      " [10 10  9  6  3  7  2  8  3  1]]\n"
     ]
    }
   ],
   "source": [
    "x = np.random.randint(10, size=(10)) \n",
    "y = x + 1\n",
    "\n",
    "# Stacks one-dimensional arrays as rows to create a two-dimensional array \n",
    "z = np.row_stack((x, y))\n",
    "print(x, \"\\n\")\n",
    "print(y, \"\\n\")\n",
    "print(z)\n",
    "\n",
    "# Two-dimensional arrays are stacked in the same way that vstack stacks them"
   ]
  },
  {
   "cell_type": "markdown",
   "metadata": {
    "collapsed": true
   },
   "source": [
    "## Splitting"
   ]
  },
  {
   "cell_type": "markdown",
   "metadata": {
    "collapsed": true
   },
   "source": [
    "Horizontal splitting"
   ]
  },
  {
   "cell_type": "code",
   "execution_count": 415,
   "metadata": {},
   "outputs": [
    {
     "name": "stdout",
     "output_type": "stream",
     "text": [
      "[[1 7 8 7]\n",
      " [6 0 9 5]\n",
      " [4 7 2 2]] \n",
      "\n",
      "[array([[1, 7],\n",
      "       [6, 0],\n",
      "       [4, 7]]), array([[8, 7],\n",
      "       [9, 5],\n",
      "       [2, 2]])]\n"
     ]
    }
   ],
   "source": [
    "x = np.random.randint(10, size=(3, 4)) \n",
    "print(x, \"\\n\")\n",
    "\n",
    "# Splits the array along its horizontal axis into n pieces of the same size and shape\n",
    "print(np.hsplit(x, 2))"
   ]
  },
  {
   "cell_type": "markdown",
   "metadata": {
    "collapsed": true
   },
   "source": [
    "Vertical splitting"
   ]
  },
  {
   "cell_type": "code",
   "execution_count": 416,
   "metadata": {},
   "outputs": [
    {
     "name": "stdout",
     "output_type": "stream",
     "text": [
      "[[7 6 4 8 3 2]\n",
      " [4 1 1 0 4 8]\n",
      " [2 6 8 1 5 5]] \n",
      "\n",
      "[array([[7, 6, 4, 8, 3, 2]]), array([[4, 1, 1, 0, 4, 8]]), array([[2, 6, 8, 1, 5, 5]])]\n"
     ]
    }
   ],
   "source": [
    "x = np.random.randint(10, size=(3, 6)) \n",
    "print(x, \"\\n\")\n",
    "\n",
    "# Splits the array along its vertical axis into n pieces of the same size and shape\n",
    "print(np.vsplit(x, 3))"
   ]
  },
  {
   "cell_type": "markdown",
   "metadata": {
    "collapsed": true
   },
   "source": [
    "Depth-wise splitting"
   ]
  },
  {
   "cell_type": "code",
   "execution_count": 417,
   "metadata": {},
   "outputs": [
    {
     "name": "stdout",
     "output_type": "stream",
     "text": [
      "[[[1 2 5 3]\n",
      "  [1 7 6 8]\n",
      "  [9 6 9 5]]\n",
      "\n",
      " [[3 0 8 5]\n",
      "  [3 6 2 6]\n",
      "  [6 3 0 4]]] \n",
      "\n",
      "[array([[[1],\n",
      "        [1],\n",
      "        [9]],\n",
      "\n",
      "       [[3],\n",
      "        [3],\n",
      "        [6]]]), array([[[2],\n",
      "        [7],\n",
      "        [6]],\n",
      "\n",
      "       [[0],\n",
      "        [6],\n",
      "        [3]]]), array([[[5],\n",
      "        [6],\n",
      "        [9]],\n",
      "\n",
      "       [[8],\n",
      "        [2],\n",
      "        [0]]]), array([[[3],\n",
      "        [8],\n",
      "        [5]],\n",
      "\n",
      "       [[5],\n",
      "        [6],\n",
      "        [4]]])]\n"
     ]
    }
   ],
   "source": [
    "x = np.random.randint(10, size=(2, 3, 4)) \n",
    "print(x, \"\\n\")\n",
    "\n",
    "# Splits the array depth-wise along the third axis into n pieces of the same size and shape\n",
    "print(np.dsplit(x, 4))"
   ]
  },
  {
   "cell_type": "markdown",
   "metadata": {
    "collapsed": true
   },
   "source": [
    "## Converting Arrays"
   ]
  },
  {
   "cell_type": "code",
   "execution_count": 418,
   "metadata": {},
   "outputs": [
    {
     "name": "stdout",
     "output_type": "stream",
     "text": [
      "[9 2 3 8 6]\n",
      "[ 9.  2.  3.  8.  6.]\n",
      "['9' '2' '3' '8' '6']\n",
      "[ 9.+0.j  2.+0.j  3.+0.j  8.+0.j  6.+0.j]\n"
     ]
    }
   ],
   "source": [
    "x = np.random.randint(10, size=(5)) \n",
    "print(x)\n",
    "\n",
    "# Convert to single precision float\n",
    "f = x.astype(np.float32)\n",
    "print(f)\n",
    "\n",
    "# Convert to string\n",
    "s = x.astype(np.str)\n",
    "print(s)\n",
    "\n",
    "# Convert to complex number\n",
    "c = x.astype(np.complex)\n",
    "print(c)"
   ]
  }
 ],
 "metadata": {
  "kernelspec": {
   "display_name": "Python 3",
   "language": "python",
   "name": "python3"
  },
  "language_info": {
   "codemirror_mode": {
    "name": "ipython",
    "version": 3
   },
   "file_extension": ".py",
   "mimetype": "text/x-python",
   "name": "python",
   "nbconvert_exporter": "python",
   "pygments_lexer": "ipython3",
   "version": "3.6.4"
  }
 },
 "nbformat": 4,
 "nbformat_minor": 2
}
