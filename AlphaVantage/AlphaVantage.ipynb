{
 "cells": [
  {
   "cell_type": "markdown",
   "metadata": {},
   "source": [
    "I will be showing an example of how to obtain Data about a stock for our analysis. In this example we will be using an API called Alpha Vantage and a python library called pandas in order to do this.\n",
    "\n",
    "pandas is a library that provides fast and intuitive data structures for the use of data analysis.\n",
    "\n",
    "Alpha Vantage queries can return either a JSON response or a CVS (Comma Seperate Values) response. For the purpose of reading the data using the PANDAS library from python we will be using the CVS format.\n",
    "\n",
    "The instructions on how to format the queries can be found [here](https://www.alphavantage.co/documentation/).\n",
    "\n",
    "An example of a query: https://www.alphavantage.co/query?function=TIME_SERIES_MONTHLY_ADJUSTED&symbol=MSFT&apikey=demo&datatype=csv\n",
    "\n",
    "Following this link will download the example CSV file, though we have provided the file for you."
   ]
  },
  {
   "cell_type": "code",
   "execution_count": 25,
   "metadata": {},
   "outputs": [],
   "source": [
    "import pandas\n",
    "from IPython.display import display # display is used to display the dataframe\n",
    "stock_data = pandas.read_csv(\"example.csv\") # parses the CSV file into a dataframe\n",
    "# A csv file can also be read from a URL that provides a CSV file\n",
    "stock_data = pandas.read_csv('https://www.alphavantage.co/query?function=TIME_SERIES_MONTHLY_ADJUSTED&symbol=MSFT&apikey=demo&datatype=csv')"
   ]
  },
  {
   "cell_type": "markdown",
   "metadata": {},
   "source": [
    "The dataframe and series objects are the two main data structures in pandas.\n",
    "#### DataFrame\n",
    "\n",
    "The dataframe is tabular data structure that contains rows(entries) and columns(attributes).\n",
    "\n",
    "**stock_data = pandas.read_csv(\"example.csv\")** creates a dataframe from the example.csv file and assigns it to the stock_data variable.\n",
    "\n",
    "The head() method prints the first k rows of a dataframe. The default amount is 5, though we will display the first 10 rows. "
   ]
  },
  {
   "cell_type": "code",
   "execution_count": 26,
   "metadata": {},
   "outputs": [
    {
     "data": {
      "text/html": [
       "<div>\n",
       "<style>\n",
       "    .dataframe thead tr:only-child th {\n",
       "        text-align: right;\n",
       "    }\n",
       "\n",
       "    .dataframe thead th {\n",
       "        text-align: left;\n",
       "    }\n",
       "\n",
       "    .dataframe tbody tr th {\n",
       "        vertical-align: top;\n",
       "    }\n",
       "</style>\n",
       "<table border=\"1\" class=\"dataframe\">\n",
       "  <thead>\n",
       "    <tr style=\"text-align: right;\">\n",
       "      <th></th>\n",
       "      <th>timestamp</th>\n",
       "      <th>open</th>\n",
       "      <th>high</th>\n",
       "      <th>low</th>\n",
       "      <th>close</th>\n",
       "      <th>adjusted close</th>\n",
       "      <th>volume</th>\n",
       "      <th>dividend amount</th>\n",
       "    </tr>\n",
       "  </thead>\n",
       "  <tbody>\n",
       "    <tr>\n",
       "      <th>0</th>\n",
       "      <td>2018-02-02</td>\n",
       "      <td>94.790</td>\n",
       "      <td>96.0700</td>\n",
       "      <td>91.50</td>\n",
       "      <td>91.78</td>\n",
       "      <td>91.7800</td>\n",
       "      <td>94725628</td>\n",
       "      <td>0.00</td>\n",
       "    </tr>\n",
       "    <tr>\n",
       "      <th>1</th>\n",
       "      <td>2018-01-31</td>\n",
       "      <td>86.125</td>\n",
       "      <td>95.4500</td>\n",
       "      <td>85.50</td>\n",
       "      <td>95.01</td>\n",
       "      <td>95.0100</td>\n",
       "      <td>543377322</td>\n",
       "      <td>0.00</td>\n",
       "    </tr>\n",
       "    <tr>\n",
       "      <th>2</th>\n",
       "      <td>2017-12-29</td>\n",
       "      <td>83.600</td>\n",
       "      <td>87.4999</td>\n",
       "      <td>80.70</td>\n",
       "      <td>85.54</td>\n",
       "      <td>85.5400</td>\n",
       "      <td>447828256</td>\n",
       "      <td>0.00</td>\n",
       "    </tr>\n",
       "    <tr>\n",
       "      <th>3</th>\n",
       "      <td>2017-11-30</td>\n",
       "      <td>83.680</td>\n",
       "      <td>85.0600</td>\n",
       "      <td>82.24</td>\n",
       "      <td>84.17</td>\n",
       "      <td>84.1700</td>\n",
       "      <td>416152260</td>\n",
       "      <td>0.42</td>\n",
       "    </tr>\n",
       "    <tr>\n",
       "      <th>4</th>\n",
       "      <td>2017-10-31</td>\n",
       "      <td>74.710</td>\n",
       "      <td>86.2000</td>\n",
       "      <td>73.71</td>\n",
       "      <td>83.18</td>\n",
       "      <td>82.7611</td>\n",
       "      <td>440510118</td>\n",
       "      <td>0.00</td>\n",
       "    </tr>\n",
       "    <tr>\n",
       "      <th>5</th>\n",
       "      <td>2017-09-29</td>\n",
       "      <td>74.710</td>\n",
       "      <td>75.9700</td>\n",
       "      <td>72.92</td>\n",
       "      <td>74.49</td>\n",
       "      <td>74.1149</td>\n",
       "      <td>367134396</td>\n",
       "      <td>0.00</td>\n",
       "    </tr>\n",
       "    <tr>\n",
       "      <th>6</th>\n",
       "      <td>2017-08-31</td>\n",
       "      <td>73.100</td>\n",
       "      <td>74.9600</td>\n",
       "      <td>71.28</td>\n",
       "      <td>74.77</td>\n",
       "      <td>74.3935</td>\n",
       "      <td>429156682</td>\n",
       "      <td>0.39</td>\n",
       "    </tr>\n",
       "    <tr>\n",
       "      <th>7</th>\n",
       "      <td>2017-07-31</td>\n",
       "      <td>69.330</td>\n",
       "      <td>74.4200</td>\n",
       "      <td>68.02</td>\n",
       "      <td>72.70</td>\n",
       "      <td>71.9506</td>\n",
       "      <td>451248934</td>\n",
       "      <td>0.00</td>\n",
       "    </tr>\n",
       "    <tr>\n",
       "      <th>8</th>\n",
       "      <td>2017-06-30</td>\n",
       "      <td>70.240</td>\n",
       "      <td>72.8900</td>\n",
       "      <td>68.09</td>\n",
       "      <td>68.93</td>\n",
       "      <td>68.2195</td>\n",
       "      <td>610120893</td>\n",
       "      <td>0.00</td>\n",
       "    </tr>\n",
       "    <tr>\n",
       "      <th>9</th>\n",
       "      <td>2017-05-31</td>\n",
       "      <td>68.680</td>\n",
       "      <td>70.7400</td>\n",
       "      <td>67.14</td>\n",
       "      <td>69.84</td>\n",
       "      <td>69.1201</td>\n",
       "      <td>505249296</td>\n",
       "      <td>0.39</td>\n",
       "    </tr>\n",
       "  </tbody>\n",
       "</table>\n",
       "</div>"
      ],
      "text/plain": [
       "    timestamp    open     high    low  close  adjusted close     volume  \\\n",
       "0  2018-02-02  94.790  96.0700  91.50  91.78         91.7800   94725628   \n",
       "1  2018-01-31  86.125  95.4500  85.50  95.01         95.0100  543377322   \n",
       "2  2017-12-29  83.600  87.4999  80.70  85.54         85.5400  447828256   \n",
       "3  2017-11-30  83.680  85.0600  82.24  84.17         84.1700  416152260   \n",
       "4  2017-10-31  74.710  86.2000  73.71  83.18         82.7611  440510118   \n",
       "5  2017-09-29  74.710  75.9700  72.92  74.49         74.1149  367134396   \n",
       "6  2017-08-31  73.100  74.9600  71.28  74.77         74.3935  429156682   \n",
       "7  2017-07-31  69.330  74.4200  68.02  72.70         71.9506  451248934   \n",
       "8  2017-06-30  70.240  72.8900  68.09  68.93         68.2195  610120893   \n",
       "9  2017-05-31  68.680  70.7400  67.14  69.84         69.1201  505249296   \n",
       "\n",
       "   dividend amount  \n",
       "0             0.00  \n",
       "1             0.00  \n",
       "2             0.00  \n",
       "3             0.42  \n",
       "4             0.00  \n",
       "5             0.00  \n",
       "6             0.39  \n",
       "7             0.00  \n",
       "8             0.00  \n",
       "9             0.39  "
      ]
     },
     "metadata": {},
     "output_type": "display_data"
    },
    {
     "name": "stdout",
     "output_type": "stream",
     "text": [
      "None\n"
     ]
    }
   ],
   "source": [
    "print(display(stock_data.head(10))) # displays the first 10 rows in our dataframe"
   ]
  },
  {
   "cell_type": "markdown",
   "metadata": {},
   "source": [
    "The line, **from IPython.display import display**, imports a method that is used to format a dataframe when it is printed.\n",
    "\n",
    "We will now explore some basic features of a dataframe."
   ]
  },
  {
   "cell_type": "code",
   "execution_count": 27,
   "metadata": {},
   "outputs": [
    {
     "name": "stdout",
     "output_type": "stream",
     "text": [
      "(217, 8)\n",
      "217\n",
      "8\n"
     ]
    }
   ],
   "source": [
    "print(stock_data.shape)\n",
    "print(stock_data.shape[0]) # Prints only the number of rows\n",
    "print(stock_data.shape[1]) # Prints on the number of columns"
   ]
  },
  {
   "cell_type": "markdown",
   "metadata": {},
   "source": [
    "The .shape attribute of dataframes list the number of rows and the number of columns."
   ]
  },
  {
   "cell_type": "code",
   "execution_count": 28,
   "metadata": {},
   "outputs": [
    {
     "name": "stdout",
     "output_type": "stream",
     "text": [
      "timestamp           object\n",
      "open               float64\n",
      "high               float64\n",
      "low                float64\n",
      "close              float64\n",
      "adjusted close     float64\n",
      "volume               int64\n",
      "dividend amount    float64\n",
      "dtype: object\n"
     ]
    }
   ],
   "source": [
    "print(stock_data.dtypes)"
   ]
  },
  {
   "cell_type": "markdown",
   "metadata": {},
   "source": [
    "The .dtypes attribute of dataframes lists the name and data type of each column."
   ]
  },
  {
   "cell_type": "code",
   "execution_count": 29,
   "metadata": {},
   "outputs": [
    {
     "data": {
      "text/html": [
       "<div>\n",
       "<style>\n",
       "    .dataframe thead tr:only-child th {\n",
       "        text-align: right;\n",
       "    }\n",
       "\n",
       "    .dataframe thead th {\n",
       "        text-align: left;\n",
       "    }\n",
       "\n",
       "    .dataframe tbody tr th {\n",
       "        vertical-align: top;\n",
       "    }\n",
       "</style>\n",
       "<table border=\"1\" class=\"dataframe\">\n",
       "  <thead>\n",
       "    <tr style=\"text-align: right;\">\n",
       "      <th></th>\n",
       "      <th>timestamp</th>\n",
       "      <th>open</th>\n",
       "      <th>high</th>\n",
       "      <th>low</th>\n",
       "      <th>close</th>\n",
       "      <th>adjusted close</th>\n",
       "      <th>dividend amount</th>\n",
       "    </tr>\n",
       "  </thead>\n",
       "  <tbody>\n",
       "    <tr>\n",
       "      <th>0</th>\n",
       "      <td>2018-02-02</td>\n",
       "      <td>94.790</td>\n",
       "      <td>96.0700</td>\n",
       "      <td>91.50</td>\n",
       "      <td>91.78</td>\n",
       "      <td>91.7800</td>\n",
       "      <td>0.00</td>\n",
       "    </tr>\n",
       "    <tr>\n",
       "      <th>1</th>\n",
       "      <td>2018-01-31</td>\n",
       "      <td>86.125</td>\n",
       "      <td>95.4500</td>\n",
       "      <td>85.50</td>\n",
       "      <td>95.01</td>\n",
       "      <td>95.0100</td>\n",
       "      <td>0.00</td>\n",
       "    </tr>\n",
       "    <tr>\n",
       "      <th>2</th>\n",
       "      <td>2017-12-29</td>\n",
       "      <td>83.600</td>\n",
       "      <td>87.4999</td>\n",
       "      <td>80.70</td>\n",
       "      <td>85.54</td>\n",
       "      <td>85.5400</td>\n",
       "      <td>0.00</td>\n",
       "    </tr>\n",
       "    <tr>\n",
       "      <th>3</th>\n",
       "      <td>2017-11-30</td>\n",
       "      <td>83.680</td>\n",
       "      <td>85.0600</td>\n",
       "      <td>82.24</td>\n",
       "      <td>84.17</td>\n",
       "      <td>84.1700</td>\n",
       "      <td>0.42</td>\n",
       "    </tr>\n",
       "    <tr>\n",
       "      <th>4</th>\n",
       "      <td>2017-10-31</td>\n",
       "      <td>74.710</td>\n",
       "      <td>86.2000</td>\n",
       "      <td>73.71</td>\n",
       "      <td>83.18</td>\n",
       "      <td>82.7611</td>\n",
       "      <td>0.00</td>\n",
       "    </tr>\n",
       "  </tbody>\n",
       "</table>\n",
       "</div>"
      ],
      "text/plain": [
       "    timestamp    open     high    low  close  adjusted close  dividend amount\n",
       "0  2018-02-02  94.790  96.0700  91.50  91.78         91.7800             0.00\n",
       "1  2018-01-31  86.125  95.4500  85.50  95.01         95.0100             0.00\n",
       "2  2017-12-29  83.600  87.4999  80.70  85.54         85.5400             0.00\n",
       "3  2017-11-30  83.680  85.0600  82.24  84.17         84.1700             0.42\n",
       "4  2017-10-31  74.710  86.2000  73.71  83.18         82.7611             0.00"
      ]
     },
     "metadata": {},
     "output_type": "display_data"
    },
    {
     "name": "stdout",
     "output_type": "stream",
     "text": [
      "None\n"
     ]
    }
   ],
   "source": [
    "new_stock_data = stock_data.drop('volume', axis = 1) # Drops the specified column from a dataframe\n",
    "print(display(new_stock_data.head()))"
   ]
  },
  {
   "cell_type": "markdown",
   "metadata": {},
   "source": [
    "Here we have created a new dataframe that is identical to stock_data except now the volume column has been removed. Please note that stock_data has not been modified, we merely created a copy. To remove a column from the same dataframe would look like this. **stock_data = stock_data.drop('volume', axis = 1)**"
   ]
  },
  {
   "cell_type": "code",
   "execution_count": 30,
   "metadata": {},
   "outputs": [
    {
     "data": {
      "text/html": [
       "<div>\n",
       "<style>\n",
       "    .dataframe thead tr:only-child th {\n",
       "        text-align: right;\n",
       "    }\n",
       "\n",
       "    .dataframe thead th {\n",
       "        text-align: left;\n",
       "    }\n",
       "\n",
       "    .dataframe tbody tr th {\n",
       "        vertical-align: top;\n",
       "    }\n",
       "</style>\n",
       "<table border=\"1\" class=\"dataframe\">\n",
       "  <thead>\n",
       "    <tr style=\"text-align: right;\">\n",
       "      <th></th>\n",
       "      <th>timestamp</th>\n",
       "      <th>open</th>\n",
       "      <th>close</th>\n",
       "    </tr>\n",
       "  </thead>\n",
       "  <tbody>\n",
       "    <tr>\n",
       "      <th>0</th>\n",
       "      <td>2018-02-02</td>\n",
       "      <td>94.790</td>\n",
       "      <td>91.78</td>\n",
       "    </tr>\n",
       "    <tr>\n",
       "      <th>1</th>\n",
       "      <td>2018-01-31</td>\n",
       "      <td>86.125</td>\n",
       "      <td>95.01</td>\n",
       "    </tr>\n",
       "    <tr>\n",
       "      <th>2</th>\n",
       "      <td>2017-12-29</td>\n",
       "      <td>83.600</td>\n",
       "      <td>85.54</td>\n",
       "    </tr>\n",
       "    <tr>\n",
       "      <th>3</th>\n",
       "      <td>2017-11-30</td>\n",
       "      <td>83.680</td>\n",
       "      <td>84.17</td>\n",
       "    </tr>\n",
       "    <tr>\n",
       "      <th>4</th>\n",
       "      <td>2017-10-31</td>\n",
       "      <td>74.710</td>\n",
       "      <td>83.18</td>\n",
       "    </tr>\n",
       "  </tbody>\n",
       "</table>\n",
       "</div>"
      ],
      "text/plain": [
       "    timestamp    open  close\n",
       "0  2018-02-02  94.790  91.78\n",
       "1  2018-01-31  86.125  95.01\n",
       "2  2017-12-29  83.600  85.54\n",
       "3  2017-11-30  83.680  84.17\n",
       "4  2017-10-31  74.710  83.18"
      ]
     },
     "metadata": {},
     "output_type": "display_data"
    },
    {
     "name": "stdout",
     "output_type": "stream",
     "text": [
      "None\n"
     ]
    }
   ],
   "source": [
    "stock_subset = stock_data[['timestamp', 'open', 'close']] # Creates a subset dataframe from another dataframe\n",
    "print(display(stock_subset.head(5)))"
   ]
  },
  {
   "cell_type": "markdown",
   "metadata": {},
   "source": [
    "Here we have created a subset of the dataframe. A subset can contain any number of columns from the original dataframe. Take note of how the column names are enclosed with double brackets.\n",
    "# to do : continue from here with more functionality of dataframes."
   ]
  },
  {
   "cell_type": "markdown",
   "metadata": {},
   "source": [
    "#### Series\n",
    "A series is a one dimensional array that is used to that can be used to store a single column from a dataframe."
   ]
  },
  {
   "cell_type": "code",
   "execution_count": 31,
   "metadata": {},
   "outputs": [
    {
     "data": {
      "text/plain": [
       "0    91.78\n",
       "1    95.01\n",
       "2    85.54\n",
       "3    84.17\n",
       "4    83.18\n",
       "5    74.49\n",
       "6    74.77\n",
       "7    72.70\n",
       "8    68.93\n",
       "9    69.84\n",
       "Name: close, dtype: float64"
      ]
     },
     "metadata": {},
     "output_type": "display_data"
    },
    {
     "name": "stdout",
     "output_type": "stream",
     "text": [
      "None\n"
     ]
    }
   ],
   "source": [
    "close_series = stock_data['close'] # Assigns the close column from the dataframe to the series variable, close_series\n",
    "print(display(close_series.head(10))) # prints the first ten rows in the series"
   ]
  },
  {
   "cell_type": "markdown",
   "metadata": {},
   "source": [
    "**stock_data['close']** allows us to access a single column in the dataframe. If you wish to use a different column then simply change the string to the name of the column."
   ]
  }
 ],
 "metadata": {
  "kernelspec": {
   "display_name": "Python 3",
   "language": "python",
   "name": "python3"
  },
  "language_info": {
   "codemirror_mode": {
    "name": "ipython",
    "version": 3
   },
   "file_extension": ".py",
   "mimetype": "text/x-python",
   "name": "python",
   "nbconvert_exporter": "python",
   "pygments_lexer": "ipython3",
   "version": "3.6.3"
  }
 },
 "nbformat": 4,
 "nbformat_minor": 2
}
