{
 "cells": [
  {
   "cell_type": "markdown",
   "metadata": {},
   "source": [
    "I will be showing an example of how to obtain Data about a stock for our analysis. In this example we will be using an API called Alpha Vantage and a python library called pandas in order to do this.\n",
    "\n",
    "pandas is a library that provides fast and intuitive data structures for the use of data analysis.\n",
    "\n",
    "Alpha Vantage queries can return either a JSON response or a CVS (Comma Seperate Values) response. For the purpose of reading the data using the PANDAS library from python we will be using the CVS format.\n",
    "\n",
    "The instructions on how to format the queries can be found [here](https://www.alphavantage.co/documentation/).\n",
    "\n",
    "An example of a query: https://www.alphavantage.co/query?function=TIME_SERIES_MONTHLY_ADJUSTED&symbol=MSFT&apikey=demo&datatype=csv\n",
    "\n",
    "Following this link will download the example CSV file, though we have provided the file for you."
   ]
  },
  {
   "cell_type": "code",
   "execution_count": 25,
   "metadata": {
    "collapsed": true
   },
   "outputs": [],
   "source": [
    "import pandas\n",
    "from IPython.display import display # display is used to display the dataframe\n",
    "stock_data = pandas.read_csv(\"example.csv\") # parses the CSV file into a dataframe\n",
    "# A csv file can also be read from a URL that provides a CSV file\n",
    "# The index_col parameter sets which column of the data set is to be used as the index\n",
    "stock_data = pandas.read_csv('https://www.alphavantage.co/query?function=TIME_SERIES_MONTHLY_ADJUSTED&symbol=MSFT&apikey=demo&datatype=csv',\n",
    "                            index_col='timestamp')"
   ]
  },
  {
   "cell_type": "markdown",
   "metadata": {},
   "source": [
    "The dataframe and series objects are the two main data structures in pandas.\n",
    "#### DataFrame\n",
    "\n",
    "The dataframe is tabular data structure that contains rows(entries) and columns(attributes).\n",
    "\n",
    "**stock_data = pandas.read_csv(\"example.csv\")** creates a dataframe from the example.csv file and assigns it to the stock_data variable.\n",
    "\n",
    "The head() method prints the first k rows of a dataframe. The default amount is 5, though we will display the first 10 rows. "
   ]
  },
  {
   "cell_type": "code",
   "execution_count": 18,
   "metadata": {},
   "outputs": [
    {
     "data": {
      "text/html": [
       "<div>\n",
       "<style>\n",
       "    .dataframe thead tr:only-child th {\n",
       "        text-align: right;\n",
       "    }\n",
       "\n",
       "    .dataframe thead th {\n",
       "        text-align: left;\n",
       "    }\n",
       "\n",
       "    .dataframe tbody tr th {\n",
       "        vertical-align: top;\n",
       "    }\n",
       "</style>\n",
       "<table border=\"1\" class=\"dataframe\">\n",
       "  <thead>\n",
       "    <tr style=\"text-align: right;\">\n",
       "      <th></th>\n",
       "      <th>open</th>\n",
       "      <th>high</th>\n",
       "      <th>low</th>\n",
       "      <th>close</th>\n",
       "      <th>adjusted close</th>\n",
       "      <th>volume</th>\n",
       "      <th>dividend amount</th>\n",
       "    </tr>\n",
       "    <tr>\n",
       "      <th>timestamp</th>\n",
       "      <th></th>\n",
       "      <th></th>\n",
       "      <th></th>\n",
       "      <th></th>\n",
       "      <th></th>\n",
       "      <th></th>\n",
       "      <th></th>\n",
       "    </tr>\n",
       "  </thead>\n",
       "  <tbody>\n",
       "    <tr>\n",
       "      <th>2018-02-14</th>\n",
       "      <td>94.790</td>\n",
       "      <td>96.0700</td>\n",
       "      <td>83.83</td>\n",
       "      <td>89.75</td>\n",
       "      <td>89.7500</td>\n",
       "      <td>424644290</td>\n",
       "      <td>0.00</td>\n",
       "    </tr>\n",
       "    <tr>\n",
       "      <th>2018-01-31</th>\n",
       "      <td>86.125</td>\n",
       "      <td>95.4500</td>\n",
       "      <td>85.50</td>\n",
       "      <td>95.01</td>\n",
       "      <td>95.0100</td>\n",
       "      <td>543377322</td>\n",
       "      <td>0.00</td>\n",
       "    </tr>\n",
       "    <tr>\n",
       "      <th>2017-12-29</th>\n",
       "      <td>83.600</td>\n",
       "      <td>87.4999</td>\n",
       "      <td>80.70</td>\n",
       "      <td>85.54</td>\n",
       "      <td>85.5400</td>\n",
       "      <td>447828256</td>\n",
       "      <td>0.00</td>\n",
       "    </tr>\n",
       "    <tr>\n",
       "      <th>2017-11-30</th>\n",
       "      <td>83.680</td>\n",
       "      <td>85.0600</td>\n",
       "      <td>82.24</td>\n",
       "      <td>84.17</td>\n",
       "      <td>84.1700</td>\n",
       "      <td>416152260</td>\n",
       "      <td>0.42</td>\n",
       "    </tr>\n",
       "    <tr>\n",
       "      <th>2017-10-31</th>\n",
       "      <td>74.710</td>\n",
       "      <td>86.2000</td>\n",
       "      <td>73.71</td>\n",
       "      <td>83.18</td>\n",
       "      <td>82.7611</td>\n",
       "      <td>440510118</td>\n",
       "      <td>0.00</td>\n",
       "    </tr>\n",
       "  </tbody>\n",
       "</table>\n",
       "</div>"
      ],
      "text/plain": [
       "              open     high    low  close  adjusted close     volume  \\\n",
       "timestamp                                                              \n",
       "2018-02-14  94.790  96.0700  83.83  89.75         89.7500  424644290   \n",
       "2018-01-31  86.125  95.4500  85.50  95.01         95.0100  543377322   \n",
       "2017-12-29  83.600  87.4999  80.70  85.54         85.5400  447828256   \n",
       "2017-11-30  83.680  85.0600  82.24  84.17         84.1700  416152260   \n",
       "2017-10-31  74.710  86.2000  73.71  83.18         82.7611  440510118   \n",
       "\n",
       "            dividend amount  \n",
       "timestamp                    \n",
       "2018-02-14             0.00  \n",
       "2018-01-31             0.00  \n",
       "2017-12-29             0.00  \n",
       "2017-11-30             0.42  \n",
       "2017-10-31             0.00  "
      ]
     },
     "metadata": {},
     "output_type": "display_data"
    },
    {
     "name": "stdout",
     "output_type": "stream",
     "text": [
      "None\n"
     ]
    },
    {
     "data": {
      "text/html": [
       "<div>\n",
       "<style>\n",
       "    .dataframe thead tr:only-child th {\n",
       "        text-align: right;\n",
       "    }\n",
       "\n",
       "    .dataframe thead th {\n",
       "        text-align: left;\n",
       "    }\n",
       "\n",
       "    .dataframe tbody tr th {\n",
       "        vertical-align: top;\n",
       "    }\n",
       "</style>\n",
       "<table border=\"1\" class=\"dataframe\">\n",
       "  <thead>\n",
       "    <tr style=\"text-align: right;\">\n",
       "      <th></th>\n",
       "      <th>open</th>\n",
       "      <th>high</th>\n",
       "      <th>low</th>\n",
       "      <th>close</th>\n",
       "      <th>adjusted close</th>\n",
       "      <th>volume</th>\n",
       "      <th>dividend amount</th>\n",
       "    </tr>\n",
       "    <tr>\n",
       "      <th>timestamp</th>\n",
       "      <th></th>\n",
       "      <th></th>\n",
       "      <th></th>\n",
       "      <th></th>\n",
       "      <th></th>\n",
       "      <th></th>\n",
       "      <th></th>\n",
       "    </tr>\n",
       "  </thead>\n",
       "  <tbody>\n",
       "    <tr>\n",
       "      <th>2000-02-29</th>\n",
       "      <td>98.50</td>\n",
       "      <td>110.00</td>\n",
       "      <td>88.12</td>\n",
       "      <td>89.37</td>\n",
       "      <td>29.7464</td>\n",
       "      <td>667243800</td>\n",
       "      <td>0.0</td>\n",
       "    </tr>\n",
       "    <tr>\n",
       "      <th>2000-03-31</th>\n",
       "      <td>89.62</td>\n",
       "      <td>115.00</td>\n",
       "      <td>88.94</td>\n",
       "      <td>106.25</td>\n",
       "      <td>35.3648</td>\n",
       "      <td>1014093800</td>\n",
       "      <td>0.0</td>\n",
       "    </tr>\n",
       "    <tr>\n",
       "      <th>2000-04-28</th>\n",
       "      <td>94.44</td>\n",
       "      <td>96.50</td>\n",
       "      <td>65.00</td>\n",
       "      <td>69.75</td>\n",
       "      <td>23.2160</td>\n",
       "      <td>1129073300</td>\n",
       "      <td>0.0</td>\n",
       "    </tr>\n",
       "    <tr>\n",
       "      <th>2000-05-31</th>\n",
       "      <td>72.87</td>\n",
       "      <td>74.00</td>\n",
       "      <td>60.38</td>\n",
       "      <td>62.56</td>\n",
       "      <td>20.8228</td>\n",
       "      <td>672215400</td>\n",
       "      <td>0.0</td>\n",
       "    </tr>\n",
       "    <tr>\n",
       "      <th>2000-06-30</th>\n",
       "      <td>64.37</td>\n",
       "      <td>82.19</td>\n",
       "      <td>63.81</td>\n",
       "      <td>80.00</td>\n",
       "      <td>26.6276</td>\n",
       "      <td>733525100</td>\n",
       "      <td>0.0</td>\n",
       "    </tr>\n",
       "  </tbody>\n",
       "</table>\n",
       "</div>"
      ],
      "text/plain": [
       "             open    high    low   close  adjusted close      volume  \\\n",
       "timestamp                                                              \n",
       "2000-02-29  98.50  110.00  88.12   89.37         29.7464   667243800   \n",
       "2000-03-31  89.62  115.00  88.94  106.25         35.3648  1014093800   \n",
       "2000-04-28  94.44   96.50  65.00   69.75         23.2160  1129073300   \n",
       "2000-05-31  72.87   74.00  60.38   62.56         20.8228   672215400   \n",
       "2000-06-30  64.37   82.19  63.81   80.00         26.6276   733525100   \n",
       "\n",
       "            dividend amount  \n",
       "timestamp                    \n",
       "2000-02-29              0.0  \n",
       "2000-03-31              0.0  \n",
       "2000-04-28              0.0  \n",
       "2000-05-31              0.0  \n",
       "2000-06-30              0.0  "
      ]
     },
     "metadata": {},
     "output_type": "display_data"
    },
    {
     "name": "stdout",
     "output_type": "stream",
     "text": [
      "None\n"
     ]
    }
   ],
   "source": [
    "print(display(stock_data.head(5))) # displays the first 10 rows in our dataframe\n",
    "stock_data = stock_data.iloc[::-1] # reOrders the data frame so it starts with the last date\n",
    "print(display(stock_data.head(5)))"
   ]
  },
  {
   "cell_type": "markdown",
   "metadata": {},
   "source": [
    "The line, **from IPython.display import display**, imports a method that is used to format a dataframe when it is printed.\n",
    "\n",
    "We will now explore some basic features of a dataframe."
   ]
  },
  {
   "cell_type": "code",
   "execution_count": 19,
   "metadata": {},
   "outputs": [
    {
     "name": "stdout",
     "output_type": "stream",
     "text": [
      "(217, 7)\n",
      "217\n",
      "7\n"
     ]
    }
   ],
   "source": [
    "print(stock_data.shape)\n",
    "print(stock_data.shape[0]) # Prints only the number of rows\n",
    "print(stock_data.shape[1]) # Prints on the number of columns"
   ]
  },
  {
   "cell_type": "markdown",
   "metadata": {},
   "source": [
    "The .shape attribute of dataframes list the number of rows and the number of columns."
   ]
  },
  {
   "cell_type": "code",
   "execution_count": 20,
   "metadata": {},
   "outputs": [
    {
     "name": "stdout",
     "output_type": "stream",
     "text": [
      "open               float64\n",
      "high               float64\n",
      "low                float64\n",
      "close              float64\n",
      "adjusted close     float64\n",
      "volume               int64\n",
      "dividend amount    float64\n",
      "dtype: object\n"
     ]
    }
   ],
   "source": [
    "print(stock_data.dtypes)"
   ]
  },
  {
   "cell_type": "markdown",
   "metadata": {},
   "source": [
    "The .dtypes attribute of dataframes lists the name and data type of each column."
   ]
  },
  {
   "cell_type": "code",
   "execution_count": 21,
   "metadata": {},
   "outputs": [
    {
     "data": {
      "text/html": [
       "<div>\n",
       "<style>\n",
       "    .dataframe thead tr:only-child th {\n",
       "        text-align: right;\n",
       "    }\n",
       "\n",
       "    .dataframe thead th {\n",
       "        text-align: left;\n",
       "    }\n",
       "\n",
       "    .dataframe tbody tr th {\n",
       "        vertical-align: top;\n",
       "    }\n",
       "</style>\n",
       "<table border=\"1\" class=\"dataframe\">\n",
       "  <thead>\n",
       "    <tr style=\"text-align: right;\">\n",
       "      <th></th>\n",
       "      <th>open</th>\n",
       "      <th>high</th>\n",
       "      <th>low</th>\n",
       "      <th>close</th>\n",
       "      <th>adjusted close</th>\n",
       "      <th>dividend amount</th>\n",
       "    </tr>\n",
       "    <tr>\n",
       "      <th>timestamp</th>\n",
       "      <th></th>\n",
       "      <th></th>\n",
       "      <th></th>\n",
       "      <th></th>\n",
       "      <th></th>\n",
       "      <th></th>\n",
       "    </tr>\n",
       "  </thead>\n",
       "  <tbody>\n",
       "    <tr>\n",
       "      <th>2000-02-29</th>\n",
       "      <td>98.50</td>\n",
       "      <td>110.00</td>\n",
       "      <td>88.12</td>\n",
       "      <td>89.37</td>\n",
       "      <td>29.7464</td>\n",
       "      <td>0.0</td>\n",
       "    </tr>\n",
       "    <tr>\n",
       "      <th>2000-03-31</th>\n",
       "      <td>89.62</td>\n",
       "      <td>115.00</td>\n",
       "      <td>88.94</td>\n",
       "      <td>106.25</td>\n",
       "      <td>35.3648</td>\n",
       "      <td>0.0</td>\n",
       "    </tr>\n",
       "    <tr>\n",
       "      <th>2000-04-28</th>\n",
       "      <td>94.44</td>\n",
       "      <td>96.50</td>\n",
       "      <td>65.00</td>\n",
       "      <td>69.75</td>\n",
       "      <td>23.2160</td>\n",
       "      <td>0.0</td>\n",
       "    </tr>\n",
       "    <tr>\n",
       "      <th>2000-05-31</th>\n",
       "      <td>72.87</td>\n",
       "      <td>74.00</td>\n",
       "      <td>60.38</td>\n",
       "      <td>62.56</td>\n",
       "      <td>20.8228</td>\n",
       "      <td>0.0</td>\n",
       "    </tr>\n",
       "    <tr>\n",
       "      <th>2000-06-30</th>\n",
       "      <td>64.37</td>\n",
       "      <td>82.19</td>\n",
       "      <td>63.81</td>\n",
       "      <td>80.00</td>\n",
       "      <td>26.6276</td>\n",
       "      <td>0.0</td>\n",
       "    </tr>\n",
       "  </tbody>\n",
       "</table>\n",
       "</div>"
      ],
      "text/plain": [
       "             open    high    low   close  adjusted close  dividend amount\n",
       "timestamp                                                                \n",
       "2000-02-29  98.50  110.00  88.12   89.37         29.7464              0.0\n",
       "2000-03-31  89.62  115.00  88.94  106.25         35.3648              0.0\n",
       "2000-04-28  94.44   96.50  65.00   69.75         23.2160              0.0\n",
       "2000-05-31  72.87   74.00  60.38   62.56         20.8228              0.0\n",
       "2000-06-30  64.37   82.19  63.81   80.00         26.6276              0.0"
      ]
     },
     "metadata": {},
     "output_type": "display_data"
    },
    {
     "name": "stdout",
     "output_type": "stream",
     "text": [
      "None\n"
     ]
    }
   ],
   "source": [
    "new_stock_data = stock_data.drop('volume', axis = 1) # Drops the specified column from a dataframe\n",
    "print(display(new_stock_data.head()))"
   ]
  },
  {
   "cell_type": "markdown",
   "metadata": {},
   "source": [
    "Here we have created a new dataframe that is identical to stock_data except now the volume column has been removed. Please note that stock_data has not been modified, we merely created a copy. To remove a column from the same dataframe would look like this. **stock_data = stock_data.drop('volume', axis = 1)**"
   ]
  },
  {
   "cell_type": "code",
   "execution_count": 22,
   "metadata": {},
   "outputs": [
    {
     "data": {
      "text/html": [
       "<div>\n",
       "<style>\n",
       "    .dataframe thead tr:only-child th {\n",
       "        text-align: right;\n",
       "    }\n",
       "\n",
       "    .dataframe thead th {\n",
       "        text-align: left;\n",
       "    }\n",
       "\n",
       "    .dataframe tbody tr th {\n",
       "        vertical-align: top;\n",
       "    }\n",
       "</style>\n",
       "<table border=\"1\" class=\"dataframe\">\n",
       "  <thead>\n",
       "    <tr style=\"text-align: right;\">\n",
       "      <th></th>\n",
       "      <th>open</th>\n",
       "      <th>close</th>\n",
       "    </tr>\n",
       "    <tr>\n",
       "      <th>timestamp</th>\n",
       "      <th></th>\n",
       "      <th></th>\n",
       "    </tr>\n",
       "  </thead>\n",
       "  <tbody>\n",
       "    <tr>\n",
       "      <th>2000-02-29</th>\n",
       "      <td>98.50</td>\n",
       "      <td>89.37</td>\n",
       "    </tr>\n",
       "    <tr>\n",
       "      <th>2000-03-31</th>\n",
       "      <td>89.62</td>\n",
       "      <td>106.25</td>\n",
       "    </tr>\n",
       "    <tr>\n",
       "      <th>2000-04-28</th>\n",
       "      <td>94.44</td>\n",
       "      <td>69.75</td>\n",
       "    </tr>\n",
       "    <tr>\n",
       "      <th>2000-05-31</th>\n",
       "      <td>72.87</td>\n",
       "      <td>62.56</td>\n",
       "    </tr>\n",
       "    <tr>\n",
       "      <th>2000-06-30</th>\n",
       "      <td>64.37</td>\n",
       "      <td>80.00</td>\n",
       "    </tr>\n",
       "  </tbody>\n",
       "</table>\n",
       "</div>"
      ],
      "text/plain": [
       "             open   close\n",
       "timestamp                \n",
       "2000-02-29  98.50   89.37\n",
       "2000-03-31  89.62  106.25\n",
       "2000-04-28  94.44   69.75\n",
       "2000-05-31  72.87   62.56\n",
       "2000-06-30  64.37   80.00"
      ]
     },
     "metadata": {},
     "output_type": "display_data"
    },
    {
     "name": "stdout",
     "output_type": "stream",
     "text": [
      "None\n"
     ]
    }
   ],
   "source": [
    "stock_subset = stock_data[[ 'open', 'close' ]] # Creates a subset dataframe from another dataframe\n",
    "print(display(stock_subset.head(5)))"
   ]
  },
  {
   "cell_type": "markdown",
   "metadata": {},
   "source": [
    "Here we have created a subset of the dataframe. A subset can contain any number of columns from the original dataframe. Take note of how the column names are enclosed with double brackets.\n",
    "# to do : continue from here with more functionality of dataframes. Change timestamp to date object"
   ]
  },
  {
   "cell_type": "markdown",
   "metadata": {},
   "source": [
    "#### Series\n",
    "A series is a one dimensional array that is used to that can be used to store a single column from a dataframe."
   ]
  },
  {
   "cell_type": "code",
   "execution_count": 23,
   "metadata": {},
   "outputs": [
    {
     "data": {
      "text/plain": [
       "timestamp\n",
       "2000-02-29     89.37\n",
       "2000-03-31    106.25\n",
       "2000-04-28     69.75\n",
       "2000-05-31     62.56\n",
       "2000-06-30     80.00\n",
       "2000-07-31     69.81\n",
       "2000-08-31     69.81\n",
       "2000-09-29     60.31\n",
       "2000-10-31     68.87\n",
       "2000-11-30     57.38\n",
       "Name: close, dtype: float64"
      ]
     },
     "metadata": {},
     "output_type": "display_data"
    },
    {
     "name": "stdout",
     "output_type": "stream",
     "text": [
      "None\n"
     ]
    }
   ],
   "source": [
    "close_series = stock_data['close'] # Assigns the close column from the dataframe to the series variable, close_series\n",
    "print(display(close_series.head(10))) # prints the first ten rows in the series"
   ]
  },
  {
   "cell_type": "markdown",
   "metadata": {},
   "source": [
    "**stock_data['close']** allows us to access a single column in the dataframe. If you wish to use a different column then simply change the string to the name of the column."
   ]
  },
  {
   "cell_type": "code",
   "execution_count": null,
   "metadata": {
    "collapsed": true
   },
   "outputs": [],
   "source": []
  },
  {
   "cell_type": "code",
   "execution_count": null,
   "metadata": {
    "collapsed": true
   },
   "outputs": [],
   "source": []
  }
 ],
 "metadata": {
  "kernelspec": {
   "display_name": "Python 3",
   "language": "python",
   "name": "python3"
  },
  "language_info": {
   "codemirror_mode": {
    "name": "ipython",
    "version": 3
   },
   "file_extension": ".py",
   "mimetype": "text/x-python",
   "name": "python",
   "nbconvert_exporter": "python",
   "pygments_lexer": "ipython3",
   "version": "3.6.3"
  }
 },
 "nbformat": 4,
 "nbformat_minor": 2
}
