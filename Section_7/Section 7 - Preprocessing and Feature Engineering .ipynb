{
 "cells": [
  {
   "cell_type": "markdown",
   "metadata": {},
   "source": [
    "# Preprocessing and Feature Engineering "
   ]
  },
  {
   "cell_type": "markdown",
   "metadata": {},
   "source": [
    "In order for machine learning algorithms to work properly they require their input data to be formatted in certain ways. The preprocessing phase handles these formatting requirements through a number of different techniques such as binarization, mean removal, scaling, normalization, and label encoding. Similarly, feature engineering is about taking any present information and turning it into a numerically illustrative feature matrix. "
   ]
  },
  {
   "cell_type": "markdown",
   "metadata": {
    "collapsed": true
   },
   "source": [
    "## Binarization"
   ]
  },
  {
   "cell_type": "markdown",
   "metadata": {
    "collapsed": true
   },
   "source": [
    "Numerical values are transformed into Boolean values represented by zeros and ones."
   ]
  },
  {
   "cell_type": "code",
   "execution_count": 209,
   "metadata": {},
   "outputs": [
    {
     "name": "stdout",
     "output_type": "stream",
     "text": [
      "[[ 0.26516553  0.04466798]\n",
      " [ 0.03344112  0.07077217]\n",
      " [ 0.79311455  0.56114724]]\n"
     ]
    }
   ],
   "source": [
    "import numpy as np\n",
    "from sklearn import preprocessing\n",
    "\n",
    "inputData = np.random.rand(3, 2)\n",
    "print(inputData)"
   ]
  },
  {
   "cell_type": "code",
   "execution_count": 210,
   "metadata": {},
   "outputs": [
    {
     "name": "stdout",
     "output_type": "stream",
     "text": [
      "Binarized Data:\n",
      " [[0 0]\n",
      " [0 0]\n",
      " [1 1]]\n"
     ]
    }
   ],
   "source": [
    "# Binarize data with values over .5 being 1 and those below 0\n",
    "binData = np.where(inputData > .5, 1, 0)\n",
    "print(\"Binarized Data:\\n\", binData)\n",
    "\n",
    "# Alternative\n",
    "# inputData = inputData.reshape(-1, 1)\n",
    "# data_binarized = preprocessing.Binarizer(threshold=.5).transform(inputData) \n",
    "# print(\"\\nBinarized Data:\\n\", data_binarized)"
   ]
  },
  {
   "cell_type": "markdown",
   "metadata": {
    "collapsed": true
   },
   "source": [
    "## Mean Removal"
   ]
  },
  {
   "cell_type": "markdown",
   "metadata": {
    "collapsed": true
   },
   "source": [
    "Removing the mean involves setting it to zero and having a standard deviation of ones. This helps reduce bias in the input data. "
   ]
  },
  {
   "cell_type": "code",
   "execution_count": 211,
   "metadata": {},
   "outputs": [
    {
     "name": "stdout",
     "output_type": "stream",
     "text": [
      "Input Data:\n",
      " [[ 0.26516553  0.04466798]\n",
      " [ 0.03344112  0.07077217]\n",
      " [ 0.79311455  0.56114724]]\n",
      "\n",
      "Mean: [ 0.36390707  0.22552913]\n",
      "Standard Deviation: [ 0.31789762  0.237557  ]\n"
     ]
    }
   ],
   "source": [
    "# Mean and standard deviation before mean removal\n",
    "print(\"Input Data:\\n\", inputData)\n",
    "print(\"\\nMean:\", inputData.mean(axis=0))\n",
    "print(\"Standard Deviation:\", inputData.std(axis=0))"
   ]
  },
  {
   "cell_type": "code",
   "execution_count": 212,
   "metadata": {},
   "outputs": [
    {
     "name": "stdout",
     "output_type": "stream",
     "text": [
      "Input Data:\n",
      " [[-0.31060797 -0.7613379 ]\n",
      " [-1.03953576 -0.6514519 ]\n",
      " [ 1.35014373  1.4127898 ]]\n",
      "\n",
      "Mean: [  7.40148683e-17   7.40148683e-17]\n",
      "Standard Deviation: [ 1.  1.]\n"
     ]
    }
   ],
   "source": [
    "# Mean and standard deviation after mean removal\n",
    "scaledData = preprocessing.scale(inputData)\n",
    "print(\"Input Data:\\n\", scaledData)\n",
    "print(\"\\nMean:\", scaledData.mean(axis=0))\n",
    "print(\"Standard Deviation:\", scaledData.std(axis=0))"
   ]
  },
  {
   "cell_type": "markdown",
   "metadata": {
    "collapsed": true
   },
   "source": [
    "## Scaling"
   ]
  },
  {
   "cell_type": "markdown",
   "metadata": {
    "collapsed": true
   },
   "source": [
    "As the name implies this technique helps to scale down the variance of the input data so as to avoid any artificially large or small inputs."
   ]
  },
  {
   "cell_type": "code",
   "execution_count": 213,
   "metadata": {},
   "outputs": [
    {
     "name": "stdout",
     "output_type": "stream",
     "text": [
      "Input Data:\n",
      " [[ 0.26516553  0.04466798]\n",
      " [ 0.03344112  0.07077217]\n",
      " [ 0.79311455  0.56114724]]\n",
      "\n",
      "Min max scaled data:\n",
      " [[ 0.30503161  0.        ]\n",
      " [ 0.          0.05054257]\n",
      " [ 1.          1.        ]]\n"
     ]
    }
   ],
   "source": [
    "# Min max scaling with a feature range from 0 and 1\n",
    "data_scaler_minmax = preprocessing.MinMaxScaler(feature_range=(0, 1))\n",
    "data_scaled_minmax = data_scaler_minmax.fit_transform(inputData)\n",
    "print(\"Input Data:\\n\", inputData)\n",
    "print(\"\\nMin max scaled data:\\n\", data_scaled_minmax)"
   ]
  },
  {
   "cell_type": "markdown",
   "metadata": {
    "collapsed": true
   },
   "source": [
    "## Normalization"
   ]
  },
  {
   "cell_type": "markdown",
   "metadata": {
    "collapsed": true
   },
   "source": [
    "This process regulates the values in the input data to common scale. L1 normalization, or Least Absolute Deviations, makes it so that the sum of absolute values in each row is equal to one. L2 normalization, or least squares, has a similar approach by evaluating that the sum of the squared row values is equal to one. L1 normalization tends to be more resistant to outliers."
   ]
  },
  {
   "cell_type": "code",
   "execution_count": 214,
   "metadata": {},
   "outputs": [
    {
     "name": "stdout",
     "output_type": "stream",
     "text": [
      "L1 Normalized Data:\n",
      " [[ 0.85583231  0.14416769]\n",
      " [ 0.32089113  0.67910887]\n",
      " [ 0.58564345  0.41435655]]\n",
      "\n",
      "L2 Normalized Data:\n",
      " [[ 0.98610675  0.16611283]\n",
      " [ 0.42722492  0.90414538]\n",
      " [ 0.81633616  0.57757707]]\n"
     ]
    }
   ],
   "source": [
    "L1NormalizedData = preprocessing.normalize(inputData, norm='l1')\n",
    "L2NormalizedData = preprocessing.normalize(inputData, norm='l2')\n",
    "print(\"L1 Normalized Data:\\n\", L1NormalizedData)\n",
    "print(\"\\nL2 Normalized Data:\\n\", L2NormalizedData)"
   ]
  },
  {
   "cell_type": "markdown",
   "metadata": {
    "collapsed": true
   },
   "source": [
    "## Label Encoding"
   ]
  },
  {
   "cell_type": "markdown",
   "metadata": {
    "collapsed": true
   },
   "source": [
    "Labels are often times an attribute of data sets, and sometimes these labels are in a non-numeric format. To prepare the data to be used in machine learning functions it is necessary to covert word labels into numbers though the use of a label encoder."
   ]
  },
  {
   "cell_type": "code",
   "execution_count": 215,
   "metadata": {},
   "outputs": [
    {
     "name": "stdout",
     "output_type": "stream",
     "text": [
      "\n",
      "Label Mapping:\n",
      "AAPL --> 0\n",
      "AMD --> 1\n",
      "MSFT --> 2\n",
      "NVDA --> 3\n"
     ]
    }
   ],
   "source": [
    "# Sample input labels \n",
    "inputLabels = ['NVDA', 'AAPL', 'AMD', 'MSFT'] \n",
    "\n",
    "# Create a label encoder and fit the labels \n",
    "encoder = preprocessing.LabelEncoder() \n",
    "encoder.fit(inputLabels) \n",
    "\n",
    "# Print the mapping  \n",
    "print(\"\\nLabel Mapping:\") \n",
    "for i, item in enumerate(encoder.classes_): \n",
    "    print(item, '-->', i) "
   ]
  },
  {
   "cell_type": "code",
   "execution_count": 216,
   "metadata": {},
   "outputs": [
    {
     "name": "stdout",
     "output_type": "stream",
     "text": [
      "\n",
      "Test Labels = ['AMD', 'NVDA', 'AAPL', 'MSFT']\n",
      "Encoded Values = [1, 3, 0, 2]\n"
     ]
    }
   ],
   "source": [
    "# Encode a set of labels using the encoder \n",
    "testLabels = ['AMD', 'NVDA', 'AAPL', 'MSFT'] \n",
    "encodedValues = encoder.transform(testLabels) \n",
    "print(\"\\nTest Labels =\", testLabels) \n",
    "print(\"Encoded Values =\", list(encodedValues)) "
   ]
  },
  {
   "cell_type": "markdown",
   "metadata": {
    "collapsed": true
   },
   "source": [
    "## Imputation of Missing Data"
   ]
  },
  {
   "cell_type": "markdown",
   "metadata": {
    "collapsed": true
   },
   "source": [
    "When there is missing data in an array a common approach is to replace the missing value with something appropriate. This approach is referred to as imputation of missing values, and there are a variety of techniques that can be used to accomplish this. Basic imputation involves replacing the missing value with a mean, median, or most frequent value strategy."
   ]
  },
  {
   "cell_type": "code",
   "execution_count": 217,
   "metadata": {},
   "outputs": [
    {
     "name": "stdout",
     "output_type": "stream",
     "text": [
      "[[ 5.5   1.    5.  ]\n",
      " [ 9.    7.    3.  ]\n",
      " [ 1.    5.    3.75]\n",
      " [ 4.    5.    6.  ]\n",
      " [ 8.    4.5   1.  ]]\n"
     ]
    }
   ],
   "source": [
    "from numpy import nan\n",
    "from sklearn.preprocessing import Imputer\n",
    "\n",
    "incompleteData = np.array([[ nan, 1, 5 ],\n",
    "                           [ 9, 7, 3 ],\n",
    "                           [ 1, 5, nan ],\n",
    "                           [ 4, 5, 6 ],\n",
    "                           [ 8, nan, 1 ]])\n",
    "\n",
    "imp = Imputer(strategy='mean')\n",
    "fixedData = imp.fit_transform(incompleteData)\n",
    "print(fixedData)"
   ]
  },
  {
   "cell_type": "markdown",
   "metadata": {
    "collapsed": true
   },
   "source": [
    "## Transforming Inputs Through Derived Features"
   ]
  },
  {
   "cell_type": "markdown",
   "metadata": {
    "collapsed": true
   },
   "source": [
    "Sometimes the input data just isn’t enough to be described well by certain modelling methods. A way to get around this is by deriving and adding additional features to the data in order to improve model flexibility. Model improvement can therefore be done by transforming the inputs instead of changing the model itself. "
   ]
  },
  {
   "cell_type": "code",
   "execution_count": 218,
   "metadata": {},
   "outputs": [
    {
     "data": {
      "image/png": "[encoded data removed]",
      "text/plain": [
       "<matplotlib.figure.Figure at 0x2120f522898>"
      ]
     },
     "metadata": {},
     "output_type": "display_data"
    }
   ],
   "source": [
    "%matplotlib inline\n",
    "import numpy as np\n",
    "import matplotlib.pyplot as plt\n",
    "from sklearn.linear_model import LinearRegression\n",
    "from sklearn.preprocessing import PolynomialFeatures\n",
    "\n",
    "x = np.array([1, 3, 5, 7, 9])\n",
    "y = np.array([5, 3, 2, 4, 7])\n",
    "plt.scatter(x, y);"
   ]
  },
  {
   "cell_type": "code",
   "execution_count": 219,
   "metadata": {},
   "outputs": [
    {
     "data": {
      "image/png": "[encoded data removed]",
      "text/plain": [
       "<matplotlib.figure.Figure at 0x2120f7c2a20>"
      ]
     },
     "metadata": {},
     "output_type": "display_data"
    }
   ],
   "source": [
    "X = x[:, np.newaxis]\n",
    "model = LinearRegression().fit(X, y)\n",
    "yfit = model.predict(X)\n",
    "plt.scatter(x, y)\n",
    "plt.plot(x, yfit);"
   ]
  },
  {
   "cell_type": "code",
   "execution_count": 220,
   "metadata": {},
   "outputs": [
    {
     "name": "stdout",
     "output_type": "stream",
     "text": [
      "[[   1.    1.    1.]\n",
      " [   3.    9.   27.]\n",
      " [   5.   25.  125.]\n",
      " [   7.   49.  343.]\n",
      " [   9.   81.  729.]]\n"
     ]
    }
   ],
   "source": [
    "polynomial = PolynomialFeatures(degree=3, include_bias=False)\n",
    "additionalFeaturesData = polynomial.fit_transform(X)\n",
    "\n",
    "# The feature matrix has the first column representing the original x values, \n",
    "# the second column representing x squared, and the third column representing x cubed.\n",
    "print(additionalFeaturesData)"
   ]
  },
  {
   "cell_type": "code",
   "execution_count": 221,
   "metadata": {},
   "outputs": [
    {
     "data": {
      "image/png": "[encoded data removed]",
      "text/plain": [
       "<matplotlib.figure.Figure at 0x2120f7c6390>"
      ]
     },
     "metadata": {},
     "output_type": "display_data"
    }
   ],
   "source": [
    "model = LinearRegression().fit(additionalFeaturesData, y)\n",
    "yfit = model.predict(additionalFeaturesData)\n",
    "plt.scatter(x, y)\n",
    "plt.plot(x, yfit);"
   ]
  },
  {
   "cell_type": "markdown",
   "metadata": {
    "collapsed": true
   },
   "source": [
    "## One-Hot Encoding of Categorical Features"
   ]
  },
  {
   "cell_type": "markdown",
   "metadata": {
    "collapsed": true
   },
   "source": [
    "A more useful technique to altering non-numeric, or categorical, data into a numbered format is by using one-hot encoding. This approach creates extra columns in the data that represent the presence or absence of categorical features through the labels 0 or 1. Encoding like this can increase a data set dramatically if it contained a lot of varied categorical features. "
   ]
  },
  {
   "cell_type": "code",
   "execution_count": 222,
   "metadata": {},
   "outputs": [],
   "source": [
    "data = [{'price': 100, 'quantity ': 1, 'model': 'ZX42L'},\n",
    "        {'price': 50, 'quantity ': 3, 'model': 'Y7S3'},\n",
    "        {'price': 75, 'quantity ': 2, 'model': 'SCR77'},\n",
    "        {'price': 23, 'quantity ': 4, 'model': 'LCM28R'},\n",
    "        {'price': 70, 'quantity ': 2, 'model': 'SCR77'},]"
   ]
  },
  {
   "cell_type": "code",
   "execution_count": 223,
   "metadata": {},
   "outputs": [
    {
     "data": {
      "text/plain": [
       "array([[  0,   0,   0,   1, 100,   1],\n",
       "       [  0,   0,   1,   0,  50,   3],\n",
       "       [  0,   1,   0,   0,  75,   2],\n",
       "       [  1,   0,   0,   0,  23,   4],\n",
       "       [  0,   1,   0,   0,  70,   2]], dtype=int32)"
      ]
     },
     "execution_count": 223,
     "metadata": {},
     "output_type": "execute_result"
    }
   ],
   "source": [
    "from sklearn.feature_extraction import DictVectorizer\n",
    "\n",
    "vec = DictVectorizer(sparse=False, dtype=int)\n",
    "\n",
    "# The 'model' column is expanded into four separate columns based on the existing four label types, \n",
    "# and a 1 is present on the row that is associated with one of those labels. \n",
    "vec.fit_transform(data)"
   ]
  },
  {
   "cell_type": "code",
   "execution_count": 224,
   "metadata": {},
   "outputs": [
    {
     "data": {
      "text/plain": [
       "['model=LCM28R',\n",
       " 'model=SCR77',\n",
       " 'model=Y7S3',\n",
       " 'model=ZX42L',\n",
       " 'price',\n",
       " 'quantity ']"
      ]
     },
     "execution_count": 224,
     "metadata": {},
     "output_type": "execute_result"
    }
   ],
   "source": [
    "# Display feature (column) names\n",
    "vec.get_feature_names()"
   ]
  },
  {
   "cell_type": "markdown",
   "metadata": {},
   "source": [
    "## Encoding Text Features"
   ]
  },
  {
   "cell_type": "markdown",
   "metadata": {
    "collapsed": true
   },
   "source": [
    "It is also possible to encode text data into numerical values by word counts with Scikit-Learn’s CountVectorizer. The occurrences of each word in each piece of text is counted and organized in a table. "
   ]
  },
  {
   "cell_type": "code",
   "execution_count": 225,
   "metadata": {
    "collapsed": true
   },
   "outputs": [],
   "source": [
    "data = ['What is your itinerary',\n",
    "        'To meet my maker',\n",
    "        'And what do you want to say to your maker',\n",
    "        'The coward dies a thousand deaths',\n",
    "        'The valiant taste of death but once']"
   ]
  },
  {
   "cell_type": "code",
   "execution_count": 226,
   "metadata": {},
   "outputs": [
    {
     "data": {
      "text/html": [
       "<div>\n",
       "<style>\n",
       "    .dataframe thead tr:only-child th {\n",
       "        text-align: right;\n",
       "    }\n",
       "\n",
       "    .dataframe thead th {\n",
       "        text-align: left;\n",
       "    }\n",
       "\n",
       "    .dataframe tbody tr th {\n",
       "        vertical-align: top;\n",
       "    }\n",
       "</style>\n",
       "<table border=\"1\" class=\"dataframe\">\n",
       "  <thead>\n",
       "    <tr style=\"text-align: right;\">\n",
       "      <th></th>\n",
       "      <th>and</th>\n",
       "      <th>but</th>\n",
       "      <th>coward</th>\n",
       "      <th>death</th>\n",
       "      <th>deaths</th>\n",
       "      <th>dies</th>\n",
       "      <th>do</th>\n",
       "      <th>is</th>\n",
       "      <th>itinerary</th>\n",
       "      <th>maker</th>\n",
       "      <th>...</th>\n",
       "      <th>say</th>\n",
       "      <th>taste</th>\n",
       "      <th>the</th>\n",
       "      <th>thousand</th>\n",
       "      <th>to</th>\n",
       "      <th>valiant</th>\n",
       "      <th>want</th>\n",
       "      <th>what</th>\n",
       "      <th>you</th>\n",
       "      <th>your</th>\n",
       "    </tr>\n",
       "  </thead>\n",
       "  <tbody>\n",
       "    <tr>\n",
       "      <th>0</th>\n",
       "      <td>0</td>\n",
       "      <td>0</td>\n",
       "      <td>0</td>\n",
       "      <td>0</td>\n",
       "      <td>0</td>\n",
       "      <td>0</td>\n",
       "      <td>0</td>\n",
       "      <td>1</td>\n",
       "      <td>1</td>\n",
       "      <td>0</td>\n",
       "      <td>...</td>\n",
       "      <td>0</td>\n",
       "      <td>0</td>\n",
       "      <td>0</td>\n",
       "      <td>0</td>\n",
       "      <td>0</td>\n",
       "      <td>0</td>\n",
       "      <td>0</td>\n",
       "      <td>1</td>\n",
       "      <td>0</td>\n",
       "      <td>1</td>\n",
       "    </tr>\n",
       "    <tr>\n",
       "      <th>1</th>\n",
       "      <td>0</td>\n",
       "      <td>0</td>\n",
       "      <td>0</td>\n",
       "      <td>0</td>\n",
       "      <td>0</td>\n",
       "      <td>0</td>\n",
       "      <td>0</td>\n",
       "      <td>0</td>\n",
       "      <td>0</td>\n",
       "      <td>1</td>\n",
       "      <td>...</td>\n",
       "      <td>0</td>\n",
       "      <td>0</td>\n",
       "      <td>0</td>\n",
       "      <td>0</td>\n",
       "      <td>1</td>\n",
       "      <td>0</td>\n",
       "      <td>0</td>\n",
       "      <td>0</td>\n",
       "      <td>0</td>\n",
       "      <td>0</td>\n",
       "    </tr>\n",
       "    <tr>\n",
       "      <th>2</th>\n",
       "      <td>1</td>\n",
       "      <td>0</td>\n",
       "      <td>0</td>\n",
       "      <td>0</td>\n",
       "      <td>0</td>\n",
       "      <td>0</td>\n",
       "      <td>1</td>\n",
       "      <td>0</td>\n",
       "      <td>0</td>\n",
       "      <td>1</td>\n",
       "      <td>...</td>\n",
       "      <td>1</td>\n",
       "      <td>0</td>\n",
       "      <td>0</td>\n",
       "      <td>0</td>\n",
       "      <td>2</td>\n",
       "      <td>0</td>\n",
       "      <td>1</td>\n",
       "      <td>1</td>\n",
       "      <td>1</td>\n",
       "      <td>1</td>\n",
       "    </tr>\n",
       "    <tr>\n",
       "      <th>3</th>\n",
       "      <td>0</td>\n",
       "      <td>0</td>\n",
       "      <td>1</td>\n",
       "      <td>0</td>\n",
       "      <td>1</td>\n",
       "      <td>1</td>\n",
       "      <td>0</td>\n",
       "      <td>0</td>\n",
       "      <td>0</td>\n",
       "      <td>0</td>\n",
       "      <td>...</td>\n",
       "      <td>0</td>\n",
       "      <td>0</td>\n",
       "      <td>1</td>\n",
       "      <td>1</td>\n",
       "      <td>0</td>\n",
       "      <td>0</td>\n",
       "      <td>0</td>\n",
       "      <td>0</td>\n",
       "      <td>0</td>\n",
       "      <td>0</td>\n",
       "    </tr>\n",
       "    <tr>\n",
       "      <th>4</th>\n",
       "      <td>0</td>\n",
       "      <td>1</td>\n",
       "      <td>0</td>\n",
       "      <td>1</td>\n",
       "      <td>0</td>\n",
       "      <td>0</td>\n",
       "      <td>0</td>\n",
       "      <td>0</td>\n",
       "      <td>0</td>\n",
       "      <td>0</td>\n",
       "      <td>...</td>\n",
       "      <td>0</td>\n",
       "      <td>1</td>\n",
       "      <td>1</td>\n",
       "      <td>0</td>\n",
       "      <td>0</td>\n",
       "      <td>1</td>\n",
       "      <td>0</td>\n",
       "      <td>0</td>\n",
       "      <td>0</td>\n",
       "      <td>0</td>\n",
       "    </tr>\n",
       "  </tbody>\n",
       "</table>\n",
       "<p>5 rows × 24 columns</p>\n",
       "</div>"
      ],
      "text/plain": [
       "   and  but  coward  death  deaths  dies  do  is  itinerary  maker  ...   say  \\\n",
       "0    0    0       0      0       0     0   0   1          1      0  ...     0   \n",
       "1    0    0       0      0       0     0   0   0          0      1  ...     0   \n",
       "2    1    0       0      0       0     0   1   0          0      1  ...     1   \n",
       "3    0    0       1      0       1     1   0   0          0      0  ...     0   \n",
       "4    0    1       0      1       0     0   0   0          0      0  ...     0   \n",
       "\n",
       "   taste  the  thousand  to  valiant  want  what  you  your  \n",
       "0      0    0         0   0        0     0     1    0     1  \n",
       "1      0    0         0   1        0     0     0    0     0  \n",
       "2      0    0         0   2        0     1     1    1     1  \n",
       "3      0    1         1   0        0     0     0    0     0  \n",
       "4      1    1         0   0        1     0     0    0     0  \n",
       "\n",
       "[5 rows x 24 columns]"
      ]
     },
     "execution_count": 226,
     "metadata": {},
     "output_type": "execute_result"
    }
   ],
   "source": [
    "import pandas as pd\n",
    "from sklearn.feature_extraction.text import CountVectorizer\n",
    "\n",
    "vec = CountVectorizer()\n",
    "X = vec.fit_transform(data)\n",
    "\n",
    "# Convert sparse matrix to a DataFrame with labeled columns\n",
    "pd.DataFrame(X.toarray(), columns=vec.get_feature_names())"
   ]
  },
  {
   "cell_type": "markdown",
   "metadata": {
    "collapsed": true
   },
   "source": [
    "To avoid putting too much weight on words that appear very frequently the term frequency–inverse document frequency (TF–IDF) technique can be used. It weights the word counts by a measure of how often they appear in the documents. "
   ]
  },
  {
   "cell_type": "code",
   "execution_count": 227,
   "metadata": {},
   "outputs": [
    {
     "data": {
      "text/html": [
       "<div>\n",
       "<style>\n",
       "    .dataframe thead tr:only-child th {\n",
       "        text-align: right;\n",
       "    }\n",
       "\n",
       "    .dataframe thead th {\n",
       "        text-align: left;\n",
       "    }\n",
       "\n",
       "    .dataframe tbody tr th {\n",
       "        vertical-align: top;\n",
       "    }\n",
       "</style>\n",
       "<table border=\"1\" class=\"dataframe\">\n",
       "  <thead>\n",
       "    <tr style=\"text-align: right;\">\n",
       "      <th></th>\n",
       "      <th>and</th>\n",
       "      <th>but</th>\n",
       "      <th>coward</th>\n",
       "      <th>death</th>\n",
       "      <th>deaths</th>\n",
       "      <th>dies</th>\n",
       "      <th>do</th>\n",
       "      <th>is</th>\n",
       "      <th>itinerary</th>\n",
       "      <th>maker</th>\n",
       "      <th>...</th>\n",
       "      <th>say</th>\n",
       "      <th>taste</th>\n",
       "      <th>the</th>\n",
       "      <th>thousand</th>\n",
       "      <th>to</th>\n",
       "      <th>valiant</th>\n",
       "      <th>want</th>\n",
       "      <th>what</th>\n",
       "      <th>you</th>\n",
       "      <th>your</th>\n",
       "    </tr>\n",
       "  </thead>\n",
       "  <tbody>\n",
       "    <tr>\n",
       "      <th>0</th>\n",
       "      <td>0.000000</td>\n",
       "      <td>0.000000</td>\n",
       "      <td>0.000000</td>\n",
       "      <td>0.000000</td>\n",
       "      <td>0.000000</td>\n",
       "      <td>0.000000</td>\n",
       "      <td>0.000000</td>\n",
       "      <td>0.550329</td>\n",
       "      <td>0.550329</td>\n",
       "      <td>0.000000</td>\n",
       "      <td>...</td>\n",
       "      <td>0.000000</td>\n",
       "      <td>0.000000</td>\n",
       "      <td>0.000000</td>\n",
       "      <td>0.000000</td>\n",
       "      <td>0.000000</td>\n",
       "      <td>0.000000</td>\n",
       "      <td>0.000000</td>\n",
       "      <td>0.444002</td>\n",
       "      <td>0.000000</td>\n",
       "      <td>0.444002</td>\n",
       "    </tr>\n",
       "    <tr>\n",
       "      <th>1</th>\n",
       "      <td>0.000000</td>\n",
       "      <td>0.000000</td>\n",
       "      <td>0.000000</td>\n",
       "      <td>0.000000</td>\n",
       "      <td>0.000000</td>\n",
       "      <td>0.000000</td>\n",
       "      <td>0.000000</td>\n",
       "      <td>0.000000</td>\n",
       "      <td>0.000000</td>\n",
       "      <td>0.444002</td>\n",
       "      <td>...</td>\n",
       "      <td>0.000000</td>\n",
       "      <td>0.000000</td>\n",
       "      <td>0.000000</td>\n",
       "      <td>0.000000</td>\n",
       "      <td>0.444002</td>\n",
       "      <td>0.000000</td>\n",
       "      <td>0.000000</td>\n",
       "      <td>0.000000</td>\n",
       "      <td>0.000000</td>\n",
       "      <td>0.000000</td>\n",
       "    </tr>\n",
       "    <tr>\n",
       "      <th>2</th>\n",
       "      <td>0.323484</td>\n",
       "      <td>0.000000</td>\n",
       "      <td>0.000000</td>\n",
       "      <td>0.000000</td>\n",
       "      <td>0.000000</td>\n",
       "      <td>0.000000</td>\n",
       "      <td>0.323484</td>\n",
       "      <td>0.000000</td>\n",
       "      <td>0.000000</td>\n",
       "      <td>0.260985</td>\n",
       "      <td>...</td>\n",
       "      <td>0.323484</td>\n",
       "      <td>0.000000</td>\n",
       "      <td>0.000000</td>\n",
       "      <td>0.000000</td>\n",
       "      <td>0.521969</td>\n",
       "      <td>0.000000</td>\n",
       "      <td>0.323484</td>\n",
       "      <td>0.260985</td>\n",
       "      <td>0.323484</td>\n",
       "      <td>0.260985</td>\n",
       "    </tr>\n",
       "    <tr>\n",
       "      <th>3</th>\n",
       "      <td>0.000000</td>\n",
       "      <td>0.000000</td>\n",
       "      <td>0.463693</td>\n",
       "      <td>0.000000</td>\n",
       "      <td>0.463693</td>\n",
       "      <td>0.463693</td>\n",
       "      <td>0.000000</td>\n",
       "      <td>0.000000</td>\n",
       "      <td>0.000000</td>\n",
       "      <td>0.000000</td>\n",
       "      <td>...</td>\n",
       "      <td>0.000000</td>\n",
       "      <td>0.000000</td>\n",
       "      <td>0.374105</td>\n",
       "      <td>0.463693</td>\n",
       "      <td>0.000000</td>\n",
       "      <td>0.000000</td>\n",
       "      <td>0.000000</td>\n",
       "      <td>0.000000</td>\n",
       "      <td>0.000000</td>\n",
       "      <td>0.000000</td>\n",
       "    </tr>\n",
       "    <tr>\n",
       "      <th>4</th>\n",
       "      <td>0.000000</td>\n",
       "      <td>0.387757</td>\n",
       "      <td>0.000000</td>\n",
       "      <td>0.387757</td>\n",
       "      <td>0.000000</td>\n",
       "      <td>0.000000</td>\n",
       "      <td>0.000000</td>\n",
       "      <td>0.000000</td>\n",
       "      <td>0.000000</td>\n",
       "      <td>0.000000</td>\n",
       "      <td>...</td>\n",
       "      <td>0.000000</td>\n",
       "      <td>0.387757</td>\n",
       "      <td>0.312840</td>\n",
       "      <td>0.000000</td>\n",
       "      <td>0.000000</td>\n",
       "      <td>0.387757</td>\n",
       "      <td>0.000000</td>\n",
       "      <td>0.000000</td>\n",
       "      <td>0.000000</td>\n",
       "      <td>0.000000</td>\n",
       "    </tr>\n",
       "  </tbody>\n",
       "</table>\n",
       "<p>5 rows × 24 columns</p>\n",
       "</div>"
      ],
      "text/plain": [
       "        and       but    coward     death    deaths      dies        do  \\\n",
       "0  0.000000  0.000000  0.000000  0.000000  0.000000  0.000000  0.000000   \n",
       "1  0.000000  0.000000  0.000000  0.000000  0.000000  0.000000  0.000000   \n",
       "2  0.323484  0.000000  0.000000  0.000000  0.000000  0.000000  0.323484   \n",
       "3  0.000000  0.000000  0.463693  0.000000  0.463693  0.463693  0.000000   \n",
       "4  0.000000  0.387757  0.000000  0.387757  0.000000  0.000000  0.000000   \n",
       "\n",
       "         is  itinerary     maker    ...          say     taste       the  \\\n",
       "0  0.550329   0.550329  0.000000    ...     0.000000  0.000000  0.000000   \n",
       "1  0.000000   0.000000  0.444002    ...     0.000000  0.000000  0.000000   \n",
       "2  0.000000   0.000000  0.260985    ...     0.323484  0.000000  0.000000   \n",
       "3  0.000000   0.000000  0.000000    ...     0.000000  0.000000  0.374105   \n",
       "4  0.000000   0.000000  0.000000    ...     0.000000  0.387757  0.312840   \n",
       "\n",
       "   thousand        to   valiant      want      what       you      your  \n",
       "0  0.000000  0.000000  0.000000  0.000000  0.444002  0.000000  0.444002  \n",
       "1  0.000000  0.444002  0.000000  0.000000  0.000000  0.000000  0.000000  \n",
       "2  0.000000  0.521969  0.000000  0.323484  0.260985  0.323484  0.260985  \n",
       "3  0.463693  0.000000  0.000000  0.000000  0.000000  0.000000  0.000000  \n",
       "4  0.000000  0.000000  0.387757  0.000000  0.000000  0.000000  0.000000  \n",
       "\n",
       "[5 rows x 24 columns]"
      ]
     },
     "execution_count": 227,
     "metadata": {},
     "output_type": "execute_result"
    }
   ],
   "source": [
    "from sklearn.feature_extraction.text import TfidfVectorizer\n",
    "vec = TfidfVectorizer()\n",
    "X = vec.fit_transform(data)\n",
    "pd.DataFrame(X.toarray(), columns=vec.get_feature_names())"
   ]
  },
  {
   "cell_type": "markdown",
   "metadata": {},
   "source": [
    "## Feature Pipelines"
   ]
  },
  {
   "cell_type": "markdown",
   "metadata": {
    "collapsed": true
   },
   "source": [
    "For the purposes of stringing together multiple steps Scikit-Learn provides a pipeline object that can be used to streamline a processing pipeline."
   ]
  },
  {
   "cell_type": "code",
   "execution_count": 228,
   "metadata": {},
   "outputs": [
    {
     "name": "stdout",
     "output_type": "stream",
     "text": [
      "Actual: [5 3 2 4 7]\n",
      "Predicted: [ 5.  3.  2.  4.  7.]\n"
     ]
    }
   ],
   "source": [
    "from sklearn.pipeline import make_pipeline\n",
    "\n",
    "model = make_pipeline(Imputer(strategy='mean'), # Impute missing values using the mean\n",
    "                      PolynomialFeatures(degree=2), # Transform features to quadratic                     \n",
    "                      LinearRegression()) # Fit a linear regression\n",
    "\n",
    "# Predict results by applying the model to the training data\n",
    "model.fit(incompleteData, y)\n",
    "print('Actual:', y)\n",
    "print('Predicted:', model.predict(incompleteData))"
   ]
  },
  {
   "cell_type": "code",
   "execution_count": null,
   "metadata": {
    "collapsed": true
   },
   "outputs": [],
   "source": []
  }
 ],
 "metadata": {
  "kernelspec": {
   "display_name": "Python 3",
   "language": "python",
   "name": "python3"
  },
  "language_info": {
   "codemirror_mode": {
    "name": "ipython",
    "version": 3
   },
   "file_extension": ".py",
   "mimetype": "text/x-python",
   "name": "python",
   "nbconvert_exporter": "python",
   "pygments_lexer": "ipython3",
   "version": "3.6.3"
  }
 },
 "nbformat": 4,
 "nbformat_minor": 2
}
