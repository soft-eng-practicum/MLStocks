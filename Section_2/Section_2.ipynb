{
 "cells": [
  {
   "cell_type": "markdown",
   "metadata": {},
   "source": [
    "## Section 2: Python Basics\n",
    "\n",
    "Before you get started on anything else, you'll need to understand Python, the programming language used throughout this tutorial. \n",
    "Let's go through some of the basics of Python together. \n",
    "\n",
    "### Strings & Print()\n",
    "A **String** is a simple data type that can include letters, numbers, and symbols. Simply speaking, it's a sequence of characters. Strings must be surrounded by a pair of quotation marks. \n",
    "Here's a couple examples: \n",
    " \n",
    " * \"This is a string!\" \n",
    " * \"1234 & 5678\"\n",
    " * \"P Sherman 42 Wallaby Way Sydney\"\n",
    " \n",
    "We use the **print()** function to display outputs in the console. In this case, the output will show up right below the coding cell.\n",
    "\n",
    "Now, it's your turn. Using the print() function provided below, enter a String inside the parenthesis that says *Hello World!* \n",
    "\n",
    "Click \"Run\" to display the output. \n"
   ]
  },
  {
   "cell_type": "code",
   "execution_count": 31,
   "metadata": {
    "scrolled": true
   },
   "outputs": [
    {
     "name": "stdout",
     "output_type": "stream",
     "text": [
      "\n"
     ]
    }
   ],
   "source": [
    "print() \n"
   ]
  },
  {
   "cell_type": "markdown",
   "metadata": {},
   "source": [
    "### Comments\n",
    "\n",
    "Before we continue further, I want to show you how to comment the code you're working with. Commenting your code makes it easier to understand, both for yourself in the future and for other people. Comments are parts of the code that Python will not try to run. There's two different types of comments: Single-line, and multi-line. \n",
    "\n",
    "**Single-Line** comments are comments that only take up one line in your code. These kinds of comments are good if you need to include very brief information, such as quick notes for what a part of your code does. Single line comments are denoted with a a hashtag ( # ). \n",
    "\n",
    "**Multi-line** comments, on the other hand, can be more thorough and are used for comments that take up multiple lines of code. Muti-line comments can also be used to \"comment-out\" parts of your code, if you do not want it to run. These kinds of comments are denoted by three pairs of quotation marks ( \"\"\" ) on either side of the comment. \n",
    "\n",
    "Here's a couple examples of each: \n",
    "\n",
    "* #This is a single line comment \n",
    "* \"\"\"This is a multi line comment. \n",
    "        Anything I say and/or any code I write will not be run by Python\n",
    "     End comment.\"\"\"\n",
    "\n",
    "\n",
    "Now you try. First, run the code below to see the output. \n",
    "Then, add a single-line above the first print() function in the cell below. Then, comment-out the second and third print() funtions using a multi-line comment. Now run it again. "
   ]
  },
  {
   "cell_type": "code",
   "execution_count": 32,
   "metadata": {},
   "outputs": [
    {
     "name": "stdout",
     "output_type": "stream",
     "text": [
      "Add your single line comment above this function\n",
      "Comment this function out.\n",
      "And this one too!\n"
     ]
    }
   ],
   "source": [
    "\n",
    "\n",
    "print(\"Add your single line comment above this function\")\n",
    "\n",
    "print(\"Comment this function out.\")\n",
    "print(\"And this one too!\")\n",
    "\n",
    "\n",
    "#You see how the last two Strings do not show up when you run the code the second time? "
   ]
  },
  {
   "cell_type": "markdown",
   "metadata": {},
   "source": [
    "### Variables and Assignment\n",
    "\n",
    "One way to store and work with different types of data is by using **variables**. Variables stores data under the name you decide to give it. You can **assign** the variable different pieces of data by using the equals ( = ) symbol. \n",
    "For example, if I wrote \n",
    "\n",
    "myFirstVariable = 24\n",
    "mySecondVariable = \"Hello!\"\n",
    "\n",
    "(***Please do note that the \"=\" sign is for assignment, not for comparison. \n",
    "The symbol for comparison is a double-equals sign ( == ).***)\n",
    "\n",
    "In the above examples, I assigned myFirstVariable to hold the number 24. I assigned mySecondVariable to hold the String \"Hello!\"\n",
    "In each case, the name (myFirstVariable/mySecondVariable) is the name of the variable, but it holds different types of data. One holds a number, and one holds a String. \n",
    "\n",
    "Create two different variables in the cell below and assign them any number or String value you want. Then, print both variables out using two print() functions. Be sure to put the name of your variables inside the print function in order to see it printed out on the screen. \n"
   ]
  },
  {
   "cell_type": "code",
   "execution_count": 33,
   "metadata": {},
   "outputs": [
    {
     "name": "stdout",
     "output_type": "stream",
     "text": [
      "last\n",
      "64\n"
     ]
    }
   ],
   "source": [
    "# This is example code below. \n",
    "\n",
    "var1 = \"last\"\n",
    "var2 = 64\n",
    "\n",
    "print(var1)\n",
    "print(var2)\n",
    "\n",
    "#Notice that only the data each variable holds is printed out! Not the variable name itself!"
   ]
  },
  {
   "cell_type": "markdown",
   "metadata": {},
   "source": [
    "### Operations\n",
    "\n",
    "Python allows you to perform different mathematical operations in your code, including but not limited to:\n",
    "* Addition (using the + sign) \n",
    "* Subtraction ( - )\n",
    "* Multiplication ( * ) \n",
    "* Division ( / ) \n",
    "* Exponents ( double asterisks with no space in between: **  ... Ex:  2 ** 3  is 2 raised to the power of 3.)\n",
    "* Modulus ( % ...this finds the remainder after you divide two numbers) \n",
    "\n",
    "Here's a quick example: \n",
    "\n",
    " * ten = 5 * 2\n",
    "\n",
    "In the above example, \"ten\" is the *name* of the variable. The variable is then assigned the product of 5 and 2 (10).\n",
    "\n",
    "\n",
    "Practice using the operations named above. Do the following: \n",
    "Declare a variable named \"first\" and assign it two numbers that are added together to equal 15.  \n",
    "Declare a second variable that is assigned the value 14.\n",
    "Print out both variables using print(). \n",
    "\n",
    "Create a third variable called \"mod\" and assign it to be your first variable modulo your second variable. \n",
    "Print out your third variable. It should print out a 1. \n",
    "\n"
   ]
  },
  {
   "cell_type": "code",
   "execution_count": 34,
   "metadata": {
    "collapsed": true
   },
   "outputs": [],
   "source": [
    "# Insert your code here\n",
    "\n",
    "\n"
   ]
  },
  {
   "cell_type": "markdown",
   "metadata": {},
   "source": [
    "### Conditional Statements and Booleans \n",
    "\n",
    "A **boolean** can only have the values \"True\" or \"False\", either implied or explicitly stated. For example, study the following lines:\n",
    "\n",
    "myBoolean = True  \n",
    "mySecondBoolean = False   \n",
    "myBoolean == mySecondBoolean  \n",
    "\n",
    "In the first line of code above, I assigned myBoolean the value \"True\" (Capitalization matters!). I then assigned mySecondBoolean the value \"False\". If I printed these variables out, they'd print out \"True\" and \"False\" respectively. This explicitly named either variable as either True or False. \n",
    "\n",
    "Now, in the third line, I used the double-equals (==) operator to check if myBoolean equals mySecondBoolean. But True does NOT equal False, therefore if I printed the third line out, it would read False. In the third line of code, the True/False statement is implicit. \n",
    "\n",
    "In the code cell provided below, declare your own variables and copy what I've done above to see the code run for yourself. Then, try changing the True/False values and see what difference it makes. \n"
   ]
  },
  {
   "cell_type": "code",
   "execution_count": 35,
   "metadata": {
    "collapsed": true
   },
   "outputs": [],
   "source": [
    "# Insert code here.\n",
    "\n"
   ]
  },
  {
   "cell_type": "markdown",
   "metadata": {},
   "source": [
    "Now let's look at conditional statements. In regular plain English, conditional statements are written in an \"if...then...else\" format. *If* the condition is met, *then* the second half of the sentence is valid. *Else* the other statement is valid. (\"If it snows heavily, then they may cancel school! Or else we'll have to attend school this Monday.) \n",
    "\n",
    "Conditional statements in programming work the same way. If the condition is met, then the code below it will be executed. If it is not met, then nothing happens and that piece of code is ignored. \n",
    "In Python, the format for writing conditional statements looks like this: \n",
    "\n",
    "if [statement here]:\n",
    "     CODETOEXECUTE_A\n",
    "\n",
    "elif [statement]:\n",
    "     CODETOEXECUTE_B\n",
    "\n",
    "else:\n",
    "     CODETOEXECUTE_C\n",
    "   \n",
    "**Be mindful of the indentations! They DO matter. Any code that is indented will only be executed if the if statement above it is met. \n",
    "    \n",
    "If you only want one conditional statement, you can use just the first block of code ( if ([statement here]):\n",
    "    CODETOEXECUTE_A ). If there are two conditional statements, use the first and last block of code ( if ([statement here]):\n",
    "    CODETOEXECUTE_A   and else: CODETOEXECUTE_C ). \n",
    "    \n",
    "    \n",
    "Look at the code provided below. Run it and look at the result. Which conditional statement was met?\n",
    "Then, anipulate the code to make each if-statement true in turn. (This means you'll hit \"RUN\" three times. Once after every edit.)"
   ]
  },
  {
   "cell_type": "code",
   "execution_count": 36,
   "metadata": {},
   "outputs": [
    {
     "name": "stdout",
     "output_type": "stream",
     "text": [
      "x equals 46\n"
     ]
    }
   ],
   "source": [
    "x = 4 \n",
    "\n",
    "\n",
    "if x == 2: \n",
    "    print(\"x equals 2!\")\n",
    "elif x == 45: \n",
    "    print(\"x equals 45!\")\n",
    "else: \n",
    "    print(\"x equals 46\")"
   ]
  },
  {
   "cell_type": "markdown",
   "metadata": {},
   "source": [
    "### Python Lists\n",
    "\n",
    "Inside Python, there's a data structure called a List. Lists hold any number of any kind of variable. Here's how to declare a list in Python. \n",
    "\n",
    "myFirstList = []\n",
    "\n",
    "Then, you can add variables to that list by using the append() function. For example: \n",
    "\n",
    "myFirstList.append(1)   \n",
    "myFirstList.append(2)  \n",
    "myFirstList.append(3)  \n",
    "\n",
    "This adds the numbers 1, 2, and 3 to your List. In order to go through your lists, you can use the following format to print out individual variables. \n",
    "\n",
    "print(myFirstList[0])   \n",
    "print(myFirstList[1])  \n",
    "print(myFirstList[2])  \n",
    "\n",
    "**NOTE: Lists begin with 0 as the first index. So our \"1\" is stored at index 0, \"2\" is stored at index 1, and so on.** \n",
    "\n",
    "If you're trying to print the whole list, you can just print it like this: \n",
    "\n",
    "print(myFirstList) \n",
    "\n",
    "This will print out all your variables that you've stored, in order. \n",
    "\n",
    "Now you try: The code below is incorrect and incomplete. Add the necessary pieces of code to make this code run correctly and print out the list. \n"
   ]
  },
  {
   "cell_type": "code",
   "execution_count": 3,
   "metadata": {},
   "outputs": [
    {
     "ename": "AttributeError",
     "evalue": "'tuple' object has no attribute 'append'",
     "output_type": "error",
     "traceback": [
      "\u001b[1;31m---------------------------------------------------------------------------\u001b[0m",
      "\u001b[1;31mAttributeError\u001b[0m                            Traceback (most recent call last)",
      "\u001b[1;32m<ipython-input-3-049d17c6a145>\u001b[0m in \u001b[0;36m<module>\u001b[1;34m()\u001b[0m\n\u001b[0;32m      3\u001b[0m \u001b[0mmyList\u001b[0m \u001b[1;33m=\u001b[0m \u001b[1;33m(\u001b[0m\u001b[1;33m)\u001b[0m\u001b[1;33m\u001b[0m\u001b[0m\n\u001b[0;32m      4\u001b[0m \u001b[1;33m\u001b[0m\u001b[0m\n\u001b[1;32m----> 5\u001b[1;33m \u001b[0mmyList\u001b[0m\u001b[1;33m.\u001b[0m\u001b[0mappend\u001b[0m\u001b[1;33m(\u001b[0m\u001b[1;34m\"String 1\"\u001b[0m\u001b[1;33m)\u001b[0m\u001b[1;33m\u001b[0m\u001b[0m\n\u001b[0m\u001b[0;32m      6\u001b[0m \u001b[0mmyList\u001b[0m\u001b[1;33m.\u001b[0m\u001b[0mappend\u001b[0m\u001b[1;33m(\u001b[0m\u001b[1;34m\"String 2\"\u001b[0m\u001b[1;33m)\u001b[0m\u001b[1;33m\u001b[0m\u001b[0m\n\u001b[0;32m      7\u001b[0m \u001b[1;33m\u001b[0m\u001b[0m\n",
      "\u001b[1;31mAttributeError\u001b[0m: 'tuple' object has no attribute 'append'"
     ]
    }
   ],
   "source": [
    "#This code is incorrect. Fix the mistakes.\n",
    "\n",
    "myList = ()\n",
    "\n",
    "myList.append(\"String 1\")\n",
    "myList.append(\"String 2\")\n",
    "\n",
    "print(myList[2])\n",
    "\n",
    "\n",
    "\n",
    "#The code should print out \"String 2\" followed by ['String 1', 'String 2'] on the next line. "
   ]
  },
  {
   "cell_type": "markdown",
   "metadata": {},
   "source": [
    "### Dictionaries\n",
    "\n",
    "A Dictionary is similar to a List, but works with two values (a key and a value) instead of using an index. A Dictionary can be declared like this: \n",
    "\n",
    "\n",
    "favoriteColors = {\n",
    "       \"Jane\" : \"purple\",\n",
    "       \"John\" : \"blue\",\n",
    "       \"Mary\" : \"pink\"\n",
    "       \n",
    "       }\n",
    "       \n",
    "Copy/paste the code above and print out the result using print(favoriteColors).\n"
   ]
  },
  {
   "cell_type": "code",
   "execution_count": null,
   "metadata": {
    "collapsed": true
   },
   "outputs": [],
   "source": [
    "# This is the code they'd have.\n",
    "\n",
    "\n",
    "favoriteColors = {\n",
    "       \"Jane\" : \"purple\",\n",
    "       \"John\" : \"blue\",\n",
    "       \"Mary\" : \"pink\"\n",
    "       \n",
    "       }\n",
    "\n",
    "print(favoriteColors)"
   ]
  },
  {
   "cell_type": "markdown",
   "metadata": {},
   "source": [
    "You can remove values from your Dictionary by using the .pop() method. \n",
    "Example: \n",
    "\n",
    "favoriteColors.pop(\"Jane\") \n",
    "\n",
    "This would remove Jane from your Dictionary. Try this in the cell above, where you've pasted the Dictionary I gave you. Use the .pop() method under the print() method. Then print the newly edited dictionary using a second print() function. \n",
    "\n",
    "Now it's your turn! Create your own Dictionary and practice adding and deleting key/value pairs. Print the result each time, to see how this has changed your Dictionary. "
   ]
  },
  {
   "cell_type": "code",
   "execution_count": null,
   "metadata": {
    "collapsed": true
   },
   "outputs": [],
   "source": [
    "# Insert your code here\n",
    "\n"
   ]
  },
  {
   "cell_type": "markdown",
   "metadata": {},
   "source": [
    "\n",
    "\n",
    "That's all for this Section. Now you know all the basic concepts in Python and are ready to head on over to Section 3! "
   ]
  }
 ],
 "metadata": {
  "kernelspec": {
   "display_name": "Python 3",
   "language": "python",
   "name": "python3"
  },
  "language_info": {
   "codemirror_mode": {
    "name": "ipython",
    "version": 3
   },
   "file_extension": ".py",
   "mimetype": "text/x-python",
   "name": "python",
   "nbconvert_exporter": "python",
   "pygments_lexer": "ipython3",
   "version": "3.6.3"
  }
 },
 "nbformat": 4,
 "nbformat_minor": 2
}
