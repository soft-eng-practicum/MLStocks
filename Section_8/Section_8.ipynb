{
 "cells": [
  {
   "cell_type": "markdown",
   "metadata": {},
   "source": [
    "# Section 8: Machine Learning  \n",
    "\n",
    "** In this section we will cover three different machine learning models that can be used for regression. Regression falls under supervised learning, which is a category of machine learning. Other categories are unsupervised learning, reinforcement learning, and deep learning. In machine learning, regression takes in the inputs, x, and attempts to predict the output, y, with as little error as possible by finding the relationship, or equation, between the inputs and the output. The fact that we already know the outputs is why regression falls under supervised learning. Here we will be using the daily prices of a stock as the input and attempt to predict the high of the stock, our output, 5 market days later. We will be using the python library called sci-kit learn for this. Sklearn, short for sci-kit learn, is a python library that contains a lot of functionality for machine learning and data analysis.**  \n",
    "\n",
    "[Documentation for sklearn](http://scikit-learn.org/stable/)  \n",
    "\n",
    "\n",
    "** First lets load in our data set.**"
   ]
  },
  {
   "cell_type": "code",
   "execution_count": 2,
   "metadata": {
    "collapsed": true
   },
   "outputs": [],
   "source": [
    "import pandas as pd\n",
    "# Load dataset into dataframe\n",
    "stock_data = pd.read_csv(\"daily_adjusted_HAL.csv\", index_col='timestamp')\n",
    "\n",
    "# Reverse order of dataframe\n",
    "stock_data = stock_data.iloc[::-1]\n",
    "\n",
    "# This is the target variable\n",
    "# The high price that is five market days ahead is saved into a seperate series\n",
    "target = stock_data['forecast_high_5']\n",
    "\n",
    "# Here we seperate the input from the output\n",
    "# The expected output is dropped from the dataframe\n",
    "stock_data = stock_data.drop('forecast_high_5', axis=1)"
   ]
  },
  {
   "cell_type": "markdown",
   "metadata": {},
   "source": [
    "** In machine learning, we do something called a test/train split. This splits the data between what we will use to train the model and what we will use to test the model on. Training a model on all of the data can lead overfitting. Overfitting is when the model produces a function that is too specific to the data it was trained on, causing any new data to provide inaccurate results. This can be seen when a model has high perfomance on the training data but performs poorly when any new data is used.**\n",
    "\n",
    "[Documentation for train test split](http://scikit-learn.org/stable/modules/generated/sklearn.model_selection.train_test_split.html)"
   ]
  },
  {
   "cell_type": "code",
   "execution_count": 3,
   "metadata": {
    "collapsed": true
   },
   "outputs": [],
   "source": [
    "# test train split\n",
    "from sklearn.model_selection import train_test_split\n",
    "\n",
    "# The test train split function takes the input dataframe and the target variable and splits it into sets\n",
    "# X_train is the input used to train the model\n",
    "# X_test is the input used for testing\n",
    "# y_train is the output used for training\n",
    "# y_test is the output variable used for testing\n",
    "X_train, X_test, y_train, y_test = train_test_split(stock_data, target, test_size = .25, random_state = 0)"
   ]
  },
  {
   "cell_type": "markdown",
   "metadata": {
    "collapsed": true
   },
   "source": [
    "** Now that our data has been split, it is time to train it on the various algorithms we will be using. **"
   ]
  },
  {
   "cell_type": "markdown",
   "metadata": {},
   "source": [
    "** The linear regression model is one of the most popular regression models. It attempts to find a relationship between the input and output variables using a best fit straight line (also known as regression line).**  \n",
    "[Documentation for Linear Regression](http://scikit-learn.org/stable/modules/generated/sklearn.linear_model.LinearRegression.html)"
   ]
  },
  {
   "cell_type": "code",
   "execution_count": 4,
   "metadata": {},
   "outputs": [
    {
     "data": {
      "text/plain": [
       "LinearRegression(copy_X=True, fit_intercept=True, n_jobs=1, normalize=False)"
      ]
     },
     "execution_count": 4,
     "metadata": {},
     "output_type": "execute_result"
    }
   ],
   "source": [
    "# Importing a LinearRegression model\n",
    "from sklearn.linear_model import LinearRegression\n",
    "\n",
    "# The linear model we will be using\n",
    "linearRegressionClassifier = LinearRegression()\n",
    "\n",
    "# This trains the linear model on the training data\n",
    "linearRegressionClassifier.fit(X_train, y_train)"
   ]
  },
  {
   "cell_type": "markdown",
   "metadata": {},
   "source": [
    "** We will use a model called support vector regression, a version of a classification model called support vector machine,  to compare its results to the linear regression model. **  \n",
    "[Documentation for SVR](http://scikit-learn.org/stable/modules/generated/sklearn.svm.SVR.html)"
   ]
  },
  {
   "cell_type": "code",
   "execution_count": 5,
   "metadata": {},
   "outputs": [
    {
     "data": {
      "text/plain": [
       "SVR(C=1.0, cache_size=200, coef0=0.0, degree=3, epsilon=0.1, gamma='auto',\n",
       "  kernel='rbf', max_iter=-1, shrinking=True, tol=0.001, verbose=False)"
      ]
     },
     "execution_count": 5,
     "metadata": {},
     "output_type": "execute_result"
    }
   ],
   "source": [
    "# Importing svm\n",
    "from sklearn import svm\n",
    "\n",
    "# The SVR model we will be using\n",
    "svm_classifier = svm.SVR()\n",
    "\n",
    "# This trains the model on the training data\n",
    "svm_classifier.fit(X_train, y_train)"
   ]
  },
  {
   "cell_type": "markdown",
   "metadata": {},
   "source": [
    "** K nearest neighbors, or KNN, is a algorithm that averages the k nearest values in order to make its prediction. There are versions for both classification and regression, though here we will be using the regression version.**  \n",
    "[Documentation for KNN regressor](http://scikit-learn.org/stable/modules/generated/sklearn.neighbors.KNeighborsRegressor.html)"
   ]
  },
  {
   "cell_type": "code",
   "execution_count": 6,
   "metadata": {},
   "outputs": [
    {
     "data": {
      "text/plain": [
       "KNeighborsRegressor(algorithm='auto', leaf_size=30, metric='minkowski',\n",
       "          metric_params=None, n_jobs=1, n_neighbors=4, p=2,\n",
       "          weights='uniform')"
      ]
     },
     "execution_count": 6,
     "metadata": {},
     "output_type": "execute_result"
    }
   ],
   "source": [
    "# Importing our model\n",
    "from sklearn.neighbors import KNeighborsRegressor\n",
    "\n",
    "# The KNNR model we will be using, with our K value as 4\n",
    "neighbors_classifier = KNeighborsRegressor(n_neighbors=4)\n",
    "\n",
    "# Here we train our model\n",
    "neighbors_classifier.fit(X_train, y_train)"
   ]
  },
  {
   "cell_type": "markdown",
   "metadata": {},
   "source": [
    "** Now that our models have been trained on our training data, its time to make predictions about the testing data. **"
   ]
  },
  {
   "cell_type": "code",
   "execution_count": 7,
   "metadata": {
    "collapsed": true
   },
   "outputs": [],
   "source": [
    "# These return an array of the predicted output values, the high price, for each model\n",
    "linear_prediction = linearRegressionClassifier.predict(X_test)\n",
    "svm_prediction = svm_classifier.predict(X_test)\n",
    "neighbors_prediction = neighbors_classifier.predict(X_test)"
   ]
  },
  {
   "cell_type": "markdown",
   "metadata": {},
   "source": [
    "** Now we will use several different metrics to measure how accurate each model was. The error will be used to measure the performance of the models. The error is the distance from a data point to the regression line.**"
   ]
  },
  {
   "cell_type": "markdown",
   "metadata": {},
   "source": [
    "** Mean absolute error measures the average absolute values of the errors. **  \n",
    "[Documentation for mean absolute error](http://scikit-learn.org/stable/modules/generated/sklearn.metrics.mean_absolute_error.html)"
   ]
  },
  {
   "cell_type": "code",
   "execution_count": 8,
   "metadata": {},
   "outputs": [
    {
     "name": "stdout",
     "output_type": "stream",
     "text": [
      "The mean absolute error for linear regression is  1.51743830799\n",
      "The mean absolute error for SVM regression is  3.76900858586\n",
      "The mean absolute error for KNN regression is  3.82642727273\n"
     ]
    }
   ],
   "source": [
    "# Importing the mean aboslute error function\n",
    "from sklearn.metrics import mean_absolute_error\n",
    "\n",
    "# Storing the MAE for the linear regression model into a variable\n",
    "linear_abs_error = mean_absolute_error(y_test, linear_prediction)\n",
    "\n",
    "# Storing the MAE for the SVR model into a variable\n",
    "svm_abs_error = mean_absolute_error(y_test, svm_prediction)\n",
    "\n",
    "# Storing the MAE for the KNN regression model into a variable\n",
    "neighbors_abs_error = mean_absolute_error(y_test, neighbors_prediction)\n",
    "\n",
    "print(\"The mean absolute error for linear regression is \", linear_abs_error)\n",
    "print(\"The mean absolute error for SVM regression is \", svm_abs_error)\n",
    "print(\"The mean absolute error for KNN regression is \", neighbors_abs_error)"
   ]
  },
  {
   "cell_type": "markdown",
   "metadata": {},
   "source": [
    "** Mean squared error measures the average of the squares of the errors. **  \n",
    "[Documentation for mean squared error](http://scikit-learn.org/stable/modules/generated/sklearn.metrics.mean_squared_error.html)"
   ]
  },
  {
   "cell_type": "code",
   "execution_count": 9,
   "metadata": {},
   "outputs": [
    {
     "name": "stdout",
     "output_type": "stream",
     "text": [
      "The mean squared error for linear regression is  3.29780037985\n",
      "The mean squared error for SVM regression is  22.7025350257\n",
      "The mean squared error for KNN regression is  22.7173076455\n"
     ]
    }
   ],
   "source": [
    "# Importing the mean squared error function\n",
    "from sklearn.metrics import mean_squared_error\n",
    "\n",
    "# Storing the MSE for the linear regression model into a variable\n",
    "linear_squared_error = mean_squared_error(y_test, linear_prediction)\n",
    "\n",
    "# Storing the MSE for the SVR model into a variable\n",
    "svm_squared_error = mean_squared_error(y_test, svm_prediction)\n",
    "\n",
    "# Storing the MSE for the KNN regression model into a variable\n",
    "neighbors_squared_error = mean_squared_error(y_test, neighbors_prediction)\n",
    "\n",
    "print(\"The mean squared error for linear regression is \", linear_squared_error)\n",
    "print(\"The mean squared error for SVM regression is \", svm_squared_error)\n",
    "print(\"The mean squared error for KNN regression is \", neighbors_squared_error)"
   ]
  },
  {
   "cell_type": "markdown",
   "metadata": {},
   "source": [
    "** Mean squared logarithmic error measures the ratio between the actual value and the predicted value. **  \n",
    "[Documentation for mean squared log error](http://scikit-learn.org/stable/modules/generated/sklearn.metrics.mean_squared_log_error.html)"
   ]
  },
  {
   "cell_type": "code",
   "execution_count": 10,
   "metadata": {},
   "outputs": [
    {
     "name": "stdout",
     "output_type": "stream",
     "text": [
      "The mean squared log error for linear regression is  0.00137982633362\n",
      "The mean squared log error for svm regression is  0.0091205426452\n",
      "The mean squared log error for KNN regression is  0.00928045777612\n"
     ]
    }
   ],
   "source": [
    "# Importing the mean squared log error function\n",
    "from sklearn.metrics import mean_squared_log_error\n",
    "\n",
    "# Storing the MSLE for the linear regression model into a variable\n",
    "linear_log_error = mean_squared_log_error(y_test, linear_prediction)\n",
    "\n",
    "# Storing the MSLE for the SVR model into a variable\n",
    "svm_log_error = mean_squared_log_error(y_test, svm_prediction)\n",
    "\n",
    "# Storing the MSLE for the KNN regression model into a variable\n",
    "neighbors_log_error = mean_squared_log_error(y_test, neighbors_prediction)\n",
    "\n",
    "print(\"The mean squared log error for linear regression is \", linear_log_error)\n",
    "print(\"The mean squared log error for svm regression is \", svm_log_error)\n",
    "print(\"The mean squared log error for KNN regression is \", neighbors_log_error)"
   ]
  },
  {
   "cell_type": "markdown",
   "metadata": {},
   "source": [
    "** The median absolute error is similiar to the mean absolute error but is less effected by outliers in the data.**  \n",
    "[Documentation for median absolute error](http://scikit-learn.org/stable/modules/generated/sklearn.metrics.median_absolute_error.html)"
   ]
  },
  {
   "cell_type": "code",
   "execution_count": 11,
   "metadata": {},
   "outputs": [
    {
     "name": "stdout",
     "output_type": "stream",
     "text": [
      "The median absolute error for linear regression is  1.37974014166\n",
      "The median absolute error for svm regression is  3.00675\n",
      "The median absolute error for KNN regression is  3.1725\n"
     ]
    }
   ],
   "source": [
    "# Importing the median absolute error function\n",
    "from sklearn.metrics import median_absolute_error\n",
    "\n",
    "# Storing the Median absolute error for the linear regression model into a variable\n",
    "linear_median_error = median_absolute_error(y_test, linear_prediction)\n",
    "\n",
    "# Storing the Median absolute error for the svr model into a variable\n",
    "svm_median_error = median_absolute_error(y_test, svm_prediction)\n",
    "\n",
    "# Storing the Median absolute error for the KNN model into a variable\n",
    "neighbors_median_error = median_absolute_error(y_test, neighbors_prediction)\n",
    "\n",
    "print(\"The median absolute error for linear regression is \", linear_median_error)\n",
    "print(\"The median absolute error for svm regression is \", svm_median_error)\n",
    "print(\"The median absolute error for KNN regression is \", neighbors_median_error)"
   ]
  },
  {
   "cell_type": "markdown",
   "metadata": {},
   "source": [
    "** The R2 score is a statistical measure of how close the data is to the regression line. The closer to 1 the score is, the better the data fits the line.**  \n",
    "[Documentation for R2 score](http://scikit-learn.org/stable/modules/generated/sklearn.metrics.r2_score.html)"
   ]
  },
  {
   "cell_type": "code",
   "execution_count": 12,
   "metadata": {},
   "outputs": [
    {
     "name": "stdout",
     "output_type": "stream",
     "text": [
      "The r2 score for linear regression is  0.846068981629\n",
      "The r2 score for svm regression is  -0.0596834051766\n",
      "The r2 score for KNN regression is  -0.0603729449121\n"
     ]
    }
   ],
   "source": [
    "from sklearn.metrics import r2_score\n",
    "\n",
    "linear_r2 = r2_score(y_test, linear_prediction)\n",
    "\n",
    "svm_r2 = r2_score(y_test, svm_prediction)\n",
    "\n",
    "neighbors_r2 = r2_score(y_test, neighbors_prediction)\n",
    "\n",
    "print(\"The r2 score for linear regression is \", linear_r2)\n",
    "print(\"The r2 score for svm regression is \", svm_r2)\n",
    "print(\"The r2 score for KNN regression is \", neighbors_r2)"
   ]
  },
  {
   "cell_type": "markdown",
   "metadata": {
    "collapsed": true
   },
   "source": [
    "** The linear regression model outperformed both of the other models in every metric so we will be using it for our prediction. I have selected the date of April 2, 2018 to try and predict the high price 5 market days later, on April 9, 2018.**"
   ]
  },
  {
   "cell_type": "code",
   "execution_count": 18,
   "metadata": {},
   "outputs": [
    {
     "name": "stdout",
     "output_type": "stream",
     "text": [
      "[ 46.57805929]\n"
     ]
    }
   ],
   "source": [
    "# The stock prices for the selected dates. Our goal here is for the prediction to be close to 47.38\n",
    "#--TimeStamp----Open---High-----Low-----Close--Adj Close--Volume\n",
    "#Apr 02, 2018\t46.69\t46.70\t45.20\t46.09\t46.09\t9,091,600\n",
    "#Apr 09, 2018\t47.25\t47.38\t46.48\t46.56\t46.56\t8,553,100\n",
    "\n",
    "# I have entered the inputs for april 2 into a 2D array so it can be used in the model\n",
    "april_02_18 = [[46.69, 46.70, 45.20, 46.09, 46.09, 9091600]]\n",
    "\n",
    "# The input is entered into the model and a prediction is made\n",
    "april_09_18_predict = linearRegressionClassifier.predict(april_02_18)\n",
    "\n",
    "print(april_09_18_predict)"
   ]
  },
  {
   "cell_type": "markdown",
   "metadata": {},
   "source": [
    "**We wanted 47.38 but ended up with 46.58. This is not a desirable result, but given the simplicity of our model and how unpredictable stocks prices can be, this is not suprising.**"
   ]
  },
  {
   "cell_type": "code",
   "execution_count": null,
   "metadata": {
    "collapsed": true
   },
   "outputs": [],
   "source": []
  }
 ],
 "metadata": {
  "kernelspec": {
   "display_name": "Python 3",
   "language": "python",
   "name": "python3"
  },
  "language_info": {
   "codemirror_mode": {
    "name": "ipython",
    "version": 3
   },
   "file_extension": ".py",
   "mimetype": "text/x-python",
   "name": "python",
   "nbconvert_exporter": "python",
   "pygments_lexer": "ipython3",
   "version": "3.6.4"
  }
 },
 "nbformat": 4,
 "nbformat_minor": 2
}
